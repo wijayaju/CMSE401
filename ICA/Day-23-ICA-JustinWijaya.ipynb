{
 "cells": [
  {
   "cell_type": "markdown",
   "metadata": {},
   "source": [
    "In order to successfully complete this assignment you need to participate both individually and in groups during class.   Have one of the instructors check your notebook and sign you out before leaving class. Turn in your assignment using D2L. "
   ]
  },
  {
   "cell_type": "markdown",
   "metadata": {},
   "source": [
    "---"
   ]
  },
  {
   "cell_type": "markdown",
   "metadata": {},
   "source": [
    "# In-Class Assignment: Alternatives\n",
    "\n",
    "<table>\n",
    "  <tr>\n",
    "    <td><img src=\"https://external-content.duckduckgo.com/iu/?u=https%3A%2F%2Fdeveloper.nvidia.com%2Fsites%2Fdefault%2Ffiles%2Fakamai%2Fcomputeworks%2Fimages%2FOpenACC-logo-tagline-2C-RGB.png&f=1&nofb=1\"></td>\n",
    "    <td><img src=\"https://upload.wikimedia.org/wikipedia/en/thumb/1/1c/OpenCL_Logo.svg/1920px-OpenCL_Logo.svg.png\" width=\"50%\"></td>\n",
    "  </tr>\n",
    "</table>"
   ]
  },
  {
   "cell_type": "markdown",
   "metadata": {},
   "source": [
    "### Agenda for today's class (70 minutes)\n",
    "\n",
    "1. (20 minutes) [Pre class Review](#Pre-class-Review)\n",
    "2. (5 minutes) [Submitting CUDA Jobs on the HPCC](#Submitting-CUDA-Jobs-on-the-HPCC)\n",
    "4. (20 minutes) [Homework Questions](#Homework-Questions)\n",
    "5. (25 minutes) [Introducing MPI](#Introducing-MPI)\n",
    "\n"
   ]
  },
  {
   "cell_type": "markdown",
   "metadata": {},
   "source": [
    "\n",
    "\n",
    "---\n",
    "<a name=Pre-class-Review></a>\n",
    "# 1. Pre class Review\n",
    "\n",
    "Discuss the various alternatives to cuda and their pros and cons."
   ]
  },
  {
   "cell_type": "markdown",
   "metadata": {},
   "source": [
    "\n",
    "\n",
    "---\n",
    "<a name=Submitting-CUDA-Jobs-on-the-HPCC></a>\n",
    "# 2. Submitting CUDA Jobs on the HPCC\n",
    "\n",
    "Review the below code on how to submit a CUDA job to the HPCC. \n"
   ]
  },
  {
   "cell_type": "code",
   "execution_count": 5,
   "metadata": {},
   "outputs": [
    {
     "name": "stdout",
     "output_type": "stream",
     "text": [
      "Writing cuda_submit.sb\n"
     ]
    }
   ],
   "source": [
    "%%writefile cuda_submit.sb\n",
    "#!/bin/bash\n",
    "#SBATCH --time=01:00:00\n",
    "#SBATCH -c 1\n",
    "#SBATCH -N 1\n",
    "#SBATCH --gres=gpu:1\n",
    "#SBATCH --mem=4gb\n",
    "\n",
    "cd ${SLURM_SUBMIT_DIR}\n",
    "\n",
    "\n",
    "time srun ./mycudaprogram\n",
    "\n",
    "#Prints out job statistics\n",
    "js ${SLURM_JOB_ID}"
   ]
  },
  {
   "cell_type": "code",
   "execution_count": 9,
   "metadata": {},
   "outputs": [
    {
     "name": "stdout",
     "output_type": "stream",
     "text": [
      "zsh:1: command not found: sbatch\n"
     ]
    }
   ],
   "source": [
    "!\\sbatch cuda_submit.sb"
   ]
  },
  {
   "cell_type": "markdown",
   "metadata": {},
   "source": [
    "\n",
    "---\n",
    "<a name=Homework-Questions></a>\n",
    "# 3. Homework Questions\n",
    "\n",
    "\n",
    "\n",
    "Homework 3 is due Sunday.  If you are struggling with anything, use this time in class to get help. Ask me questions or work together with your groups to figure out how to get the CUDA code working. "
   ]
  },
  {
   "cell_type": "markdown",
   "metadata": {},
   "source": [
    "\n",
    "\n",
    "---\n",
    "<a name=Introducing-MPI></a>\n",
    "# 4. Introducing MPI\n",
    "\n",
    "Our next big topic in class will be doing \"Shared Network Parallization\" using MPI (Message Passing Interface).  MPI and it's libraries are loaded by default on the HPCC.  \n",
    "\n",
    "&#9989; **<font color=red>DO THIS:</font>** Get either the Pandemic or Galaxsee example working using MPI on the HPCC.  Here are the basic steps:\n",
    "\n",
    "1. Compile the code without X11 options (there are no monitors on the HPC side.  \n",
    "2. Write a submission script (similar to the one below). \n",
    "3. Submit the job and debug any errors. "
   ]
  },
  {
   "cell_type": "code",
   "execution_count": null,
   "metadata": {},
   "outputs": [],
   "source": [
    "%%writefile cuda_submit.sb\n",
    "#!/bin/bash\n",
    "#SBATCH --time=01:00:00\n",
    "#SBATCH -c 1\n",
    "#SBATCH -N 10\n",
    "#SBATCH --mem=40gb\n",
    "\n",
    "time srun ./mympiprogram\n",
    "\n",
    "#Prints out job statistics\n",
    "js ${SLURM_JOB_ID}"
   ]
  },
  {
   "cell_type": "markdown",
   "metadata": {},
   "source": [
    "&#9989; **<font color=red>QUESTION:</font>** What is different about the above submission script as compared to a shared memory job (OpenMP) or a GPU job (CUDA)? "
   ]
  },
  {
   "cell_type": "markdown",
   "metadata": {},
   "source": [
    "It uses way more memory than what we've been using for shared memory and GPU jobs."
   ]
  },
  {
   "cell_type": "markdown",
   "metadata": {},
   "source": [
    "&#9989; **<font color=red>DO THIS:</font>** What would a scaling study look like for this type of job?  Can you think of a way to automatically vary the number of nodes (N) from from 1,2,4,8 etc?"
   ]
  },
  {
   "cell_type": "markdown",
   "metadata": {},
   "source": [
    "Do a for loop using the number of nodes as the iterator and have the srun command take the number of nodes as an argument."
   ]
  },
  {
   "cell_type": "markdown",
   "metadata": {},
   "source": [
    "\n",
    "-----\n",
    "### Congratulations, we're done!\n",
    "\n",
    "Have one of the instructors check your notebook and sign you out before leaving class. Turn in your assignment using D2L."
   ]
  },
  {
   "cell_type": "markdown",
   "metadata": {},
   "source": [
    "Written by Dr. Dirk Colbry, Michigan State University (Updated by Dr. Nathan Haut in Spring 2025)\n",
    "<a rel=\"license\" href=\"http://creativecommons.org/licenses/by-nc/4.0/\"><img alt=\"Creative Commons License\" style=\"border-width:0\" src=\"https://i.creativecommons.org/l/by-nc/4.0/88x31.png\" /></a><br />This work is licensed under a <a rel=\"license\" href=\"http://creativecommons.org/licenses/by-nc/4.0/\">Creative Commons Attribution-NonCommercial 4.0 International License</a>."
   ]
  },
  {
   "cell_type": "markdown",
   "metadata": {},
   "source": [
    "----"
   ]
  }
 ],
 "metadata": {
  "kernelspec": {
   "display_name": "Python [conda env:base] *",
   "language": "python",
   "name": "conda-base-py"
  },
  "language_info": {
   "codemirror_mode": {
    "name": "ipython",
    "version": 3
   },
   "file_extension": ".py",
   "mimetype": "text/x-python",
   "name": "python",
   "nbconvert_exporter": "python",
   "pygments_lexer": "ipython3",
   "version": "3.12.7"
  }
 },
 "nbformat": 4,
 "nbformat_minor": 4
}
