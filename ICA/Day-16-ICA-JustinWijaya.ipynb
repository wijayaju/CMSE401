{
 "cells": [
  {
   "cell_type": "markdown",
   "metadata": {},
   "source": [
    "In order to successfully complete this assignment you need to participate both individually and in groups during class.   Have one of the instructors check your notebook and sign you out before leaving class. Turn in your assignment using D2L. "
   ]
  },
  {
   "cell_type": "markdown",
   "metadata": {},
   "source": [
    "---\n"
   ]
  },
  {
   "cell_type": "markdown",
   "metadata": {},
   "source": [
    "# In-Class Assignment: Debugging Parrallel Problems\n",
    "\n",
    "<img src=\"http://farm3.static.flickr.com/2632/3763969995_6aae9c3b42_o.png\" alt=\"cartoon picture showing two archers trying to borrow each others bow as a humourous example of deadlock. Ultimately one of them gets shot as a quote ultimately victim of deadlock.\">\n",
    "\n",
    "\n",
    "Image from: http://michaeljswart.com/2009/07/deadlocks-explained/"
   ]
  },
  {
   "cell_type": "markdown",
   "metadata": {},
   "source": [
    "### Agenda for today's class (70 minutes)\n",
    "\n",
    "\n",
    "1. (20 minutes) [Pre class Review](#Pre-class-Review)\n",
    "2. (20 minutes) [Quiz2 Review](#Quiz2-Review)\n",
    "3. (20 minutes) [Code Review](#Code-Review)\n",
    "4. (10 minutes) [Deadlock](#Deadlock)\n",
    "\n",
    "\n"
   ]
  },
  {
   "cell_type": "markdown",
   "metadata": {},
   "source": [
    "\n",
    "\n",
    "\n",
    "---\n",
    "<a name=Pre-class-Review></a>\n",
    "# 1. Pre class Review\n",
    "\n",
    "&#9989; **<font color=red>QUESTION:</font>** Discuss the importance of locks with your group and explain the difference between a lock and a critical section. \n",
    "\n",
    "\n"
   ]
  },
  {
   "cell_type": "markdown",
   "metadata": {},
   "source": [
    "**Summarize your discussion here**\n",
    "* dif locks for dif parts of a database bs critical section than blocks access to the whole database.\n",
    "* more fine-grained control than critical section"
   ]
  },
  {
   "cell_type": "markdown",
   "metadata": {},
   "source": [
    "\n",
    "\n",
    "---\n",
    "<a name=Quiz2-Review></a>\n",
    "# 2. Quiz2 Review\n",
    "\n",
    "As a class we will review quiz 2. \n",
    "\n"
   ]
  },
  {
   "cell_type": "markdown",
   "metadata": {},
   "source": [
    "\n",
    "---\n",
    "<a name=Code-Review></a>\n",
    "# 3.  Code Review\n",
    "Lets spend a few moments reviewing what we have learned about OpenMP by doing a code review of the following projects.\n",
    "\n",
    "### Getexample Example\n",
    "\n",
    "\n",
    "Download the ```openmp_exercise``` getexample.  Review the code in your groups and figure out what it is doing.\n",
    "\n",
    "Disscuss in your groups and share with the class."
   ]
  },
  {
   "cell_type": "markdown",
   "metadata": {},
   "source": [
    "\n",
    "### Pandemic Example\n",
    "\n",
    "\n",
    "\n",
    "\n",
    "\n",
    "Review the Pandemic code in your groups and figure out what it is doing.\n",
    "\n",
    "Disscuss in your groups and share with the class."
   ]
  },
  {
   "cell_type": "markdown",
   "metadata": {},
   "source": [
    "### Race Condition Example\n",
    "\n",
    "\n",
    "Try to find and suggest a fix for the race condition in the following code.\n",
    "\n",
    "Example from: https://github.com/ofloveandhate/adv_sci_comp_spring2017/tree/master/openmp/problems\n",
    "\n",
    "```c++\n",
    "\n",
    "\n",
    "#include <omp.h>\n",
    "\n",
    "#include <vector>\n",
    "#include <iostream>\n",
    "\n",
    "int main()\n",
    "{\n",
    "\tint counter = 0;\n",
    "\tint size = 1000;\n",
    "\t#pragma omp parallel for\n",
    "\tfor (int ii=0; ii<size; ++ii)\n",
    "\t{\n",
    "\t\tif (ii%2)\n",
    "\t\t\t++counter;\n",
    "\t}\n",
    "\n",
    "\n",
    "\tstd::cout << counter << '\\n';\n",
    "\n",
    "\treturn 0;\n",
    "}\n",
    "\n",
    "```"
   ]
  },
  {
   "cell_type": "markdown",
   "metadata": {},
   "source": [
    "Use reduction on counter"
   ]
  },
  {
   "cell_type": "markdown",
   "metadata": {},
   "source": [
    "\n",
    "\n",
    "\n",
    "---\n",
    "<a name=Deadlock></a>\n",
    "# 4. Deadlock\n",
    "\n",
    "\n",
    "Try to find and suggest a fix for the deadlock in the following code.\n",
    "\n",
    "Example from: https://github.com/ofloveandhate/adv_sci_comp_spring2017/tree/master/openmp/problems\n",
    "\n",
    "```c++\n",
    "#include <omp.h>\n",
    "#include <vector>\n",
    "#include <iostream>\n",
    "\n",
    "// uses unspecified name for critical region.\n",
    "void foo()\n",
    "{\n",
    "\t#pragma omp parallel\n",
    "\t#pragma omp critical\n",
    "\t{\n",
    "\t\tauto id = omp_get_thread_num();\n",
    "\t\tstd::cout << \"o,hai there, i'm \" << id << '\\n';\n",
    "\t}\n",
    "\n",
    "}\n",
    "\n",
    "// goes with foo above.\n",
    "// uses an unspecified name for critical region.\n",
    "void deadlockA()\n",
    "{\n",
    "\tint sum = 0;\n",
    "\n",
    "\t#pragma omp parallel for\n",
    "\tfor (int ii=0; ii<100; ++ii)\n",
    "\t{\n",
    "\t\t#pragma omp critical\n",
    "\t\t{\n",
    "\t\t\tsum += ii;\n",
    "\t\t\tfoo();\n",
    "\t\t}\n",
    "\t}\n",
    "}\n",
    "\n",
    "\n",
    "// slightly different than A.  causes deadlock\n",
    "// even when using names for the critical sections\n",
    "void deadlockB()\n",
    "{\n",
    "\t#pragma omp parallel\n",
    "\t{\n",
    "\t\t#pragma omp critical(A)\n",
    "\t\t{\n",
    "\t\t\t#pragma omp critical(B)\n",
    "\t\t\t{\n",
    "\t\t\t\tstd::cout << \"whassup\\n\";\n",
    "\t\t\t}\n",
    "\t\t}\n",
    "\t\t#pragma omp critical(B)\n",
    "\t\t{\n",
    "\t\t\t#pragma omp critical(A)\n",
    "\t\t\t{\n",
    "\t\t\t\tstd::cout << \"ahoy\\n\";\n",
    "\t\t\t}\n",
    "\t\t}\n",
    "\t}\n",
    "\n",
    "}\n",
    "\n",
    "\n",
    "\n",
    "int main()\n",
    "{\n",
    "\tdeadlockB();\n",
    "\treturn 0;\n",
    "}\n",
    "```"
   ]
  },
  {
   "cell_type": "markdown",
   "metadata": {},
   "source": [
    "collapse critical sections since they aren't dependent on the other critical section"
   ]
  },
  {
   "cell_type": "markdown",
   "metadata": {},
   "source": [
    "-----\n",
    "### Congratulations, we're done!\n",
    "\n",
    "Have one of the instructors check your notebook and sign you out before leaving class. Turn in your assignment using D2L."
   ]
  },
  {
   "cell_type": "markdown",
   "metadata": {},
   "source": [
    "Written by Dr. Dirk Colbry, Michigan State University (Updated by Dr. Nathan Haut in Spring 2025)\n",
    "<a rel=\"license\" href=\"http://creativecommons.org/licenses/by-nc/4.0/\"><img alt=\"Creative Commons License\" style=\"border-width:0\" src=\"https://i.creativecommons.org/l/by-nc/4.0/88x31.png\" /></a><br />This work is licensed under a <a rel=\"license\" href=\"http://creativecommons.org/licenses/by-nc/4.0/\">Creative Commons Attribution-NonCommercial 4.0 International License</a>."
   ]
  },
  {
   "cell_type": "markdown",
   "metadata": {},
   "source": [
    "----"
   ]
  }
 ],
 "metadata": {
  "kernelspec": {
   "display_name": "Python [conda env:base] *",
   "language": "python",
   "name": "conda-base-py"
  },
  "language_info": {
   "codemirror_mode": {
    "name": "ipython",
    "version": 3
   },
   "file_extension": ".py",
   "mimetype": "text/x-python",
   "name": "python",
   "nbconvert_exporter": "python",
   "pygments_lexer": "ipython3",
   "version": "3.12.7"
  }
 },
 "nbformat": 4,
 "nbformat_minor": 4
}
