{
 "cells": [
  {
   "cell_type": "markdown",
   "metadata": {},
   "source": [
    "In order to successfully complete this assignment you need to participate both individually and in groups during class.   Have one of the instructors check your notebook and sign you out before leaving class. Turn in your assignment using D2L. "
   ]
  },
  {
   "cell_type": "markdown",
   "metadata": {},
   "source": [
    "---\n"
   ]
  },
  {
   "cell_type": "markdown",
   "metadata": {},
   "source": [
    "# ICA 29: Project part 1\n",
    "\n",
    "<img alt=\"Picture Motivating group work\" src=\"https://www.optometricmanagement.com/archive/2012/November/images/OM_November_A13_Fig01.jpg\" width=40%>\n",
    "\n",
    "Image From: http://web.eecs.utk.edu/~huangj/\n"
   ]
  },
  {
   "cell_type": "markdown",
   "metadata": {},
   "source": [
    "### Agenda for today's class (70 minutes)\n",
    "\n",
    "1. (30 minutes) [Round Robin Presentations](#Round-Robin-Presentations)\n",
    "3. (20 minutes) [Project Debrief](#Project-Debrief)\n",
    "4. (20 minutes) [Rumor Example Continued](#Rumor-Example-Continued)\n",
    "\n"
   ]
  },
  {
   "cell_type": "markdown",
   "metadata": {},
   "source": [
    "\n",
    "\n",
    "---\n",
    "<a name=Round-Robin-Presentations></a>\n",
    "# 1. Round Robin Presentations\n",
    "\n",
    "\n",
    "\n",
    "In your groups, share what each of you have been doing with your project, progress made so far and any roadblocks you may be having.  The goal is to let everyone talk but also have a discussion with each other. Try to talk for about 10 minutes for each presentation.  The instructor will be coming around to listen to 1-2 minutes of your presentation and potentially ask you some questions.\n",
    "\n",
    "For each presentation designate someone as a timekeeper and someone else as the note taker. Rotate the roles. "
   ]
  },
  {
   "cell_type": "markdown",
   "metadata": {},
   "source": [
    "\n",
    "\n",
    "---\n",
    "<a name=Project-Debrief></a>\n",
    "# 2. Project Debrief\n",
    "\n",
    "\n",
    "Take special note of any common roadblocks that you see may be hindering the progress of your project. See if you can resolve any issues by working with your group. If you are encountering significant challenges after working through part 1, discuss this with the instructor to see if we can get you back on track. "
   ]
  },
  {
   "cell_type": "markdown",
   "metadata": {},
   "source": [
    "\n",
    "\n",
    "---\n",
    "<a name=Rumor-Example-Continued></a>\n",
    "# 3. Rumor Example Continued\n",
    "\n",
    "Use the rest of the class to continue working on the rumor example. If you get a solution working, discuss your solution with your group. "
   ]
  },
  {
   "cell_type": "markdown",
   "metadata": {},
   "source": [
    "-----\n",
    "### Congratulations, we're done!\n",
    "\n",
    "Have one of the instructors check your notebook and sign you out before leaving class. Turn in your assignment using D2L."
   ]
  },
  {
   "cell_type": "markdown",
   "metadata": {},
   "source": [
    "Written by Dr. Dirk Colbry, Michigan State University (Updated by Dr. Nathan Haut in Spring 2025)\n",
    "<a rel=\"license\" href=\"http://creativecommons.org/licenses/by-nc/4.0/\"><img alt=\"Creative Commons License\" style=\"border-width:0\" src=\"https://i.creativecommons.org/l/by-nc/4.0/88x31.png\" /></a><br />This work is licensed under a <a rel=\"license\" href=\"http://creativecommons.org/licenses/by-nc/4.0/\">Creative Commons Attribution-NonCommercial 4.0 International License</a>."
   ]
  },
  {
   "cell_type": "markdown",
   "metadata": {},
   "source": [
    "----"
   ]
  }
 ],
 "metadata": {
  "kernelspec": {
   "display_name": "Python [conda env:base] *",
   "language": "python",
   "name": "conda-base-py"
  },
  "language_info": {
   "codemirror_mode": {
    "name": "ipython",
    "version": 3
   },
   "file_extension": ".py",
   "mimetype": "text/x-python",
   "name": "python",
   "nbconvert_exporter": "python",
   "pygments_lexer": "ipython3",
   "version": "3.12.7"
  }
 },
 "nbformat": 4,
 "nbformat_minor": 4
}
