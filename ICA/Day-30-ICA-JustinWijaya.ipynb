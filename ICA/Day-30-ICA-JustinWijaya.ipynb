{
 "cells": [
  {
   "cell_type": "markdown",
   "metadata": {},
   "source": [
    "In order to successfully complete this assignment you need to participate both individually and in groups during class.   Have one of the instructors check your notebook and sign you out before leaving class. Turn in your assignment using D2L no later than **11:59pm**. "
   ]
  },
  {
   "cell_type": "markdown",
   "metadata": {},
   "source": [
    "---\n"
   ]
  },
  {
   "cell_type": "markdown",
   "metadata": {},
   "source": [
    "# In-Class Assignment: MPI Errors\n",
    "\n",
    "<img src=\"https://cdn.pixabay.com/photo/2016/10/04/13/52/fail-1714367_960_720.jpg\" width=30%>\n",
    "<p style=\"text-align: right;\">Animation from: [Pixabay](https://pixabay.com/)</p>"
   ]
  },
  {
   "cell_type": "markdown",
   "metadata": {},
   "source": [
    "### Agenda for today's class (70 minutes)\n",
    "\n",
    "</p>\n",
    "\n",
    "1. (10 minutes) Pre-class Review \n",
    "2. (30 minutes) MPI Error Example\n",
    "3. (20 minutes) Rumor Mill\n",
    "4. (10 minutes) Quiz Prep"
   ]
  },
  {
   "cell_type": "markdown",
   "metadata": {},
   "source": [
    "---\n",
    "# 1. Pre-class Review \n",
    "\n",
    "&#9989; **<font color=red>DO THIS:</font>** Discuss the references you found for error handling in MPI with your group. Below, summarize your findings for handling errors in MPI.  "
   ]
  },
  {
   "cell_type": "markdown",
   "metadata": {},
   "source": [
    "---\n",
    "\n",
    "# 2. MPI Error Example\n",
    "\n",
    "As a class, lets look at our code from Friday and add Error Checking. \n",
    "\n",
    "\n",
    "How do we check if error handling is working?"
   ]
  },
  {
   "cell_type": "markdown",
   "metadata": {},
   "source": [
    "```c++\n",
    "#include <mpi.h>\n",
    "#include <stdio.h>\n",
    "static long num_steps = 100000; double step;\n",
    "\n",
    "int main(int argc, char** argv)\n",
    "{ \n",
    "    int i, nthreads; double pi, sum;\n",
    "     step = 1.0/(double) num_steps;\n",
    "    int rank, size;\n",
    "\n",
    "    MPI_Init(&argc, &argv);\n",
    "    MPI_Comm_rank(MPI_COMM_WORLD, &rank); // Rank (ID) of this process\n",
    "    MPI_Comm_size(MPI_COMM_WORLD, &size); // Total size of MPI job\n",
    "    MPI_Status status;\n",
    "     \n",
    "     {\n",
    "         int i, id,nthrds;\n",
    "         double x;\n",
    "         id = rank;\n",
    "         nthrds = size;\n",
    "         nthreads = nthrds;\n",
    "         for (i=id, sum=0.0;i< num_steps; i=i+nthrds) {\n",
    "             x = (i+0.5)*step;\n",
    "             sum += 4.0/(1.0+x*x);\n",
    "         }\n",
    "     }\n",
    "    \n",
    "   \n",
    "    if (rank == 0) {    \n",
    "        double procsum;\n",
    "        pi = sum * step;\n",
    "        for(int proc=1;proc<nthreads;proc++)\n",
    "        {\n",
    "            /* recv sums from all other processors */\n",
    "            MPI_Recv(&procsum,1,MPI_DOUBLE,proc,1,MPI_COMM_WORLD, &status);\n",
    "            pi += procsum * step;\n",
    "        }\n",
    "        printf(\"Pi = %f\\n\",pi);\n",
    "    } else {\n",
    "        /*Send rank 0 my sum*/\n",
    "        MPI_Send(&sum,1,MPI_DOUBLE,0,1,MPI_COMM_WORLD);\n",
    "    }\n",
    "    \n",
    "\n",
    "    MPI_Finalize();\n",
    "}\n",
    "```"
   ]
  },
  {
   "cell_type": "markdown",
   "metadata": {},
   "source": [
    "```c\n",
    "#include <mpi.h>\n",
    "#include <stdio.h>\n",
    "static long num_steps = 100000; double step;\n",
    "\n",
    "void checkError(int comm, int rank)\n",
    "{\n",
    "    if (comm != MPI_SUCCESS)\n",
    "    {\n",
    "        char error_string[MPI_MAX_ERROR_STRING];\n",
    "        int length_of_error_string;\n",
    "        MPI_Error_string(comm, error_string, &length_of_error_string);\n",
    "        printf(\"Rank %d: Caught MPI error: %s\\n\", rank, error_string);\n",
    "    }\n",
    "}\n",
    "\n",
    "int main(int argc, char** argv)\n",
    "{ \n",
    "    int i, nthreads; double pi, sum;\n",
    "    step = 1.0/(double) num_steps;\n",
    "    int rank, size, err_code;\n",
    "\n",
    "    MPI_Init(&argc, &argv);\n",
    "    MPI_Comm_set_errhandler(MPI_COMM_WORLD, MPI_ERRORS_RETURN);  // Set error handler\n",
    "    err_code = MPI_Comm_rank(MPI_COMM_WORLD, &rank); // Rank (ID) of this process\n",
    "    checkError(err_code, rank);\n",
    "    err_code = MPI_Comm_size(MPI_COMM_WORLD, &size); // Total size of MPI job\n",
    "    checkError(err_code, rank);\n",
    "    MPI_Status status;\n",
    "\n",
    "     {\n",
    "         int i, id,nthrds;\n",
    "         double x;\n",
    "         id = rank;\n",
    "         nthrds = size;\n",
    "         nthreads = nthrds;\n",
    "         for (i=id, sum=0.0;i< num_steps; i=i+nthrds) {\n",
    "             x = (i+0.5)*step;\n",
    "             sum += 4.0/(1.0+x*x);\n",
    "         }\n",
    "     }\n",
    "    \n",
    "   \n",
    "    if (rank == 0) {    \n",
    "        double procsum;\n",
    "        pi = sum * step;\n",
    "        for(int proc=1;proc<nthreads;proc++)\n",
    "        {\n",
    "            /* recv sums from all other processors */\n",
    "            err_code = MPI_Recv(&procsum,1,MPI_DOUBLE,proc,1,MPI_COMM_WORLD, &status);\n",
    "            checkError(err_code, rank);\n",
    "            pi += procsum * step;\n",
    "        }\n",
    "        printf(\"Pi = %f\\n\",pi);\n",
    "    } else {\n",
    "        /*Send rank 0 my sum*/\n",
    "        err_code = MPI_Send(&sum,1,MPI_DOUBLE,0,1,MPI_COMM_WORLD);\n",
    "        checkError(err_code, rank);\n",
    "    }\n",
    "    \n",
    "\n",
    "    MPI_Finalize();\n",
    "}\n",
    "```"
   ]
  },
  {
   "cell_type": "markdown",
   "metadata": {},
   "source": [
    "---\n",
    "<a name=Rumor-Example-Continued></a>\n",
    "# 3. Rumor Example Continued\n",
    "\n",
    "Use the rest of the class to continue working on the rumor example. If you get a solution working, discuss your solution with your group. "
   ]
  },
  {
   "cell_type": "markdown",
   "metadata": {},
   "source": [
    "---\n",
    "<a name=Quiz></a>\n",
    "# 4. Use the remainder of class to review for the MPI quiz.\n",
    "\n",
    "Next class we will have an MPI quiz to check understanding of the MPI content we have covered so far. Be sure to review the general MPI workflow and ask questions if you are feeling confused about any of the MPI content so far. "
   ]
  },
  {
   "cell_type": "markdown",
   "metadata": {},
   "source": [
    "\n",
    "-----\n",
    "### Congratulations, we're done!\n",
    "\n",
    "Have one of the instructors check your notebook and sign you out before leaving class. Turn in your assignment using D2L."
   ]
  },
  {
   "cell_type": "markdown",
   "metadata": {},
   "source": [
    "Written by Dr. Dirk Colbry, Michigan State University (Updated by Dr. Nathan Haut in Spring 2025)\n",
    "<a rel=\"license\" href=\"http://creativecommons.org/licenses/by-nc/4.0/\"><img alt=\"Creative Commons License\" style=\"border-width:0\" src=\"https://i.creativecommons.org/l/by-nc/4.0/88x31.png\" /></a><br />This work is licensed under a <a rel=\"license\" href=\"http://creativecommons.org/licenses/by-nc/4.0/\">Creative Commons Attribution-NonCommercial 4.0 International License</a>."
   ]
  },
  {
   "cell_type": "markdown",
   "metadata": {},
   "source": [
    "----"
   ]
  }
 ],
 "metadata": {
  "kernelspec": {
   "display_name": "Python [conda env:base] *",
   "language": "python",
   "name": "conda-base-py"
  },
  "language_info": {
   "codemirror_mode": {
    "name": "ipython",
    "version": 3
   },
   "file_extension": ".py",
   "mimetype": "text/x-python",
   "name": "python",
   "nbconvert_exporter": "python",
   "pygments_lexer": "ipython3",
   "version": "3.12.7"
  }
 },
 "nbformat": 4,
 "nbformat_minor": 4
}
