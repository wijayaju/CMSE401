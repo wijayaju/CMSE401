{
 "cells": [
  {
   "cell_type": "markdown",
   "metadata": {
    "editable": true,
    "slideshow": {
     "slide_type": ""
    },
    "tags": []
   },
   "source": [
    "In order to successfully complete this assignment you need to participate both individually and in groups during class. Have one of the instructors check your notebook and sign you out before leaving class. Turn in your assignment using D2L. "
   ]
  },
  {
   "cell_type": "markdown",
   "metadata": {},
   "source": [
    "---\n"
   ]
  },
  {
   "cell_type": "markdown",
   "metadata": {},
   "source": [
    "# ICA 27: The Message Passing Interface (MPI)\n",
    "\n",
    "\n",
    "<img alt=\"Picture of kids passing a note in class. This is intended to motivate the message passing aspect of MPI\" src=\"http://1.bp.blogspot.com/-eTmOoEj_cIc/UJVy9B9J6QI/AAAAAAAAEnA/-GZkYJv1t6c/s320/passing-notes.jpg\" width=\"50%\">\n",
    "\n",
    "Image from: https://www.appianimosaic.com/\n",
    "\n"
   ]
  },
  {
   "cell_type": "markdown",
   "metadata": {},
   "source": [
    "### Agenda for today's class (70 minutes)\n",
    "\n",
    "1. (20 minutes) [Pre class Review](#Pre-class-Review)\n",
    "2. (20 minutes) [MPI Code Review](#MPI-Code-Review)\n",
    "3. (30 minutes) [Rumor Mill Example](#Rumor-Mill-Example)\n",
    "\n",
    "\n"
   ]
  },
  {
   "cell_type": "markdown",
   "metadata": {},
   "source": [
    "\n",
    "---\n",
    "<a name=Pre-class-Review></a>\n",
    "# 1. Pre class Review\n",
    "\n",
    "&#9989; **<font color=red>DO THIS:</font>** With your group, discuss how MPI is similar/different from OpenMP and CUDA. Summarize your discussion here. \n",
    "\n",
    "- similar: \n",
    "- different: all cores are running all code, must be divided into ranks to run tasks in parallel"
   ]
  },
  {
   "cell_type": "markdown",
   "metadata": {},
   "source": [
    "\n",
    "---\n",
    "<a name=MPI-Code-Review></a>\n",
    "# 2. MPI Code Review\n",
    "\n",
    "\n",
    "\n",
    "Lets explore some MPI code.  \n",
    "\n",
    "- Find some example MPI code and get it running on the HPCC\n",
    "- Explore what the code is doing and how it is using MPI"
   ]
  },
  {
   "cell_type": "markdown",
   "metadata": {},
   "source": [
    "&#9989; **<font color=red>QUESTION:</font>** What are the different inputs to the ```MPI_Send``` and ```MPI_Recv``` commands?  What do we think they do?"
   ]
  },
  {
   "cell_type": "markdown",
   "metadata": {
    "editable": true,
    "slideshow": {
     "slide_type": ""
    },
    "tags": []
   },
   "source": [
    "References to processor name, host name, id, and rank. That is likely the string and int data being sent and received in order to print a hello with the processor information included."
   ]
  },
  {
   "cell_type": "markdown",
   "metadata": {},
   "source": [
    "&#9989; **<font color=red>QUESTION:</font>** What other MPI related commands did you find in your example.  What do these commands do?"
   ]
  },
  {
   "cell_type": "markdown",
   "metadata": {},
   "source": [
    "MPI_Finalize ends all threads, MPI_Comm_size sets the size of each group."
   ]
  },
  {
   "cell_type": "markdown",
   "metadata": {},
   "source": [
    "\n",
    "\n",
    "---\n",
    "<a name=Rumor-Mill-Example></a>\n",
    "# 3. Rumor Mill Example\n",
    "\n",
    "\n",
    "Consider the code put in the Rumor folder of the CMSE401 git repository.  This code uses agent based models to pass \"rumors\" around a grid of points.  In the next couple of classes we are going to review the code and see if we can modify it to use MPI.  \n",
    "\n",
    "Specifically we are going to try and split the simulation into separate grids that share boarders.  Each node only needs to keep track of the rumors in its own grid.  MPI Send/Recv messages should be used to pass the \"boundary\" vectors of each grid to it's neighboring grids after every iteration.  \n",
    "\n",
    "\n",
    "&#9989; **<font color=red>DO THIS:</font>** In your groups, go though the provided code and see if it makes sense. Get it to compile and run on the HPCC and do a few baseline benchmarks.  See if you can figure out an easy way to split up the work load between computers. "
   ]
  },
  {
   "cell_type": "markdown",
   "metadata": {},
   "source": [
    "\n",
    "\n",
    "-----\n",
    "### Congratulations, we're done!\n",
    "\n",
    "Have one of the instructors check your notebook and sign you out before leaving class. Turn in your assignment using D2L."
   ]
  },
  {
   "cell_type": "markdown",
   "metadata": {},
   "source": [
    "Written by Dr. Dirk Colbry, Michigan State University (Updated by Dr. Nathan Haut in Spring 2025)\n",
    "<a rel=\"license\" href=\"http://creativecommons.org/licenses/by-nc/4.0/\"><img alt=\"Creative Commons License\" style=\"border-width:0\" src=\"https://i.creativecommons.org/l/by-nc/4.0/88x31.png\" /></a><br />This work is licensed under a <a rel=\"license\" href=\"http://creativecommons.org/licenses/by-nc/4.0/\">Creative Commons Attribution-NonCommercial 4.0 International License</a>."
   ]
  },
  {
   "cell_type": "markdown",
   "metadata": {},
   "source": [
    "----"
   ]
  }
 ],
 "metadata": {
  "kernelspec": {
   "display_name": "Python [conda env:base] *",
   "language": "python",
   "name": "conda-base-py"
  },
  "language_info": {
   "codemirror_mode": {
    "name": "ipython",
    "version": 3
   },
   "file_extension": ".py",
   "mimetype": "text/x-python",
   "name": "python",
   "nbconvert_exporter": "python",
   "pygments_lexer": "ipython3",
   "version": "3.12.7"
  }
 },
 "nbformat": 4,
 "nbformat_minor": 4
}
