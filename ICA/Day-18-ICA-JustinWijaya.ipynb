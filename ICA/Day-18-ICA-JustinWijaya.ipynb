{
 "cells": [
  {
   "cell_type": "markdown",
   "metadata": {},
   "source": [
    "In order to successfully complete this assignment you need to participate both individually and in groups during class.   Have one of the instructors check your notebook and sign you out before leaving class. Turn in your assignment using D2L. "
   ]
  },
  {
   "cell_type": "markdown",
   "metadata": {},
   "source": [
    "---\n"
   ]
  },
  {
   "cell_type": "markdown",
   "metadata": {},
   "source": [
    "# ICA 18: Introduction to CUDA\n",
    "\n",
    "<img src=\"https://www.nvidia.com/content/dam/en-zz/Solutions/geforce/ampere/rtx-3080/geforce-rtx-3080-shop-630-d@2x.png\" alt=\"Picture of a typical GPU card\" >\n",
    "\n",
    "Image from: https://www.nvidia.com\n"
   ]
  },
  {
   "cell_type": "markdown",
   "metadata": {},
   "source": [
    "### Agenda for today's class (70 minutes)\n",
    "\n",
    "1. (10 minutes) [HW3 Cuda](#HW3_CUDA)\n",
    "2. (60 minutes) [Introduction to CUDA](#Introduction_to_CUDA)\n",
    "\n",
    "\n"
   ]
  },
  {
   "cell_type": "markdown",
   "metadata": {},
   "source": [
    "---\n",
    "<a name=HW3_CUDA></a>\n",
    "# 1. HW3 Cuda\n",
    "\n",
    "Homework 3 has been posted to the course website and will be due Sunday, March 23 by 11:59 PM. Please take a moment to review the posted assignment to get an idea of what is expected for this homework. CUDA coding is challenging, so it is recommended that you get started early on this assignment. "
   ]
  },
  {
   "cell_type": "markdown",
   "metadata": {},
   "source": [
    "---\n",
    "<a name=Introduction_to_CUDA></a>\n",
    "# 2. Introduction to CUDA\n",
    "\n",
    "Key things to note about CUDA:\n",
    "\n",
    "1. Always pick a dev node with a CUDA card (ex: dev-amd20-v100)\n",
    "1. Type 'module load CUDA' to load in the CUDA libraries and compilers.\n",
    "2. Use ```nvcc``` instead of ```gcc``` when compiling cuda code.\n",
    "3. Error checking is hard always use a CUDA_CALL and capture your kernel error outputs.\n",
    "4. Be very careful with pointers.  They are everywhere and can be really confusing.\n",
    "\n",
    "\n",
    "&#9989; **<font color=red>DO THIS:</font>** Find a CUDA based example and see if you can get it to run on one of the GPU head nodes.\n"
   ]
  },
  {
   "cell_type": "markdown",
   "metadata": {},
   "source": [
    "\n",
    "-----\n",
    "### Congratulations, we're done!\n",
    "\n",
    "Have one of the instructors check your notebook and sign you out before leaving class. Turn in your assignment using D2L."
   ]
  },
  {
   "cell_type": "markdown",
   "metadata": {},
   "source": [
    "Written by Dr. Dirk Colbry, Michigan State University (Updated by Dr. Nathan Haut in Spring 2025)\n",
    "<a rel=\"license\" href=\"http://creativecommons.org/licenses/by-nc/4.0/\"><img alt=\"Creative Commons License\" style=\"border-width:0\" src=\"https://i.creativecommons.org/l/by-nc/4.0/88x31.png\" /></a><br />This work is licensed under a <a rel=\"license\" href=\"http://creativecommons.org/licenses/by-nc/4.0/\">Creative Commons Attribution-NonCommercial 4.0 International License</a>."
   ]
  },
  {
   "cell_type": "markdown",
   "metadata": {},
   "source": [
    "----"
   ]
  }
 ],
 "metadata": {
  "kernelspec": {
   "display_name": "Python [conda env:base] *",
   "language": "python",
   "name": "conda-base-py"
  },
  "language_info": {
   "codemirror_mode": {
    "name": "ipython",
    "version": 3
   },
   "file_extension": ".py",
   "mimetype": "text/x-python",
   "name": "python",
   "nbconvert_exporter": "python",
   "pygments_lexer": "ipython3",
   "version": "3.12.7"
  }
 },
 "nbformat": 4,
 "nbformat_minor": 4
}
