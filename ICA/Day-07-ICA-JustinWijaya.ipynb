{
 "cells": [
  {
   "cell_type": "markdown",
   "metadata": {},
   "source": [
    "In order to successfully complete this assignment you need to participate both individually and in groups during class.  Have one of the instructors check your notebook and sign you out before leaving class. "
   ]
  },
  {
   "cell_type": "markdown",
   "metadata": {},
   "source": [
    "---"
   ]
  },
  {
   "cell_type": "markdown",
   "metadata": {},
   "source": [
    "# ICA 7: Schedulers\n",
    "\n",
    "<img alt=\"Image for Slurm Cola from the futurama cartoon.  Only put here because the name is the same and the instructor likes the cartoon\" src=\"http://cdn.collider.com/wp-content/uploads/2016/02/futurama-slurm-poster.jpg\" width=\"80%\">\n",
    "\n",
    "Image from: [Futurama](https://www.imdb.com/title/tt0149460/)"
   ]
  },
  {
   "cell_type": "markdown",
   "metadata": {},
   "source": [
    "### Agenda for today's class (70 minutes)\n",
    "\n",
    "1. (20 minutes) [Pre class review](#Pre-class-review)\n",
    "2. (10 minutes) [Minimizing the \"Mean Time to Science\"](#Minimizing-the-Mean-Time-to-Science)\n",
    "3. (20 minutes) [Pandemic (OpenMP) and Galaxsee (MPI) Using the Scheduler](#Pandemic-and-Galaxsee--Using-the-Scheduler)\n",
    "4. (20 minutes) [Explore](#Explore)\n",
    "\n"
   ]
  },
  {
   "cell_type": "markdown",
   "metadata": {},
   "source": [
    "\n",
    "\n",
    "---\n",
    "<a name=Pre-class-review></a>\n",
    "# 1. Pre class review\n",
    "\n",
    "\n",
    "Discuss with your group and summarize here, the importance of having a scheduler for a shared resource such as HPCC. "
   ]
  },
  {
   "cell_type": "markdown",
   "metadata": {},
   "source": [
    "Scheduler's allow us to allocate resources for our jobs efficiently as opposed to everyone having to fight for using resources"
   ]
  },
  {
   "cell_type": "markdown",
   "metadata": {},
   "source": [
    "\n",
    "\n",
    "---\n",
    "<a name=\"Minimizing-the-Mean-Time-to-Science\"></a>\n",
    "\n",
    "# 2. Minimizing the \"Mean Time to Science\"\n",
    "\n",
    "\n",
    "\n",
    "**_DISCUSSION QUESTION_**: When thinking about science that use computation.  What factors influence the speed of science?  What are the bottlenecks when doing computational science? "
   ]
  },
  {
   "cell_type": "markdown",
   "metadata": {},
   "source": [
    "Factors:\n",
    "* Number of cpus\n",
    "* Number of cores\n",
    "* Processor\n",
    "* Programming language\n",
    "Bottlenecks:\n",
    "* Available resources\n",
    "* Time complexity"
   ]
  },
  {
   "cell_type": "markdown",
   "metadata": {},
   "source": [
    "\n",
    "---\n",
    "<a name=\"Pandemic-and-Galaxsee--Using-the-Scheduler\"></a>\n",
    "# 3. Pandemic (OpenMP) and Galaxsee (MPI) Using the Scheduler\n",
    "\n",
    "\n",
    "\n",
    "Write a SLURM Submission script to run the Pandemic and Galaxsee examples on multiple cores.  Make sure the exmaple provides timing information. \n"
   ]
  },
  {
   "cell_type": "markdown",
   "metadata": {},
   "source": [
    "Use this space to record your submission script for Pandemic"
   ]
  },
  {
   "cell_type": "markdown",
   "metadata": {},
   "source": [
    "Use this space to record your submission script for Galaxsee"
   ]
  },
  {
   "cell_type": "markdown",
   "metadata": {},
   "source": [
    "#!/bin/bash -login\n",
    "#SBATCH -N 1\n",
    "#SBATCH -c 4\n",
    "#SBATCH --mem 10gb\n",
    "#SBATCH --time 00:10:00\n",
    "\n",
    "module load mpich2\n",
    "bccd-snarfhosts -v\n",
    "cp ~/machines-mpich2 machines\n",
    "mpirun -np 4 ./GalaxSee.cxx-mpi 1000 500 400\n",
    "\n",
    "scontrol show job $SLURM_JOB_ID"
   ]
  },
  {
   "cell_type": "markdown",
   "metadata": {},
   "source": [
    "\n",
    "---\n",
    "<a name=Explore></a>\n",
    "# 4. Explore\n",
    "\n",
    "\n",
    "In the time remaining, investigate the examples in the BCCD folder. See if you can create a submission script that will run the example in parallel using the SLURM Scheduler. \n",
    "\n",
    "     Area-under-curve\n",
    "     CUDA\n",
    "     GalaxSee\n",
    "     GalaxSee-v2\n",
    "     Hello-world\n",
    "     Life\n",
    "     Pandemic\n",
    "     Parameter-space\n",
    "     Sieve\n",
    "     StatKit/petakit\n",
    "     Tree-sort\n",
    "\n",
    "Share any scripts you get working by copying and pasting the text below. "
   ]
  },
  {
   "cell_type": "markdown",
   "metadata": {},
   "source": [
    "\n",
    "-----\n",
    "### Congratulations, we're done!\n",
    "\n",
    "Have one of the instructors check your notebook and sign you out before leaving class. Remember to turn in your assignment using D2L."
   ]
  },
  {
   "cell_type": "markdown",
   "metadata": {},
   "source": [
    "Written by Dr. Dirk Colbry, Michigan State University (Updated by Dr. Nathan Haut in Spring 2025)\n",
    "<a rel=\"license\" href=\"http://creativecommons.org/licenses/by-nc/4.0/\"><img alt=\"Creative Commons License\" style=\"border-width:0\" src=\"https://i.creativecommons.org/l/by-nc/4.0/88x31.png\" /></a><br />This work is licensed under a <a rel=\"license\" href=\"http://creativecommons.org/licenses/by-nc/4.0/\">Creative Commons Attribution-NonCommercial 4.0 International License</a>."
   ]
  },
  {
   "cell_type": "markdown",
   "metadata": {},
   "source": [
    "----"
   ]
  }
 ],
 "metadata": {
  "kernelspec": {
   "display_name": "Python [conda env:base] *",
   "language": "python",
   "name": "conda-base-py"
  },
  "language_info": {
   "codemirror_mode": {
    "name": "ipython",
    "version": 3
   },
   "file_extension": ".py",
   "mimetype": "text/x-python",
   "name": "python",
   "nbconvert_exporter": "python",
   "pygments_lexer": "ipython3",
   "version": "3.12.7"
  }
 },
 "nbformat": 4,
 "nbformat_minor": 4
}
