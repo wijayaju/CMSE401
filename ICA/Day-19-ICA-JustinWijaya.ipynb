{
 "cells": [
  {
   "cell_type": "markdown",
   "metadata": {},
   "source": [
    "In order to successfully complete this assignment you need to participate both individually and in groups during class.   Have one of the instructors check your notebook and sign you out before leaving class. Turn in your assignment using D2L. "
   ]
  },
  {
   "cell_type": "markdown",
   "metadata": {},
   "source": [
    "---\n"
   ]
  },
  {
   "cell_type": "markdown",
   "metadata": {},
   "source": [
    "# ICA 19: CUDA\n",
    "\n",
    "<img alt=\"progression of older GPU cards\" src=\"http://www.amax.com/blog/wp-content/uploads/2016/06/NVIDIA-GPU-Card-Comparison.jpg\" width=75%>\n",
    "\n",
    "Image from: https://www.amax.com/blog/?p=907"
   ]
  },
  {
   "cell_type": "markdown",
   "metadata": {},
   "source": [
    "### Agenda for today's class (70 minutes)\n",
    "\n",
    "\n",
    "1. (20 minutes) [Pre class Review](#Pre-class-Review)\n",
    "2. (20 minutes) [BCCD CUDA Example](#BCCD-CUDA-Example)\n",
    "3. (30 minutes) [Vector Add Example](#Vector-Add-Example)\n",
    "\n"
   ]
  },
  {
   "cell_type": "markdown",
   "metadata": {},
   "source": [
    "\n",
    "\n",
    "---\n",
    "<a name=Pre-class-Review></a>\n",
    "# 1. Pre class Review\n",
    "\n",
    "\n",
    "We learned the following in the video:\n",
    "1. You must use a dev node with a CUDA card (Ex. dev-intel14-k20 or dev-intel16-k80).\n",
    "2. You need to install the CUDA software (How do we do that on the HPC?).\n",
    "3. Once you do that, build thee software and run it.\n",
    "\n",
    "Below is the definition for the CUDA_CALL function, which will make it much easier to debug CUDA code. Simply wrap this function around any CUDA function call in your code to get more information about errors if the code encounters a CUDA related error. \n",
    "\n",
    "```c++\n",
    "#define CUDA_CALL(x) {cudaError_t cuda_error__ = (x); if (cuda_error__) printf(\"CUDA error: \" #x \" returned \\\"%s\\\"\\n\", cudaGetErrorString(cuda_error__));}\n",
    "```\n",
    "\n",
    "Steps in a common CUDA program:\n",
    "* STEP 1: ALLOCATE\n",
    "* STEP 2: TRANSFER\n",
    "* STEP 3: SET UP\n",
    "* STEP 4: RUN\n",
    "* STEP 5: TRANSFER"
   ]
  },
  {
   "cell_type": "markdown",
   "metadata": {},
   "source": [
    "\n",
    "---\n",
    "<a name=BCCD-CUDA-Example></a>\n",
    "# 2. BCCD CUDA Example\n",
    "\n",
    "\n",
    "\n",
    "\n",
    "&#9989; **<font color=red>DO THIS:</font>** You may have already explored this example last class, but if not, take a look in the class Git repository, go back to the BCCD directory and compile and run the CUDA example.  Read though the output and discuss it with your group. \n"
   ]
  },
  {
   "cell_type": "markdown",
   "metadata": {},
   "source": [
    "\n",
    "---\n",
    "<a name=Vector-Add-Example></a>\n",
    "# 3. Vector Add Example\n",
    "\n",
    "The following is a vector add example.  "
   ]
  },
  {
   "cell_type": "code",
   "execution_count": 1,
   "metadata": {},
   "outputs": [
    {
     "name": "stdout",
     "output_type": "stream",
     "text": [
      "Writing NCode/vecadd.cu\n"
     ]
    },
    {
     "ename": "FileNotFoundError",
     "evalue": "[Errno 2] No such file or directory: 'NCode/vecadd.cu'",
     "output_type": "error",
     "traceback": [
      "\u001b[0;31m---------------------------------------------------------------------------\u001b[0m",
      "\u001b[0;31mFileNotFoundError\u001b[0m                         Traceback (most recent call last)",
      "Cell \u001b[0;32mIn[1], line 1\u001b[0m\n\u001b[0;32m----> 1\u001b[0m get_ipython()\u001b[38;5;241m.\u001b[39mrun_cell_magic(\u001b[38;5;124m'\u001b[39m\u001b[38;5;124mwritefile\u001b[39m\u001b[38;5;124m'\u001b[39m, \u001b[38;5;124m'\u001b[39m\u001b[38;5;124mNCode/vecadd.cu\u001b[39m\u001b[38;5;124m'\u001b[39m, \u001b[38;5;124m'\u001b[39m\u001b[38;5;130;01m\\n\u001b[39;00m\u001b[38;5;124m//Example modified from: https://gist.github.com/vo/3899348\u001b[39m\u001b[38;5;130;01m\\n\u001b[39;00m\u001b[38;5;124m//Timing code from: https://www.pluralsight.com/blog/software-development/how-to-measure-execution-time-intervals-in-c--\u001b[39m\u001b[38;5;130;01m\\n\u001b[39;00m\u001b[38;5;130;01m\\n\u001b[39;00m\u001b[38;5;124m#include <iostream>\u001b[39m\u001b[38;5;130;01m\\n\u001b[39;00m\u001b[38;5;124m#include <cuda.h>\u001b[39m\u001b[38;5;130;01m\\n\u001b[39;00m\u001b[38;5;124m#include <chrono>\u001b[39m\u001b[38;5;130;01m\\n\u001b[39;00m\u001b[38;5;130;01m\\n\u001b[39;00m\u001b[38;5;124m__global__ void vecAdd(int *a_d,int *b_d,int *c_d,int N)\u001b[39m\u001b[38;5;130;01m\\n\u001b[39;00m\u001b[38;5;124m{\u001b[39m\u001b[38;5;130;01m\\n\u001b[39;00m\u001b[38;5;124m   int i = blockDim.x * blockIdx.x + threadIdx.x;\u001b[39m\u001b[38;5;130;01m\\n\u001b[39;00m\u001b[38;5;124m   if (i < N)\u001b[39m\u001b[38;5;130;01m\\n\u001b[39;00m\u001b[38;5;124m       c_d[i] = a_d[i] + b_d[i]; \u001b[39m\u001b[38;5;130;01m\\n\u001b[39;00m\u001b[38;5;124m}\u001b[39m\u001b[38;5;130;01m\\n\u001b[39;00m\u001b[38;5;130;01m\\n\u001b[39;00m\u001b[38;5;124mvoid vecAdd_h(int *A1,int *B1, int *C1, int N)\u001b[39m\u001b[38;5;130;01m\\n\u001b[39;00m\u001b[38;5;124m{\u001b[39m\u001b[38;5;130;01m\\n\u001b[39;00m\u001b[38;5;124m   for(int i=0;i<N;i++)\u001b[39m\u001b[38;5;130;01m\\n\u001b[39;00m\u001b[38;5;124m      C1[i] = A1[i] + B1[i];\u001b[39m\u001b[38;5;130;01m\\n\u001b[39;00m\u001b[38;5;124m}\u001b[39m\u001b[38;5;130;01m\\n\u001b[39;00m\u001b[38;5;130;01m\\n\u001b[39;00m\u001b[38;5;124mint main(int argc,char **argv)\u001b[39m\u001b[38;5;130;01m\\n\u001b[39;00m\u001b[38;5;124m{\u001b[39m\u001b[38;5;130;01m\\n\u001b[39;00m\u001b[38;5;124m   int n=10000000;\u001b[39m\u001b[38;5;130;01m\\n\u001b[39;00m\u001b[38;5;124m   int nBytes = n*sizeof(int);\u001b[39m\u001b[38;5;130;01m\\n\u001b[39;00m\u001b[38;5;124m   int *a,*b,*c,*c2;\u001b[39m\u001b[38;5;130;01m\\n\u001b[39;00m\u001b[38;5;124m   int *a_d,*b_d,*c_d;\u001b[39m\u001b[38;5;130;01m\\n\u001b[39;00m\u001b[38;5;130;01m\\n\u001b[39;00m\u001b[38;5;124m   int num_threads = 1024;\u001b[39m\u001b[38;5;130;01m\\n\u001b[39;00m\u001b[38;5;124m   int num_blocks = n/num_threads+1;\u001b[39m\u001b[38;5;130;01m\\n\u001b[39;00m\u001b[38;5;124m   dim3 numThreads(num_threads,1,1);\u001b[39m\u001b[38;5;130;01m\\n\u001b[39;00m\u001b[38;5;124m   dim3 numBlocks(num_blocks,1,1); \u001b[39m\u001b[38;5;130;01m\\n\u001b[39;00m\u001b[38;5;124m    \u001b[39m\u001b[38;5;130;01m\\n\u001b[39;00m\u001b[38;5;124m   //Check device\u001b[39m\u001b[38;5;130;01m\\n\u001b[39;00m\u001b[38;5;124m   struct cudaDeviceProp properties;\u001b[39m\u001b[38;5;130;01m\\n\u001b[39;00m\u001b[38;5;124m   cudaGetDeviceProperties(&properties, 0);\u001b[39m\u001b[38;5;130;01m\\n\u001b[39;00m\u001b[38;5;124m   printf(\u001b[39m\u001b[38;5;124m\"\u001b[39m\u001b[38;5;124musing \u001b[39m\u001b[38;5;132;01m%d\u001b[39;00m\u001b[38;5;124m multiprocessors\u001b[39m\u001b[38;5;130;01m\\\\\u001b[39;00m\u001b[38;5;124mn\u001b[39m\u001b[38;5;124m\"\u001b[39m\u001b[38;5;124m,properties.multiProcessorCount);\u001b[39m\u001b[38;5;130;01m\\n\u001b[39;00m\u001b[38;5;124m   printf(\u001b[39m\u001b[38;5;124m\"\u001b[39m\u001b[38;5;124mmax threads per processor: \u001b[39m\u001b[38;5;132;01m%d\u001b[39;00m\u001b[38;5;124m \u001b[39m\u001b[38;5;130;01m\\\\\u001b[39;00m\u001b[38;5;124mn\u001b[39m\u001b[38;5;130;01m\\\\\u001b[39;00m\u001b[38;5;124mn\u001b[39m\u001b[38;5;124m\"\u001b[39m\u001b[38;5;124m,properties.maxThreadsPerMultiProcessor);\u001b[39m\u001b[38;5;130;01m\\n\u001b[39;00m\u001b[38;5;124m    \u001b[39m\u001b[38;5;130;01m\\n\u001b[39;00m\u001b[38;5;124m    \u001b[39m\u001b[38;5;130;01m\\n\u001b[39;00m\u001b[38;5;124m   printf(\u001b[39m\u001b[38;5;124m\"\u001b[39m\u001b[38;5;124mnBytes=\u001b[39m\u001b[38;5;132;01m%d\u001b[39;00m\u001b[38;5;124m num_threads=\u001b[39m\u001b[38;5;132;01m%d\u001b[39;00m\u001b[38;5;124m, num_blocks=\u001b[39m\u001b[38;5;132;01m%d\u001b[39;00m\u001b[38;5;130;01m\\\\\u001b[39;00m\u001b[38;5;124mn\u001b[39m\u001b[38;5;124m\"\u001b[39m\u001b[38;5;124m,nBytes,num_threads,num_blocks);\u001b[39m\u001b[38;5;130;01m\\n\u001b[39;00m\u001b[38;5;130;01m\\n\u001b[39;00m\u001b[38;5;124m   if (!(a = (int*) malloc(nBytes))) \u001b[39m\u001b[38;5;124m{\u001b[39m\u001b[38;5;130;01m\\n\u001b[39;00m\u001b[38;5;124m        fprintf(stderr, \u001b[39m\u001b[38;5;124m\"\u001b[39m\u001b[38;5;124mmalloc() FAILED (thread)\u001b[39m\u001b[38;5;130;01m\\\\\u001b[39;00m\u001b[38;5;124mn\u001b[39m\u001b[38;5;124m\"\u001b[39m\u001b[38;5;124m);\u001b[39m\u001b[38;5;130;01m\\n\u001b[39;00m\u001b[38;5;124m        exit(0);\u001b[39m\u001b[38;5;130;01m\\n\u001b[39;00m\u001b[38;5;124m    }\u001b[39m\u001b[38;5;130;01m\\n\u001b[39;00m\u001b[38;5;130;01m\\n\u001b[39;00m\u001b[38;5;124m   if (!(b = (int*) malloc(nBytes))) \u001b[39m\u001b[38;5;124m{\u001b[39m\u001b[38;5;130;01m\\n\u001b[39;00m\u001b[38;5;124m        fprintf(stderr, \u001b[39m\u001b[38;5;124m\"\u001b[39m\u001b[38;5;124mmalloc() FAILED (thread)\u001b[39m\u001b[38;5;130;01m\\\\\u001b[39;00m\u001b[38;5;124mn\u001b[39m\u001b[38;5;124m\"\u001b[39m\u001b[38;5;124m);\u001b[39m\u001b[38;5;130;01m\\n\u001b[39;00m\u001b[38;5;124m        exit(0);\u001b[39m\u001b[38;5;130;01m\\n\u001b[39;00m\u001b[38;5;124m    }\u001b[39m\u001b[38;5;130;01m\\n\u001b[39;00m\u001b[38;5;130;01m\\n\u001b[39;00m\u001b[38;5;124m   if (!(c = (int*) malloc(nBytes))) \u001b[39m\u001b[38;5;124m{\u001b[39m\u001b[38;5;130;01m\\n\u001b[39;00m\u001b[38;5;124m        fprintf(stderr, \u001b[39m\u001b[38;5;124m\"\u001b[39m\u001b[38;5;124mmalloc() FAILED (thread)\u001b[39m\u001b[38;5;130;01m\\\\\u001b[39;00m\u001b[38;5;124mn\u001b[39m\u001b[38;5;124m\"\u001b[39m\u001b[38;5;124m);\u001b[39m\u001b[38;5;130;01m\\n\u001b[39;00m\u001b[38;5;124m        exit(0);\u001b[39m\u001b[38;5;130;01m\\n\u001b[39;00m\u001b[38;5;124m    }\u001b[39m\u001b[38;5;130;01m\\n\u001b[39;00m\u001b[38;5;130;01m\\n\u001b[39;00m\u001b[38;5;124m   if (!(c2 = (int*) malloc(nBytes))) \u001b[39m\u001b[38;5;124m{\u001b[39m\u001b[38;5;130;01m\\n\u001b[39;00m\u001b[38;5;124m        fprintf(stderr, \u001b[39m\u001b[38;5;124m\"\u001b[39m\u001b[38;5;124mmalloc() FAILED (thread)\u001b[39m\u001b[38;5;130;01m\\\\\u001b[39;00m\u001b[38;5;124mn\u001b[39m\u001b[38;5;124m\"\u001b[39m\u001b[38;5;124m);\u001b[39m\u001b[38;5;130;01m\\n\u001b[39;00m\u001b[38;5;124m        exit(0);\u001b[39m\u001b[38;5;130;01m\\n\u001b[39;00m\u001b[38;5;124m    }\u001b[39m\u001b[38;5;130;01m\\n\u001b[39;00m\u001b[38;5;124m    \u001b[39m\u001b[38;5;130;01m\\n\u001b[39;00m\u001b[38;5;124m   for(int i=0;i<n;i++)\u001b[39m\u001b[38;5;130;01m\\n\u001b[39;00m\u001b[38;5;124m      a[i]=i,b[i]=i;\u001b[39m\u001b[38;5;130;01m\\n\u001b[39;00m\u001b[38;5;124m    \u001b[39m\u001b[38;5;130;01m\\n\u001b[39;00m\u001b[38;5;124m   printf(\u001b[39m\u001b[38;5;124m\"\u001b[39m\u001b[38;5;124mAllocating device memory on host..\u001b[39m\u001b[38;5;130;01m\\\\\u001b[39;00m\u001b[38;5;124mn\u001b[39m\u001b[38;5;124m\"\u001b[39m\u001b[38;5;124m);\u001b[39m\u001b[38;5;130;01m\\n\u001b[39;00m\u001b[38;5;124m   cudaMalloc((void **)&a_d,nBytes);\u001b[39m\u001b[38;5;130;01m\\n\u001b[39;00m\u001b[38;5;124m   cudaMalloc((void **)&b_d,nBytes);\u001b[39m\u001b[38;5;130;01m\\n\u001b[39;00m\u001b[38;5;124m   cudaMalloc((void **)&c_d,nBytes);\u001b[39m\u001b[38;5;130;01m\\n\u001b[39;00m\u001b[38;5;124m    \u001b[39m\u001b[38;5;130;01m\\n\u001b[39;00m\u001b[38;5;124m   auto start_d = std::chrono::high_resolution_clock::now();\u001b[39m\u001b[38;5;130;01m\\n\u001b[39;00m\u001b[38;5;130;01m\\n\u001b[39;00m\u001b[38;5;124m   printf(\u001b[39m\u001b[38;5;124m\"\u001b[39m\u001b[38;5;124mCopying to device..\u001b[39m\u001b[38;5;130;01m\\\\\u001b[39;00m\u001b[38;5;124mn\u001b[39m\u001b[38;5;124m\"\u001b[39m\u001b[38;5;124m);\u001b[39m\u001b[38;5;130;01m\\n\u001b[39;00m\u001b[38;5;124m   cudaMemcpy(a_d,a,nBytes,cudaMemcpyHostToDevice);\u001b[39m\u001b[38;5;130;01m\\n\u001b[39;00m\u001b[38;5;124m   cudaMemcpy(b_d,b,nBytes,cudaMemcpyHostToDevice);\u001b[39m\u001b[38;5;130;01m\\n\u001b[39;00m\u001b[38;5;124m   \u001b[39m\u001b[38;5;130;01m\\n\u001b[39;00m\u001b[38;5;124m   printf(\u001b[39m\u001b[38;5;124m\"\u001b[39m\u001b[38;5;124mDoing GPU Vector add\u001b[39m\u001b[38;5;130;01m\\\\\u001b[39;00m\u001b[38;5;124mn\u001b[39m\u001b[38;5;124m\"\u001b[39m\u001b[38;5;124m);\u001b[39m\u001b[38;5;130;01m\\n\u001b[39;00m\u001b[38;5;124m   vecAdd<<<numBlocks, numThreads>>>(a_d,b_d,c_d,n);\u001b[39m\u001b[38;5;130;01m\\n\u001b[39;00m\u001b[38;5;124m   cudaError_t err = cudaGetLastError();\u001b[39m\u001b[38;5;130;01m\\n\u001b[39;00m\u001b[38;5;124m   if (err != cudaSuccess) \u001b[39m\u001b[38;5;124m{\u001b[39m\u001b[38;5;130;01m\\n\u001b[39;00m\u001b[38;5;124m        fprintf(stderr, \u001b[39m\u001b[38;5;124m\"\u001b[39m\u001b[38;5;130;01m\\\\\u001b[39;00m\u001b[38;5;124mn\u001b[39m\u001b[38;5;130;01m\\\\\u001b[39;00m\u001b[38;5;124mnError: \u001b[39m\u001b[38;5;132;01m%s\u001b[39;00m\u001b[38;5;130;01m\\\\\u001b[39;00m\u001b[38;5;124mn\u001b[39m\u001b[38;5;130;01m\\\\\u001b[39;00m\u001b[38;5;124mn\u001b[39m\u001b[38;5;124m\"\u001b[39m\u001b[38;5;124m, cudaGetErrorString(err)); fflush(stderr); exit(err);   \u001b[39m\u001b[38;5;130;01m\\n\u001b[39;00m\u001b[38;5;124m   }\u001b[39m\u001b[38;5;130;01m\\n\u001b[39;00m\u001b[38;5;124m    \u001b[39m\u001b[38;5;130;01m\\n\u001b[39;00m\u001b[38;5;124m   printf(\u001b[39m\u001b[38;5;124m\"\u001b[39m\u001b[38;5;124mCopying results to host..\u001b[39m\u001b[38;5;130;01m\\\\\u001b[39;00m\u001b[38;5;124mn\u001b[39m\u001b[38;5;124m\"\u001b[39m\u001b[38;5;124m);   \u001b[39m\u001b[38;5;130;01m\\n\u001b[39;00m\u001b[38;5;124m   cudaMemcpy(c,c_d,nBytes,cudaMemcpyDeviceToHost);\u001b[39m\u001b[38;5;130;01m\\n\u001b[39;00m\u001b[38;5;124m   \u001b[39m\u001b[38;5;130;01m\\n\u001b[39;00m\u001b[38;5;124m   auto end_d = std::chrono::high_resolution_clock::now();\u001b[39m\u001b[38;5;130;01m\\n\u001b[39;00m\u001b[38;5;124m   \u001b[39m\u001b[38;5;130;01m\\n\u001b[39;00m\u001b[38;5;124m   auto start_h = std::chrono::high_resolution_clock::now();\u001b[39m\u001b[38;5;130;01m\\n\u001b[39;00m\u001b[38;5;124m   printf(\u001b[39m\u001b[38;5;124m\"\u001b[39m\u001b[38;5;124mDoing CPU Vector add\u001b[39m\u001b[38;5;130;01m\\\\\u001b[39;00m\u001b[38;5;124mn\u001b[39m\u001b[38;5;124m\"\u001b[39m\u001b[38;5;124m);\u001b[39m\u001b[38;5;130;01m\\n\u001b[39;00m\u001b[38;5;124m   vecAdd_h(a,b,c2,n);\u001b[39m\u001b[38;5;130;01m\\n\u001b[39;00m\u001b[38;5;124m   auto end_h = std::chrono::high_resolution_clock::now();\u001b[39m\u001b[38;5;130;01m\\n\u001b[39;00m\u001b[38;5;124m    \u001b[39m\u001b[38;5;130;01m\\n\u001b[39;00m\u001b[38;5;124m   //Test results\u001b[39m\u001b[38;5;130;01m\\n\u001b[39;00m\u001b[38;5;124m   int error = 0;\u001b[39m\u001b[38;5;130;01m\\n\u001b[39;00m\u001b[38;5;124m   for(int i=0;i<n;i++) \u001b[39m\u001b[38;5;124m{\u001b[39m\u001b[38;5;130;01m\\n\u001b[39;00m\u001b[38;5;124m      error += abs(c[i]-c2[i]);\u001b[39m\u001b[38;5;130;01m\\n\u001b[39;00m\u001b[38;5;124m      if (error)\u001b[39m\u001b[38;5;130;01m\\n\u001b[39;00m\u001b[38;5;124m          printf(\u001b[39m\u001b[38;5;124m\"\u001b[39m\u001b[38;5;132;01m%i\u001b[39;00m\u001b[38;5;124m, \u001b[39m\u001b[38;5;132;01m%d\u001b[39;00m\u001b[38;5;124m, \u001b[39m\u001b[38;5;132;01m%d\u001b[39;00m\u001b[38;5;130;01m\\\\\u001b[39;00m\u001b[38;5;124mn\u001b[39m\u001b[38;5;124m\"\u001b[39m\u001b[38;5;124m, i, c[i], c2[i]);\u001b[39m\u001b[38;5;130;01m\\n\u001b[39;00m\u001b[38;5;124m   }\u001b[39m\u001b[38;5;130;01m\\n\u001b[39;00m\u001b[38;5;130;01m\\n\u001b[39;00m\u001b[38;5;124m   //Print Timing\u001b[39m\u001b[38;5;130;01m\\n\u001b[39;00m\u001b[38;5;124m   std::chrono::duration<double> time_d = end_d - start_d;\u001b[39m\u001b[38;5;130;01m\\n\u001b[39;00m\u001b[38;5;124m   std::chrono::duration<double> time_h = end_h - start_h;\u001b[39m\u001b[38;5;130;01m\\n\u001b[39;00m\u001b[38;5;124m   printf(\u001b[39m\u001b[38;5;124m\"\u001b[39m\u001b[38;5;124mvectorsize=\u001b[39m\u001b[38;5;132;01m%d\u001b[39;00m\u001b[38;5;130;01m\\\\\u001b[39;00m\u001b[38;5;124mn\u001b[39m\u001b[38;5;124m\"\u001b[39m\u001b[38;5;124m,n);\u001b[39m\u001b[38;5;130;01m\\n\u001b[39;00m\u001b[38;5;124m   printf(\u001b[39m\u001b[38;5;124m\"\u001b[39m\u001b[38;5;124mdifference_error=\u001b[39m\u001b[38;5;132;01m%d\u001b[39;00m\u001b[38;5;130;01m\\\\\u001b[39;00m\u001b[38;5;124mn\u001b[39m\u001b[38;5;124m\"\u001b[39m\u001b[38;5;124m,error);\u001b[39m\u001b[38;5;130;01m\\n\u001b[39;00m\u001b[38;5;124m   printf(\u001b[39m\u001b[38;5;124m\"\u001b[39m\u001b[38;5;124mDevice time: \u001b[39m\u001b[38;5;132;01m%f\u001b[39;00m\u001b[38;5;124m s\u001b[39m\u001b[38;5;130;01m\\\\\u001b[39;00m\u001b[38;5;124mn \u001b[39m\u001b[38;5;124m\"\u001b[39m\u001b[38;5;124m, time_d.count());\u001b[39m\u001b[38;5;130;01m\\n\u001b[39;00m\u001b[38;5;124m   printf(\u001b[39m\u001b[38;5;124m\"\u001b[39m\u001b[38;5;124mHost time: \u001b[39m\u001b[38;5;132;01m%f\u001b[39;00m\u001b[38;5;124m s\u001b[39m\u001b[38;5;130;01m\\\\\u001b[39;00m\u001b[38;5;124mn\u001b[39m\u001b[38;5;124m\"\u001b[39m\u001b[38;5;124m, time_h.count()); \u001b[39m\u001b[38;5;130;01m\\n\u001b[39;00m\u001b[38;5;124m    \u001b[39m\u001b[38;5;130;01m\\n\u001b[39;00m\u001b[38;5;124m   cudaFree(a_d);\u001b[39m\u001b[38;5;130;01m\\n\u001b[39;00m\u001b[38;5;124m   cudaFree(b_d);\u001b[39m\u001b[38;5;130;01m\\n\u001b[39;00m\u001b[38;5;124m   cudaFree(c_d);\u001b[39m\u001b[38;5;130;01m\\n\u001b[39;00m\u001b[38;5;124m   return 0;\u001b[39m\u001b[38;5;130;01m\\n\u001b[39;00m\u001b[38;5;124m}\u001b[39m\u001b[38;5;130;01m\\n\u001b[39;00m\u001b[38;5;124m'\u001b[39m)\n",
      "File \u001b[0;32m/opt/anaconda3/lib/python3.12/site-packages/IPython/core/interactiveshell.py:2541\u001b[0m, in \u001b[0;36mInteractiveShell.run_cell_magic\u001b[0;34m(self, magic_name, line, cell)\u001b[0m\n\u001b[1;32m   2539\u001b[0m \u001b[38;5;28;01mwith\u001b[39;00m \u001b[38;5;28mself\u001b[39m\u001b[38;5;241m.\u001b[39mbuiltin_trap:\n\u001b[1;32m   2540\u001b[0m     args \u001b[38;5;241m=\u001b[39m (magic_arg_s, cell)\n\u001b[0;32m-> 2541\u001b[0m     result \u001b[38;5;241m=\u001b[39m fn(\u001b[38;5;241m*\u001b[39margs, \u001b[38;5;241m*\u001b[39m\u001b[38;5;241m*\u001b[39mkwargs)\n\u001b[1;32m   2543\u001b[0m \u001b[38;5;66;03m# The code below prevents the output from being displayed\u001b[39;00m\n\u001b[1;32m   2544\u001b[0m \u001b[38;5;66;03m# when using magics with decorator @output_can_be_silenced\u001b[39;00m\n\u001b[1;32m   2545\u001b[0m \u001b[38;5;66;03m# when the last Python token in the expression is a ';'.\u001b[39;00m\n\u001b[1;32m   2546\u001b[0m \u001b[38;5;28;01mif\u001b[39;00m \u001b[38;5;28mgetattr\u001b[39m(fn, magic\u001b[38;5;241m.\u001b[39mMAGIC_OUTPUT_CAN_BE_SILENCED, \u001b[38;5;28;01mFalse\u001b[39;00m):\n",
      "File \u001b[0;32m/opt/anaconda3/lib/python3.12/site-packages/IPython/core/magics/osm.py:854\u001b[0m, in \u001b[0;36mOSMagics.writefile\u001b[0;34m(self, line, cell)\u001b[0m\n\u001b[1;32m    851\u001b[0m     \u001b[38;5;28mprint\u001b[39m(\u001b[38;5;124m\"\u001b[39m\u001b[38;5;124mWriting \u001b[39m\u001b[38;5;132;01m%s\u001b[39;00m\u001b[38;5;124m\"\u001b[39m \u001b[38;5;241m%\u001b[39m filename)\n\u001b[1;32m    853\u001b[0m mode \u001b[38;5;241m=\u001b[39m \u001b[38;5;124m'\u001b[39m\u001b[38;5;124ma\u001b[39m\u001b[38;5;124m'\u001b[39m \u001b[38;5;28;01mif\u001b[39;00m args\u001b[38;5;241m.\u001b[39mappend \u001b[38;5;28;01melse\u001b[39;00m \u001b[38;5;124m'\u001b[39m\u001b[38;5;124mw\u001b[39m\u001b[38;5;124m'\u001b[39m\n\u001b[0;32m--> 854\u001b[0m \u001b[38;5;28;01mwith\u001b[39;00m io\u001b[38;5;241m.\u001b[39mopen(filename, mode, encoding\u001b[38;5;241m=\u001b[39m\u001b[38;5;124m'\u001b[39m\u001b[38;5;124mutf-8\u001b[39m\u001b[38;5;124m'\u001b[39m) \u001b[38;5;28;01mas\u001b[39;00m f:\n\u001b[1;32m    855\u001b[0m     f\u001b[38;5;241m.\u001b[39mwrite(cell)\n",
      "\u001b[0;31mFileNotFoundError\u001b[0m: [Errno 2] No such file or directory: 'NCode/vecadd.cu'"
     ]
    }
   ],
   "source": [
    "%%writefile NCode/vecadd.cu\n",
    "\n",
    "//Example modified from: https://gist.github.com/vo/3899348\n",
    "//Timing code from: https://www.pluralsight.com/blog/software-development/how-to-measure-execution-time-intervals-in-c--\n",
    "\n",
    "#include <iostream>\n",
    "#include <cuda.h>\n",
    "#include <chrono>\n",
    "\n",
    "__global__ void vecAdd(int *a_d,int *b_d,int *c_d,int N)\n",
    "{\n",
    "   int i = blockDim.x * blockIdx.x + threadIdx.x;\n",
    "   if (i < N)\n",
    "       c_d[i] = a_d[i] + b_d[i]; \n",
    "}\n",
    "\n",
    "void vecAdd_h(int *A1,int *B1, int *C1, int N)\n",
    "{\n",
    "   for(int i=0;i<N;i++)\n",
    "      C1[i] = A1[i] + B1[i];\n",
    "}\n",
    "\n",
    "int main(int argc,char **argv)\n",
    "{\n",
    "   int n=10000000;\n",
    "   int nBytes = n*sizeof(int);\n",
    "   int *a,*b,*c,*c2;\n",
    "   int *a_d,*b_d,*c_d;\n",
    "\n",
    "   int num_threads = 1024;\n",
    "   int num_blocks = n/num_threads+1;\n",
    "   dim3 numThreads(num_threads,1,1);\n",
    "   dim3 numBlocks(num_blocks,1,1); \n",
    "    \n",
    "   //Check device\n",
    "   struct cudaDeviceProp properties;\n",
    "   cudaGetDeviceProperties(&properties, 0);\n",
    "   printf(\"using %d multiprocessors\\n\",properties.multiProcessorCount);\n",
    "   printf(\"max threads per processor: %d \\n\\n\",properties.maxThreadsPerMultiProcessor);\n",
    "    \n",
    "    \n",
    "   printf(\"nBytes=%d num_threads=%d, num_blocks=%d\\n\",nBytes,num_threads,num_blocks);\n",
    "\n",
    "   if (!(a = (int*) malloc(nBytes))) {\n",
    "        fprintf(stderr, \"malloc() FAILED (thread)\\n\");\n",
    "        exit(0);\n",
    "    }\n",
    "\n",
    "   if (!(b = (int*) malloc(nBytes))) {\n",
    "        fprintf(stderr, \"malloc() FAILED (thread)\\n\");\n",
    "        exit(0);\n",
    "    }\n",
    "\n",
    "   if (!(c = (int*) malloc(nBytes))) {\n",
    "        fprintf(stderr, \"malloc() FAILED (thread)\\n\");\n",
    "        exit(0);\n",
    "    }\n",
    "\n",
    "   if (!(c2 = (int*) malloc(nBytes))) {\n",
    "        fprintf(stderr, \"malloc() FAILED (thread)\\n\");\n",
    "        exit(0);\n",
    "    }\n",
    "    \n",
    "   for(int i=0;i<n;i++)\n",
    "      a[i]=i,b[i]=i;\n",
    "    \n",
    "   printf(\"Allocating device memory on host..\\n\");\n",
    "   cudaMalloc((void **)&a_d,nBytes);\n",
    "   cudaMalloc((void **)&b_d,nBytes);\n",
    "   cudaMalloc((void **)&c_d,nBytes);\n",
    "    \n",
    "   auto start_d = std::chrono::high_resolution_clock::now();\n",
    "\n",
    "   printf(\"Copying to device..\\n\");\n",
    "   cudaMemcpy(a_d,a,nBytes,cudaMemcpyHostToDevice);\n",
    "   cudaMemcpy(b_d,b,nBytes,cudaMemcpyHostToDevice);\n",
    "   \n",
    "   printf(\"Doing GPU Vector add\\n\");\n",
    "   vecAdd<<<numBlocks, numThreads>>>(a_d,b_d,c_d,n);\n",
    "   cudaError_t err = cudaGetLastError();\n",
    "   if (err != cudaSuccess) {\n",
    "        fprintf(stderr, \"\\n\\nError: %s\\n\\n\", cudaGetErrorString(err)); fflush(stderr); exit(err);   \n",
    "   }\n",
    "    \n",
    "   printf(\"Copying results to host..\\n\");   \n",
    "   cudaMemcpy(c,c_d,nBytes,cudaMemcpyDeviceToHost);\n",
    "   \n",
    "   auto end_d = std::chrono::high_resolution_clock::now();\n",
    "   \n",
    "   auto start_h = std::chrono::high_resolution_clock::now();\n",
    "   printf(\"Doing CPU Vector add\\n\");\n",
    "   vecAdd_h(a,b,c2,n);\n",
    "   auto end_h = std::chrono::high_resolution_clock::now();\n",
    "    \n",
    "   //Test results\n",
    "   int error = 0;\n",
    "   for(int i=0;i<n;i++) {\n",
    "      error += abs(c[i]-c2[i]);\n",
    "      if (error)\n",
    "          printf(\"%i, %d, %d\\n\", i, c[i], c2[i]);\n",
    "   }\n",
    "\n",
    "   //Print Timing\n",
    "   std::chrono::duration<double> time_d = end_d - start_d;\n",
    "   std::chrono::duration<double> time_h = end_h - start_h;\n",
    "   printf(\"vectorsize=%d\\n\",n);\n",
    "   printf(\"difference_error=%d\\n\",error);\n",
    "   printf(\"Device time: %f s\\n \", time_d.count());\n",
    "   printf(\"Host time: %f s\\n\", time_h.count()); \n",
    "    \n",
    "   cudaFree(a_d);\n",
    "   cudaFree(b_d);\n",
    "   cudaFree(c_d);\n",
    "   return 0;\n",
    "}"
   ]
  },
  {
   "cell_type": "code",
   "execution_count": null,
   "metadata": {},
   "outputs": [],
   "source": [
    "#Compile Cuda\n",
    "!nvcc -std=c++11 -o vecadd NCode/vecadd.cu"
   ]
  },
  {
   "cell_type": "code",
   "execution_count": null,
   "metadata": {},
   "outputs": [],
   "source": [
    "#Run Example\n",
    "!./vecadd"
   ]
  },
  {
   "cell_type": "markdown",
   "metadata": {},
   "source": [
    "&#9989; **<font color=red>DO THIS:</font>** Copy and paste the above code to the HPCC and get it to compile and run.\n",
    "\n",
    "&#9989; **<font color=red>DO THIS:</font>** Analyse the code and see if you can figure out what it is doing.  Where are the key steps? \n",
    "\n",
    "&#9989; **<font color=red>DO THIS:</font>** Think about why this code does not do a fair timing comparison between the CPU and the GPU.  Make modifications to make it a more fair comparison.\n",
    "\n",
    "&#9989; **<font color=red>DO THIS:</font>** As in the pre-class video, the exit codes for the CUDA program are not being checked.  Add the CUDA_CALL command to your program. "
   ]
  },
  {
   "cell_type": "markdown",
   "metadata": {},
   "source": [
    "* Key steps are the declaration of the device version of the vector addition and the declaration of the host version, the initialization of number of threads and blocks, the allocation of device memory on host, the copying of memory to device, the GPU addition, the copying of results back to host, the CPU addition, and then the printing of results.\n",
    "* The code does not do a fair timing comparison between the CPU and GPU because they start timing the GPU when it's copying data from the host whereas the CPU's start time is directly before the CPU vector addition."
   ]
  },
  {
   "cell_type": "markdown",
   "metadata": {},
   "source": [
    "-----\n",
    "### Congratulations, we're done!\n",
    "\n",
    "Have one of the instructors check your notebook and sign you out before leaving class. Turn in your assignment using D2L."
   ]
  },
  {
   "cell_type": "markdown",
   "metadata": {},
   "source": [
    "Written by Dr. Dirk Colbry, Michigan State University (Updated by Dr. Nathan Haut in Spring 2025)\n",
    "<a rel=\"license\" href=\"http://creativecommons.org/licenses/by-nc/4.0/\"><img alt=\"Creative Commons License\" style=\"border-width:0\" src=\"https://i.creativecommons.org/l/by-nc/4.0/88x31.png\" /></a><br />This work is licensed under a <a rel=\"license\" href=\"http://creativecommons.org/licenses/by-nc/4.0/\">Creative Commons Attribution-NonCommercial 4.0 International License</a>."
   ]
  },
  {
   "cell_type": "markdown",
   "metadata": {},
   "source": [
    "----"
   ]
  }
 ],
 "metadata": {
  "kernelspec": {
   "display_name": "Python 3 (ipykernel)",
   "language": "python",
   "name": "python3"
  },
  "language_info": {
   "codemirror_mode": {
    "name": "ipython",
    "version": 3
   },
   "file_extension": ".py",
   "mimetype": "text/x-python",
   "name": "python",
   "nbconvert_exporter": "python",
   "pygments_lexer": "ipython3",
   "version": "3.11.3"
  }
 },
 "nbformat": 4,
 "nbformat_minor": 4
}
