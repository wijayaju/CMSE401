{
 "cells": [
  {
   "cell_type": "markdown",
   "metadata": {},
   "source": [
    "In order to successfully complete this assignment you need to participate both individually and in groups during class.   Have one of the instructors check your notebook and sign you out before leaving class. Turn in your assignment using D2L. "
   ]
  },
  {
   "cell_type": "markdown",
   "metadata": {},
   "source": [
    "---\n"
   ]
  },
  {
   "cell_type": "markdown",
   "metadata": {},
   "source": [
    "# In-Class Assignment: Parallel Python\n",
    "\n",
    "<img src=\"https://images-na.ssl-images-amazon.com/images/I/41dqFN7dIrL.jpg\">\n",
    "\n",
    "Image from: https://www.amazon.com/\n"
   ]
  },
  {
   "cell_type": "markdown",
   "metadata": {},
   "source": [
    "### Agenda for today's class (70 minutes)\n",
    "\n",
    "1. (20 minutes)[Pre class Review](#Pre-class-Review)\n",
    "2. (30 minutes)[How do you make Python go faster?](#How-do-you-make-Python-go-faster?)\n",
    "3. (20 minutes)[Wave Equation](#Wave_Equation)\n",
    "\n",
    "\n",
    "\n",
    "\n"
   ]
  },
  {
   "cell_type": "markdown",
   "metadata": {},
   "source": [
    "\n",
    "\n",
    "---\n",
    "<a name=Pre-class-Review></a>\n",
    "# 1. Pre class Review\n",
    "\n",
    "\n",
    "Discuss the pre-class content with your group and work through any questions or challenges you encountered. "
   ]
  },
  {
   "cell_type": "markdown",
   "metadata": {},
   "source": [
    "\n",
    "---\n",
    "<a name=How-do-you-make-Python-go-faster?></a>\n",
    "# 2. How do you make Python go faster?\n",
    "\n",
    "\n",
    "&#9989; **<font color=red>DO THIS</font>**: Spend some time searching on Google and record any strategies or libraries that could be used to speed up Python code. Discuss with your group and record all the strategies you could come up with.  "
   ]
  },
  {
   "cell_type": "markdown",
   "metadata": {},
   "source": [
    "- Use of multithreading library\n",
    "- Numba\n",
    "- xrange instead of range for loops"
   ]
  },
  {
   "cell_type": "markdown",
   "metadata": {},
   "source": [
    "----\n",
    "<a name=\"Wave_Equation\"></a>\n",
    "\n",
    "# 3. Wave Equation\n",
    "\n",
    "In this section we will explore the speed of a 1D wave equation simulation.  This section can be broken up into the following subsections:\n",
    "\n",
    "<img src=\"https://i.stack.imgur.com/75vyK.gif\" width=25%>\n",
    "\n",
    "\n",
    "- [Wave equation overview](#Wave_equation_overview)\n",
    "- [Basic Python Example](#Basic_Python_Example)\n",
    "- [Vectorizing code with Numpy](#Vectorizing_code_with_Numpy)\n",
    "- [Compiling Python code using Numba](#Compiling_Python_code_using_Numba)\n",
    "- [Parallel Python](#Parallel_Python)\n",
    "\n",
    "<a name=\"Wave_equation_overview\"></a>\n",
    "## Wave equation overview\n",
    "This subsection describes the math behind this particular 1D wave simulation.  Knowing this math is not important to the lesson on speeding up code but is included for completness.\n",
    "\n",
    "The wave equation is a  second-order linear partial differential equation for the description of waves as they occur in classical physics (for example: water waves, sound waves and seismic waves, light waves).  The basic algorithm splits the wave into a grid of points and calculates the point's position, velocity and acceleration.  The key incite to making the wave equations work that an individuals point will lead/follow the behavior of that points neighbors.  \n",
    "\n",
    "\n",
    "In the 1D case we will model a line of points in the x-direction such that thy can only move in the y direction. The position for each point  $y$ can be calculated by the particle's previous position and the particle's velocity multiplied by the change in time:\n",
    "\n",
    "$$y_{i+1} = y_i + \\dot{y}_idt$$\n",
    "\n",
    "Notation:\n",
    "$$\\frac{dy}{dt} = \\dot{y} = v = \\text{velocity of particle in y direction}$$\n",
    "\n",
    "We calculation the velocity using the acceleration:\n",
    "\n",
    "$$\\dot{y}_{i+1} = \\dot{y}_i + \\ddot{y}_idt$$\n",
    "\n",
    "Notation:\n",
    "$$\\frac{d^2y}{dt^2} = \\frac{dv}{dt} = \\ddot{y} = a = \\text{acceleration of particle in y direction}$$\n",
    "\n",
    "\n",
    "Given the above equations,  if we know the starting values $y_0$, $\\dot{y}_0$, $\\ddot{y}_0$ then the only unknown is the equation for how the acceleration changes.  \n",
    "\n",
    "**Wave Equation:** We will estimate acceleration in time by using acceleration in space. Intuitively we can think about this as any point can estimate where it will be in the future by looking at it's neighbors. Mathematically we show this equation as follows:\n",
    "\n",
    "\n",
    "$$\\frac{d^2y}{dt^2} = \\gamma\\frac{d^2y}{dx^2}$$\n",
    "\n"
   ]
  },
  {
   "cell_type": "markdown",
   "metadata": {},
   "source": [
    "We know the acceleration in space using the Euler's finite difference of the particle's position:"
   ]
  },
  {
   "cell_type": "markdown",
   "metadata": {},
   "source": [
    "$$\\frac{d^2y}{dx^2} \\approx \\frac{y[i+1]-2y[i]+y[i-1]}{dx^2}$$"
   ]
  },
  {
   "cell_type": "markdown",
   "metadata": {},
   "source": [
    "To get the above equation we estimate the velocity to the Left and Right (Before and After) the point of interest using Finite Difference:\n",
    "\n",
    "$$\\dot{y}[i]_L = \\frac{y[i]-y[i-1]}{dx}$$\n",
    "\n",
    "$$\\dot{y}[i]_R = \\frac{y[i+1]-y[i]}{dx}$$"
   ]
  },
  {
   "cell_type": "markdown",
   "metadata": {},
   "source": [
    "Second, using the Left and Right Velocity,  we use finite difference again to estimate the acceleration:\n",
    "\n",
    "$$\\ddot{y}[i] = \\frac{\\dot{y}[i]_R - \\dot{y}[i]_L}{dx}$$"
   ]
  },
  {
   "cell_type": "markdown",
   "metadata": {},
   "source": [
    "Putting it all together and simplifying we get the followign:"
   ]
  },
  {
   "cell_type": "markdown",
   "metadata": {},
   "source": [
    "$$\\ddot{y}[i] = \\frac{y[i+1]-2y[i]+y[i-1]}{dx^2}$$"
   ]
  },
  {
   "cell_type": "markdown",
   "metadata": {},
   "source": [
    "Given the above we can calculate a point's position at time step $t+1$ by using it's position/velocity at timestep $t$ and it's neighbors position at time step $t-1$.\n"
   ]
  },
  {
   "cell_type": "markdown",
   "metadata": {},
   "source": [
    "Pseudocode and settings for 1D Wave Equation\n",
    "\n",
    "> ### Divide simulation into grid in the x direction\n",
    "> \n",
    "> $xmin = 0; xmax=10; nx=500$\n",
    ">\n",
    "> $dx = \\frac{xmax-xmin}{nx}$\n",
    ">\n",
    "> $x = \\text{linspace}(xmin, xmax, nx)$  #Returns a row vector of nx evenly spaced points between xmin and xmax.\n",
    ">\n",
    "> ### Divide time into discrete units\n",
    ">\n",
    "> $tmin = 0; tmax=10; nt=1000000$\n",
    ">\n",
    "> $dt = \\frac{tmax-tmin}{nt}$\n",
    ">\n",
    "> $times = \\text{linespace}(tmin,tmax, nt)$ #Returns a row vector of nt evenly spaced points between tmin and tmax.\n",
    ">\n",
    "> ### Initialize starting position as a simple pulse\n",
    ">\n",
    "> $y_i = e^{-(x_i-5)^2}$ for all $i \\in [0,nx)$\n",
    ">\n",
    "> ### Initialize velocity and acceleration to zero\n",
    ">\n",
    "> $\\dot{y}_i = 0$ for all $i \\in [0,nx)$\n",
    ">\n",
    "> $\\ddot{y}_i = 0$ for all $i \\in [0,nx)$\n",
    ">\n",
    "> $\\gamma = 1$\n",
    ">\n",
    "> ### Run the simulation of t timesteps\n",
    "> Loop over index $t$ in $times$:\n",
    ">\n",
    ">    > $\\ddot{y}_0 = 0$ # Keep acceleration to zero on ends\n",
    ">    >\n",
    ">    > $\\ddot{y}_{nx-1} = 0$ # Keep acceleration to zero on ends\n",
    ">    >\n",
    ">    > $\\ddot{y}_i \\approx \\gamma \\frac{y_{(i+1)} + y_{(i-1)}-2y_i}{dx^2}$ for all $i \\in (0,nx-1)$ # Estimate acceleration using position\n",
    ">    > \n",
    ">    > $y_i = y_i + \\dot{y}_i dt$   for all $i \\in [0,nx)$ # Update position\n",
    ">    >\n",
    ">    > $\\dot{y}_{i} = \\dot{y}_i+ \\ddot{y}_idt$   for all $i \\in [0,nx)$ # Update velocity\n"
   ]
  },
  {
   "cell_type": "markdown",
   "metadata": {},
   "source": [
    "<a name=\"Basic_Python_Example\"></a>\n",
    "## Basic Python Example"
   ]
  },
  {
   "cell_type": "code",
   "execution_count": 18,
   "metadata": {},
   "outputs": [],
   "source": [
    "%matplotlib inline\n",
    "import matplotlib.pylab as plt\n",
    "from IPython.display import display, clear_output\n",
    "import time\n",
    "def show_animation(delay=0.01):\n",
    "    fig = plt.gcf()\n",
    "    time.sleep(delay)       # Sleep for half a second to slow down the animation\n",
    "    clear_output(wait=True) # Clear output for dynamic display\n",
    "    display(fig)            # Reset display\n",
    "    fig.clear()             # Prevent overlapping and layered plots"
   ]
  },
  {
   "cell_type": "code",
   "execution_count": 19,
   "metadata": {},
   "outputs": [
    {
     "data": {
      "image/png": "[encoded data removed]",
      "text/plain": [
       "<Figure size 640x480 with 1 Axes>"
      ]
     },
     "metadata": {},
     "output_type": "display_data"
    },
    {
     "name": "stdout",
     "output_type": "stream",
     "text": [
      "CPU times: user 35.6 s, sys: 326 ms, total: 35.9 s\n",
      "Wall time: 38.7 s\n"
     ]
    }
   ],
   "source": [
    "%%time \n",
    "# Python only 1D Wave Example\n",
    "import math \n",
    "\n",
    "show=False\n",
    "xmin = 0.0\n",
    "xmax = 10.0\n",
    "nx = 500\n",
    "dx = (xmax-xmin)/(nx-1.0)\n",
    "x = [0.0]*nx\n",
    "x[0]=0.0\n",
    "for i in range(1,nx-1):\n",
    "    x[i]=xmin+i*dx\n",
    "x[nx-1]=10.0\n",
    "\n",
    "nt = 100000\n",
    "tmin = 0.0\n",
    "tmax = 10.0\n",
    "dt = (tmax-tmin)/(nt-1.0)\n",
    "tgrid = [0.0]*nt\n",
    "tgrid[0]=0.0\n",
    "for i in range(1,nt-1):\n",
    "    tgrid[i]=tmin+i*dt\n",
    "tgrid[nx-1]=10.0\n",
    "\n",
    "\n",
    "y = [0.0]*nx\n",
    "v = [0.0]*nx\n",
    "dvdt = [0.0]*nx\n",
    "for i in range(0,nx-1):\n",
    "    y[i] = math.exp(-(x[i]-5.0)**2)\n",
    "\n",
    "count = 0\n",
    "for t in tgrid:\n",
    "    for i in range(1,nx-1):\n",
    "        dvdt[i]=(y[i+1]+y[i-1]-2.0*y[i])/dx/dx\n",
    "    for i in range(0,nx-1):\n",
    "        y[i] = y[i] + v[i]*dt\n",
    "        v[i] = v[i] + dvdt[i]*dt\n",
    "\n",
    "    if not count%10000 and show:\n",
    "        plt.plot(x, y);\n",
    "        plt.title(count)\n",
    "        show_animation();\n",
    "    count += 1\n",
    "\n",
    "\n",
    "plt.plot(x,y)\n",
    "show_animation();"
   ]
  },
  {
   "cell_type": "markdown",
   "metadata": {},
   "source": [
    "&#9989; **<font color=red>DO THIS</font>**: Run the above simple python simulation (It will take a while) with the show variable set to ```True``` and ```False```.  Record the time it takes to run below."
   ]
  },
  {
   "cell_type": "markdown",
   "metadata": {},
   "source": [
    "40.6s, 40.1s"
   ]
  },
  {
   "cell_type": "markdown",
   "metadata": {},
   "source": [
    "<a name=\"Vectorizing_code_with_Numpy\"></a>\n",
    "\n",
    "## Vectorizing code with Numpy\n",
    "\n",
    "Numpy uses C-compiled code to speed up Python.  Most slowdown's in code happen when there are big loops.  Numpy uses a lot of very cool tricks (ex vectorization) to make loops go really fast. SO, the trick to making Numpy go fast is to let Numpy run your loops for you.  \n",
    "\n",
    "Consider the 1D wave equation example:"
   ]
  },
  {
   "cell_type": "code",
   "execution_count": 23,
   "metadata": {},
   "outputs": [
    {
     "data": {
      "image/png": "[encoded data removed]",
      "text/plain": [
       "<Figure size 640x480 with 1 Axes>"
      ]
     },
     "metadata": {},
     "output_type": "display_data"
    },
    {
     "name": "stdout",
     "output_type": "stream",
     "text": [
      "CPU times: user 3.13 s, sys: 50 ms, total: 3.18 s\n",
      "Wall time: 3.45 s\n"
     ]
    }
   ],
   "source": [
    "%%time\n",
    "#NUMPY 1D Wave Example\n",
    "%matplotlib inline\n",
    "import matplotlib.pylab as plt\n",
    "import numpy as np\n",
    "\n",
    "show = False\n",
    "\n",
    "xmin = 0.0\n",
    "xmax = 10.0\n",
    "nx = 500\n",
    "gamma = 1\n",
    "x = np.linspace(xmin, xmax, nx)\n",
    "dx = (xmax-xmin)/nx\n",
    "\n",
    "y = np.zeros(nx)\n",
    "y = np.exp(-(np.array(x)-5.0)**2)\n",
    "\n",
    "tmin = 0.0\n",
    "tmax = 10.0\n",
    "nt = 100000\n",
    "tgrid = np.linspace(tmin,tmax,nt)\n",
    "dt = (tmax-tmin)/nt\n",
    "\n",
    "v = np.zeros(nx)\n",
    "dvdt = np.zeros(nx)\n",
    "\n",
    "\n",
    "count = 0\n",
    "ddx = dx*dx\n",
    "dvdt2 = dvdt.copy()\n",
    "\n",
    "count = 0\n",
    "for t in tgrid:\n",
    "    #laplacian\n",
    "    dvdt[1:-1] = gamma*(y[:-2]-2*y[1:-1]+y[2:])/ddx\n",
    "    y += v*dt\n",
    "    v += dvdt*dt\n",
    "    \n",
    "    if not count%10000 and show:\n",
    "        plt.plot(x,y)\n",
    "        plt.title(count)\n",
    "        show_animation()\n",
    "    count += 1\n",
    "plt.plot(x,y)\n",
    "show_animation()\n"
   ]
  },
  {
   "cell_type": "markdown",
   "metadata": {},
   "source": [
    "&#9989; **<font color=red>DO THIS</font>**: Run the above numpy python simulation (It should run much faster) with the show variable set to ```True``` and ```False```.  Record the time it takes to run below."
   ]
  },
  {
   "cell_type": "markdown",
   "metadata": {},
   "source": [
    "5.17s, 3.14s"
   ]
  },
  {
   "cell_type": "markdown",
   "metadata": {},
   "source": [
    "<a name=\"Compiling_Python_code_using_Numba\"></a>\n",
    "## Compiling Python code using Numba\n",
    "\n",
    "Numba is a module that takes your standard python function and turns it into c-code then compiles/runs the c version of the funciton.  It can speed things up very nicely.  In this example, we will use the ```@jit``` (Just in time) to convert the code in seciton 2 ([Slow 2D Wave Equation Example](#Slow_2D_Wave_Equation_Example)) to work with numba.  Here are the steps:\n",
    "\n",
    "1. Import the numba jit module using```from numba import jit```\n",
    "1. Copy all of your code into a function so jit has something to work with.\n",
    "3. Add the ```@jit``` with options before the declaration of the function to enable just in time compiling on the function."
   ]
  },
  {
   "cell_type": "code",
   "execution_count": 71,
   "metadata": {},
   "outputs": [],
   "source": [
    "import math\n",
    "from numba import jit\n",
    "\n",
    "@jit (nopython=True, parallel=True)\n",
    "def wave_sim():\n",
    "    show = False\n",
    "    xmin = 0.0\n",
    "    xmax = 10.0\n",
    "    nx = 500\n",
    "    dx = (xmax-xmin)/(nx-1.0)\n",
    "    x = [0.0]*nx\n",
    "    x[0]=0.0\n",
    "    for i in range(1,nx-1):\n",
    "        x[i]=xmin+i*dx\n",
    "    x[nx-1]=10.0\n",
    "\n",
    "    nt = 100000\n",
    "    tmin = 0.0\n",
    "    tmax = 10.0\n",
    "    dt = (tmax-tmin)/(nt-1.0)\n",
    "    tgrid = [0.0]*nt\n",
    "    tgrid[0]=0.0\n",
    "    for i in range(1,nt-1):\n",
    "        tgrid[i]=tmin+i*dt\n",
    "    tgrid[nx-1]=10.0\n",
    "\n",
    "\n",
    "    y = [0.0]*nx\n",
    "    v = [0.0]*nx\n",
    "    dvdt = [0.0]*nx\n",
    "    for i in range(0,nx-1):\n",
    "        y[i] = math.exp(-(x[i]-5.0)**2)\n",
    "\n",
    "    count = 0\n",
    "    for t in tgrid:\n",
    "        for i in range(1,nx-1):\n",
    "            dvdt[i]=(y[i+1]+y[i-1]-2.0*y[i])/dx/dx\n",
    "        for i in range(0,nx-1):\n",
    "            y[i] = y[i] + v[i]*dt\n",
    "            v[i] = v[i] + dvdt[i]*dt\n",
    "\n",
    "        # if not count%10000 and show:\n",
    "        #     plt.plot(x, y);\n",
    "        #     plt.title(count)\n",
    "        #     show_animation();\n",
    "        count += 1\n",
    "\n",
    "    return x,y;\n"
   ]
  },
  {
   "cell_type": "code",
   "execution_count": 73,
   "metadata": {},
   "outputs": [
    {
     "data": {
      "text/plain": [
       "<Figure size 640x480 with 0 Axes>"
      ]
     },
     "metadata": {},
     "output_type": "display_data"
    },
    {
     "data": {
      "image/png": "[encoded data removed]",
      "text/plain": [
       "<Figure size 640x480 with 1 Axes>"
      ]
     },
     "metadata": {},
     "output_type": "display_data"
    },
    {
     "name": "stdout",
     "output_type": "stream",
     "text": [
      "CPU times: user 1.39 s, sys: 27.5 ms, total: 1.42 s\n",
      "Wall time: 1.5 s\n"
     ]
    }
   ],
   "source": [
    "%%time \n",
    "%matplotlib inline\n",
    "import matplotlib.pylab as plt\n",
    "x,y = wave_sim()\n",
    "show_animation();\n",
    "plt.plot(x, y);\n",
    "plt.show();"
   ]
  },
  {
   "cell_type": "markdown",
   "metadata": {},
   "source": [
    "&#9989; **<font color=red>DO THIS</font>**: Run the above simple python simulation (It will take a while) with the show variable set to ```True``` and ```False```.  Record the time it takes to run below.  **NOTE:** You will probably get some compile warnings, irgnore these for now."
   ]
  },
  {
   "cell_type": "markdown",
   "metadata": {},
   "source": [
    "Doesn't work, 813ms"
   ]
  },
  {
   "cell_type": "markdown",
   "metadata": {},
   "source": [
    "&#9989; **<font color=red>DO THIS</font>**: Modify the function to only use \"core\" python methods only. i.e. completely comment out all lines of code that use libraries such as numpy and/or matplotlib. In the above example, comment out lines 42-45.  Record the time it takes to run below.  **NOTE:** This will get rid of the compile warnings from above.\n"
   ]
  },
  {
   "cell_type": "markdown",
   "metadata": {},
   "source": [
    "1.43s, 1.38s"
   ]
  },
  {
   "cell_type": "markdown",
   "metadata": {},
   "source": [
    "<a name=\"Parallel_Python\"></a>\n",
    "\n",
    "## Parallel Python\n",
    "\n",
    "Another way to achieve speedup is to utilize multiple processors on your computer. "
   ]
  },
  {
   "cell_type": "markdown",
   "metadata": {},
   "source": [
    "&#9989; **<font color=red>DO THIS</font>**: Replace the jit line from above with the following ```@jit (nopython=True, parallel=True)```. When avaliable this will run the code on more than one core. Give it a try and record your results."
   ]
  },
  {
   "cell_type": "markdown",
   "metadata": {},
   "source": [
    "1.45s, 1.42s"
   ]
  },
  {
   "cell_type": "markdown",
   "metadata": {},
   "source": [
    "&#9989; **<font color=red>DO THIS:</font>** Take your results from the entire study and plot them.&#9989; "
   ]
  },
  {
   "cell_type": "code",
   "execution_count": 77,
   "metadata": {},
   "outputs": [
    {
     "data": {
      "image/png": "[encoded data removed]",
      "text/plain": [
       "<Figure size 640x480 with 1 Axes>"
      ]
     },
     "metadata": {},
     "output_type": "display_data"
    }
   ],
   "source": [
    "# put your plotting code here.\n",
    "methods = ['serial', 'numpy', 'numba', 'parallel python']\n",
    "times = [40.1, 3.14, 1.38, 1.42]\n",
    "plt.bar(methods, times)\n",
    "plt.show()"
   ]
  },
  {
   "cell_type": "markdown",
   "metadata": {},
   "source": [
    "\n",
    "\n",
    "-----\n",
    "### Congratulations, we're done!\n",
    "\n",
    "Have one of the instructors check your notebook and sign you out before leaving class. Turn in your assignment using D2L."
   ]
  },
  {
   "cell_type": "markdown",
   "metadata": {},
   "source": [
    "Written by Dr. Dirk Colbry, Michigan State University (Updated by Dr. Nathan Haut in Spring 2025)\n",
    "<a rel=\"license\" href=\"http://creativecommons.org/licenses/by-nc/4.0/\"><img alt=\"Creative Commons License\" style=\"border-width:0\" src=\"https://i.creativecommons.org/l/by-nc/4.0/88x31.png\" /></a><br />This work is licensed under a <a rel=\"license\" href=\"http://creativecommons.org/licenses/by-nc/4.0/\">Creative Commons Attribution-NonCommercial 4.0 International License</a>."
   ]
  },
  {
   "cell_type": "markdown",
   "metadata": {},
   "source": [
    "----"
   ]
  }
 ],
 "metadata": {
  "kernelspec": {
   "display_name": "Python [conda env:base] *",
   "language": "python",
   "name": "conda-base-py"
  },
  "language_info": {
   "codemirror_mode": {
    "name": "ipython",
    "version": 3
   },
   "file_extension": ".py",
   "mimetype": "text/x-python",
   "name": "python",
   "nbconvert_exporter": "python",
   "pygments_lexer": "ipython3",
   "version": "3.12.7"
  }
 },
 "nbformat": 4,
 "nbformat_minor": 4
}
