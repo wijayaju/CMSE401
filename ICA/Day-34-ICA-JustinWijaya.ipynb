{
 "cells": [
  {
   "cell_type": "markdown",
   "metadata": {},
   "source": [
    "In order to successfully complete this assignment you need to participate both individually and in groups during class.   Have one of the instructors check your notebook and sign you out before leaving class. Turn in your assignment using D2L. "
   ]
  },
  {
   "cell_type": "markdown",
   "metadata": {},
   "source": [
    "---"
   ]
  },
  {
   "cell_type": "markdown",
   "metadata": {},
   "source": [
    "# ICA 34: Which is Best?\n",
    "<img src=\"https://slideswith.com/cdn-cgi/image/w=800,h=400,fit=scale-down,f=auto/https://cdn.prod.website-files.com/62ba01ba5ddce9536b927dbb/645564efe56522655754e912_3.png\">\n",
    "\n"
   ]
  },
  {
   "cell_type": "markdown",
   "metadata": {},
   "source": [
    "### Agenda for today's class (70 minutes)\n",
    "\n",
    "</p>\n",
    "\n",
    "1. (30 minutes) Which parallel library is best and why\n",
    "2. (40 minutes) Project Part 2 Debugging"
   ]
  },
  {
   "cell_type": "markdown",
   "metadata": {},
   "source": [
    "----\n",
    "\n",
    "# 1. Which parallel library is best and why\n",
    "\n",
    "&#9989; **<font color=red>DO THIS:</font>** Make a list of example problems.  These can include examples we have covered in class, examples from your projects, and any other problems you can think of or find online.  \n",
    "\n",
    "&#9989; **<font color=red>DO THIS:</font>**  Try to group the problems into different categories based on any patterns you can find in the problems.\n",
    "\n",
    "&#9989; **<font color=red>DO THIS:</font>** For each example/category discuss what considerations should made and how would we select the \"best\" parallel paradigm for each example. Think about what steps you would have to take if you were to parallelize it using each strategy learned in the class and if you would expect performance gains or not. \n",
    "\n",
    "Feel free to use the following structure below when summarizing your thoughts. "
   ]
  },
  {
   "cell_type": "markdown",
   "metadata": {},
   "source": [
    "- 1D wave solver\n",
    "- pi estimation\n",
    "- matrix multiplication"
   ]
  },
  {
   "cell_type": "markdown",
   "metadata": {},
   "source": [
    "## Problem 1: 1D Wave Solver\n",
    "\n",
    "#### Implementation Steps\n",
    "- Split the calculation loops into threads\n",
    "- Store that information in the dedicated index correlated to the working array\n",
    "\n",
    "#### Considerations\n",
    "- Frequent access to array\n",
    "- Calculation loops take output from previous iteration and uses it as base for further calculations.\n",
    "- Expected display output needs to be serial\n",
    "\n",
    "#### Best Parallel Method\n",
    "- OpenMP\n",
    "\n",
    "___\n",
    "\n",
    "## Problem 2: Pi Estimation\n",
    "\n",
    "#### Implementation Steps\n",
    "- Split each iteration's work\n",
    "\n",
    "#### Considerations\n",
    "- Random data points with every iteration\n",
    "- No data storage access to worry about\n",
    "\n",
    "#### Best Parallel Method\n",
    "- MPI\n",
    "\n",
    "___\n",
    "\n",
    "## Problem 3: Matrix Multiplication\n",
    "\n",
    "#### Implementation Steps\n",
    "- Access the values in two arrays\n",
    "- Store product in specific index in output array\n",
    "\n",
    "#### Considerations\n",
    "- Serial display output\n",
    "\n",
    "#### Best Parallel Method\n",
    "- CUDA"
   ]
  },
  {
   "cell_type": "markdown",
   "metadata": {},
   "source": [
    "# 2. Project Part 2\n",
    "\n",
    "Part 2 of the project is coming due very soon! Take this time to work out any issues you are facing with your project and ask your group members or your instructor if you need help getting something to work. \n",
    "\n",
    "\n"
   ]
  },
  {
   "cell_type": "markdown",
   "metadata": {},
   "source": [
    "-----\n",
    "### Congratulations, we're done!\n",
    "\n",
    "Have one of the instructors check your notebook and sign you out before leaving class. Turn in your assignment using D2L."
   ]
  },
  {
   "cell_type": "markdown",
   "metadata": {},
   "source": [
    "Written by Dr. Dirk Colbry, Michigan State University (Updated by Dr. Nathan Haut in Spring 2025)\n",
    "<a rel=\"license\" href=\"http://creativecommons.org/licenses/by-nc/4.0/\"><img alt=\"Creative Commons License\" style=\"border-width:0\" src=\"https://i.creativecommons.org/l/by-nc/4.0/88x31.png\" /></a><br />This work is licensed under a <a rel=\"license\" href=\"http://creativecommons.org/licenses/by-nc/4.0/\">Creative Commons Attribution-NonCommercial 4.0 International License</a>."
   ]
  },
  {
   "cell_type": "markdown",
   "metadata": {},
   "source": [
    "----"
   ]
  }
 ],
 "metadata": {
  "kernelspec": {
   "display_name": "Python [conda env:base] *",
   "language": "python",
   "name": "conda-base-py"
  },
  "language_info": {
   "codemirror_mode": {
    "name": "ipython",
    "version": 3
   },
   "file_extension": ".py",
   "mimetype": "text/x-python",
   "name": "python",
   "nbconvert_exporter": "python",
   "pygments_lexer": "ipython3",
   "version": "3.12.7"
  }
 },
 "nbformat": 4,
 "nbformat_minor": 4
}
