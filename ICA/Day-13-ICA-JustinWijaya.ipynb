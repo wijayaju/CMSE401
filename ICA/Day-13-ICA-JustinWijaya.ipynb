{
 "cells": [
  {
   "cell_type": "markdown",
   "metadata": {},
   "source": [
    "In order to successfully complete this assignment you need to participate both individually and in groups during class.   Have one of the instructors check your notebook and sign you out before leaving class. Turn in your assignment using D2L. "
   ]
  },
  {
   "cell_type": "markdown",
   "metadata": {},
   "source": [
    "---\n"
   ]
  },
  {
   "cell_type": "markdown",
   "metadata": {},
   "source": [
    "# ICA 13: OpenMP Critical Sections and Basic Loops\n",
    "\n",
    "\n",
    "<img alt=\"image of puppies eating out of their bowls as an analogy for parallel programming. Basically we want it to be neat but it turns out chaotic\" src=\"https://lh4.googleusercontent.com/HhED4Hd3rrOUvlgOWnQflBimnSM-fQGfaOJjfxi-ugrZCV1F-hsx-VxY3oXenw8rEFmoSdT67g=w526\" width=\"100%\">\n"
   ]
  },
  {
   "cell_type": "markdown",
   "metadata": {},
   "source": [
    "### Agenda for today's class (70 minutes)\n",
    "\n",
    "\n",
    "1. (20 minutes) [Pre class review](#Pre-class-review)\n",
    "2. (20 minutes) [Scheduling Shared memory jobs](#Scheduling_Shared_memory_jobs)\n",
    "3. (25 minutes) [Benchmark Loops](#Benchmark_Loops)\n"
   ]
  },
  {
   "cell_type": "markdown",
   "metadata": {},
   "source": [
    "---\n",
    "<a name=Pre-class-review></a>\n",
    "# 1. Pre class review\n",
    "\n",
    "\n",
    "&#9989; **<font color=red>DO THIS:</font>** Discuss and summarize the importance of synchronization with your group and record the key points here. \n"
   ]
  },
  {
   "cell_type": "markdown",
   "metadata": {},
   "source": [
    "It keeps the data from being corrupted by coordinating the threads' access to shared variables."
   ]
  },
  {
   "cell_type": "markdown",
   "metadata": {},
   "source": [
    "\n",
    "\n",
    "---\n",
    "<a name=\"Scheduling_Shared_memory_jobs\"></a>\n",
    "\n",
    "# 2. Scheduling Shared memory jobs\n",
    "\n",
    "Today we are going to submit OpenMP jobs to the cluster and verify they run properly by inspecting their output. To start lets use the classic OMP hello world program:\n",
    "\n",
    "\n",
    "```c++\n",
    "#include \"omp.h\"\n",
    "#include \"stdio.h\"\n",
    "int main()\n",
    "{\n",
    "    #pragma omp parallel\n",
    "    {\n",
    "        int ID = omp_get_thread_num();\n",
    "        printf(\"hello(%d)\",ID);\n",
    "        printf(\" world(%d) \\n\",ID);\n",
    "    }\n",
    "}\n",
    "```\n",
    "\n",
    "&#9989; **<font color=red>DO THIS:</font>** Compile and test the above program on the command line.  Make a submission script and run the program with 7 cores on the HPCC. \n"
   ]
  },
  {
   "cell_type": "markdown",
   "metadata": {},
   "source": [
    "**_HINT_**: Try adding the ```srun``` command before your parallel commands.  This command does some checks to make sure everything is running properly.  Although not required for OpenMP, it definitely comes in handy with GPU and MPI jobs."
   ]
  },
  {
   "cell_type": "markdown",
   "metadata": {},
   "source": [
    "\n",
    "---\n",
    "<a name=\"Benchmark_Loops\"></a>\n",
    "\n",
    "## 3. Benchmark Loops\n",
    "\n",
    "&#9989; **<font color=red>DO THIS:</font>** Write a more advanced submission script that requests 20 shared memory cores and uses your homework solution (HW 1).  Include a bash loop in the script which will change the ```OMP_NUM_THREADS``` environment variable.  The first iteration of the loop should run on one core, the second should run on 2, and continue until the code is running on all cores.  Output the timing information in such a way that it will be easy to ```grep``` the results and graph them in python. \n",
    "\n",
    "\n",
    "**_Graph Results_**: Graph your test results. \n",
    "\n",
    "\n",
    "\n",
    "\n",
    "**_CHALLENGE_**:  For an advanced challenge see if you can rewrite the script to avoid idle cores.  In this case you would want to run the 20 core test by itself but 1 and 19 could run at the same time just like 2 and 18.  "
   ]
  },
  {
   "cell_type": "markdown",
   "metadata": {},
   "source": [
    "\n",
    "-----\n",
    "### Congratulations, we're done!\n",
    "\n",
    "Have one of the instructors check your notebook and sign you out before leaving class. Turn in your assignment using D2L."
   ]
  },
  {
   "cell_type": "markdown",
   "metadata": {},
   "source": [
    "Written by Dr. Dirk Colbry, Michigan State University (Updated by Dr. Nathan Haut in Spring 2025)\n",
    "<a rel=\"license\" href=\"http://creativecommons.org/licenses/by-nc/4.0/\"><img alt=\"Creative Commons License\" style=\"border-width:0\" src=\"https://i.creativecommons.org/l/by-nc/4.0/88x31.png\" /></a><br />This work is licensed under a <a rel=\"license\" href=\"http://creativecommons.org/licenses/by-nc/4.0/\">Creative Commons Attribution-NonCommercial 4.0 International License</a>."
   ]
  },
  {
   "cell_type": "markdown",
   "metadata": {},
   "source": [
    "----"
   ]
  }
 ],
 "metadata": {
  "kernelspec": {
   "display_name": "Python [conda env:base] *",
   "language": "python",
   "name": "conda-base-py"
  },
  "language_info": {
   "codemirror_mode": {
    "name": "ipython",
    "version": 3
   },
   "file_extension": ".py",
   "mimetype": "text/x-python",
   "name": "python",
   "nbconvert_exporter": "python",
   "pygments_lexer": "ipython3",
   "version": "3.12.7"
  }
 },
 "nbformat": 4,
 "nbformat_minor": 4
}
