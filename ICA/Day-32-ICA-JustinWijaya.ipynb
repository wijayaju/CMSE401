{
 "cells": [
  {
   "cell_type": "markdown",
   "metadata": {},
   "source": [
    "In order to successfully complete this assignment you need to participate both individually and in groups during class.  Have one of the instructors check your notebook and sign you out before leaving class. Turn in your assignment using D2L. "
   ]
  },
  {
   "cell_type": "markdown",
   "metadata": {},
   "source": [
    "---"
   ]
  },
  {
   "cell_type": "markdown",
   "metadata": {},
   "source": [
    "# ICA 32: MPI Reduce Example\n",
    "\n",
    "<img src=\"https://upload.wikimedia.org/wikipedia/commons/2/2a/Pi-unrolled-720.gif\">\n",
    "<p style=\"text-align: right;\">Animation from: [Wikipedia](https://en.wikipedia.org/wiki/File:Pi-unrolled-720.gif)</p>"
   ]
  },
  {
   "cell_type": "markdown",
   "metadata": {},
   "source": [
    "### Agenda for today's class (70 minutes)\n",
    "\n",
    "</p>\n",
    "\n",
    "2. (10 minutes) Pre-class Review \n",
    "1. (60 minutes) Pi Monte Carlo"
   ]
  },
  {
   "cell_type": "markdown",
   "metadata": {},
   "source": [
    "---\n",
    "# 1. Pre-class Review \n"
   ]
  },
  {
   "cell_type": "markdown",
   "metadata": {},
   "source": [
    "**QUESTION:** From a parallel point of view. What are some fundamental differences between the pi estimation programs we have looked at this semester?  How do these differences influence which parallel library we can use?"
   ]
  },
  {
   "cell_type": "markdown",
   "metadata": {},
   "source": [
    "- We made multiple threads run just the pi calculation"
   ]
  },
  {
   "cell_type": "markdown",
   "metadata": {},
   "source": [
    "---\n",
    "\n",
    "# 2. Pi Monte Carlo\n",
    "\n",
    "\n",
    "Compare your notes/solutions from the pre-class and rewrite the following program as an MPI program.  **NOTE:** There are probablly hundreds of MPI solutions on-line for this problem. Lets avoid looking at the answers and see if we came come up with a resonable solution on our own.\n",
    "\n",
    "&#9989; **<font color=red>DO THIS:</font>** Step 1: Write and test a makefile and submission script.\n",
    "\n",
    "&#9989; **<font color=red>DO THIS:</font>** Step 2: Initialize and finalize MPI.\n",
    "\n",
    "&#9989; **<font color=red>DO THIS:</font>** Step 3: Separate the Master (Rank 0) with the workers.\n",
    "\n",
    "&#9989; **<font color=red>DO THIS:</font>** Step 4: Benchmark the results.\n",
    "\n",
    "\n",
    "```c++\n",
    "\n",
    "#include <stdlib.h>\n",
    "#include <stdio.h>\n",
    "#define sqr(x)\t((x)*(x))\n",
    "long random(void);\n",
    "\n",
    "double dboard(int darts)\n",
    "     {\n",
    "     double x_coord,       /* x coordinate, between -1 and 1  */\n",
    "            y_coord,       /* y coordinate, between -1 and 1  */\n",
    "            pi,            /* pi  */\n",
    "            r;             /* random number between 0 and 1  */\n",
    "     int score,            /* number of darts that hit circle */\n",
    "         n;\n",
    "     long rd;\n",
    "     unsigned long cconst; /* used to convert integer random number */\n",
    "                           /* between 0 and 2^31 to double random number */\n",
    "                           /* between 0 and 1  */\n",
    "\n",
    "     cconst = 2 << (31 - 1); \n",
    "     cconst = RAND_MAX;\n",
    "     score = 0;\n",
    "\n",
    "     /* \"throw darts at board\" */\n",
    "     for (n = 1; n <= darts; n++)  {\n",
    "          /* generate random numbers for x and y coordinates */\n",
    "          rd = random();\n",
    "\t  //printf(\"Rand - %ld\\t\",rd);\n",
    "          r = (double)rd/cconst;\n",
    "          //printf(\"%10.8f\\n\",r);\n",
    "          x_coord = (2.0 * r) - 1.0;\n",
    "          r = (double)random()/cconst;\n",
    "          y_coord = (2.0 * r) - 1.0;\n",
    "\n",
    "          /* if dart lands in circle, increment score */\n",
    "          if ((sqr(x_coord) + sqr(y_coord)) <= 1.0)\n",
    "               score++;\n",
    "          }\n",
    "\n",
    "     /* calculate pi */\n",
    "     pi = 4.0 * (double)score/(double)darts;\n",
    "     return(pi);\n",
    "     } \n",
    "\n",
    "int main(int argc, char ** argv) {\n",
    " \n",
    "  /** Inicialize MPI **/\n",
    "    \n",
    "  double pi = dboard(1000000);  \n",
    "  printf(\"%0.16f\\n\",pi);\n",
    "    \n",
    "}\n",
    " ```"
   ]
  },
  {
   "cell_type": "markdown",
   "metadata": {},
   "source": [
    "-----\n",
    "### Congratulations, we're done!\n",
    "\n",
    "Have one of the instructors check your notebook and sign you out before leaving class. Turn in your assignment using D2L."
   ]
  },
  {
   "cell_type": "markdown",
   "metadata": {},
   "source": [
    "Written by Dr. Dirk Colbry, Michigan State University (Updated by Dr. Nathan Haut in Spring 2025)\n",
    "<a rel=\"license\" href=\"http://creativecommons.org/licenses/by-nc/4.0/\"><img alt=\"Creative Commons License\" style=\"border-width:0\" src=\"https://i.creativecommons.org/l/by-nc/4.0/88x31.png\" /></a><br />This work is licensed under a <a rel=\"license\" href=\"http://creativecommons.org/licenses/by-nc/4.0/\">Creative Commons Attribution-NonCommercial 4.0 International License</a>."
   ]
  },
  {
   "cell_type": "markdown",
   "metadata": {},
   "source": [
    "----"
   ]
  }
 ],
 "metadata": {
  "kernelspec": {
   "display_name": "Python [conda env:base] *",
   "language": "python",
   "name": "conda-base-py"
  },
  "language_info": {
   "codemirror_mode": {
    "name": "ipython",
    "version": 3
   },
   "file_extension": ".py",
   "mimetype": "text/x-python",
   "name": "python",
   "nbconvert_exporter": "python",
   "pygments_lexer": "ipython3",
   "version": "3.12.7"
  }
 },
 "nbformat": 4,
 "nbformat_minor": 4
}
