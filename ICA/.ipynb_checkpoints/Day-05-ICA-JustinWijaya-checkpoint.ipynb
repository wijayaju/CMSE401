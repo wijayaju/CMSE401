{
 "cells": [
  {
   "cell_type": "markdown",
   "metadata": {},
   "source": [
    "In order to successfully complete this assignment you need to participate both individually and in groups during class.   Have one of the instructors check your notebook and sign you out before leaving class."
   ]
  },
  {
   "cell_type": "markdown",
   "metadata": {},
   "source": [
    "---\n"
   ]
  },
  {
   "cell_type": "markdown",
   "metadata": {},
   "source": [
    "# In-Class Assignment: BASH\n",
    "\n",
    "\n",
    "<img alt=\"Simple logo for the bourne again shell\" src=\"https://cdn-images-1.medium.com/max/1600/1*FIjDPNm9zRO_ESbUiGmCXA.png\" width=75%>"
   ]
  },
  {
   "cell_type": "markdown",
   "metadata": {},
   "source": [
    "### Agenda for today's class (70 minutes)\n",
    "\n",
    "1. (20 minutes) [Pre class Review](#Pre-class-Review)\n",
    "2. (20 minutes) [BASH Tour](#BASH-Tour)\n",
    "3. (30 minutes) [Challenges](#Challenges)\n",
    "\n"
   ]
  },
  {
   "cell_type": "markdown",
   "metadata": {},
   "source": [
    "\n",
    "\n",
    "---\n",
    "<a name=Pre-class-Review></a>\n",
    "# 1. Pre class Review\n",
    "\n",
    "Discuss with your group and summarize the key topics learned in the PCA. "
   ]
  },
  {
   "cell_type": "markdown",
   "metadata": {},
   "source": [
    "* finding software in HPCC using module spider"
   ]
  },
  {
   "cell_type": "markdown",
   "metadata": {},
   "source": [
    "\n",
    "---\n",
    "<a name=BASH-Tour></a>\n",
    "# 2. BASH Tour\n",
    "\n",
    "\n",
    "\n",
    "&#9989; **<font color=red>QUESTION:</font>** What are the key components of a programming language?  What are the minimally useful set of commands you need to do something interesting in a programming?\n",
    "\n",
    "- Variables\n",
    "    - input arguments\n",
    "    - Return variables\n",
    "- Process IDs\n",
    "- Block code\n",
    "    - If statements\n",
    "    - Loops\n",
    "- piping and redirection\n",
    "- Common BASH Commands\n",
    "    - ls\n",
    "    - pwd \n",
    "    - find\n",
    "    - cat, more or less\n",
    "    - grep \n",
    "    - sed\n",
    "    - cut\n",
    "    - wc\n",
    " "
   ]
  },
  {
   "cell_type": "markdown",
   "metadata": {},
   "source": [
    "**<font color=red>EXAMPLE:</font>** Run the following command in the BCCD Directory. \n",
    "\n",
    "```bash\n",
    "echo $PATH | sed -e \"s/:/\\n/g\"\n",
    "```"
   ]
  },
  {
   "cell_type": "markdown",
   "metadata": {},
   "source": [
    "&#9989; **<font color=red>QUESTION:</font>** What did the above code do? "
   ]
  },
  {
   "cell_type": "markdown",
   "metadata": {},
   "source": [
    "piped $PATH output and reformatted it by removing every : and replacing it with a new line."
   ]
  },
  {
   "cell_type": "markdown",
   "metadata": {},
   "source": [
    "**<font color=red>EXAMPLE:</font>** Run the following command in one of the BCCD Directories with a ```Makefile```. \n",
    "\n",
    "```bash\n",
    "cat Makefile | grep cd | grep MAKE | cut -d \"d\" -f2- | cut -d \";\" -f 1 | sort | uniq\n",
    "```"
   ]
  },
  {
   "cell_type": "markdown",
   "metadata": {},
   "source": [
    "&#9989; **<font color=red>QUESTION:</font>** What did the above code do? Explain each part of the code?"
   ]
  },
  {
   "cell_type": "markdown",
   "metadata": {},
   "source": [
    "cat outputs the contents of Makefile, grep searched for instances of the keyword cd and the keyword MAKE within those instances, cut removes the text behind the first instance of 'd' and then removes the text after ';', then sorts and only displays the unique occurences."
   ]
  },
  {
   "cell_type": "markdown",
   "metadata": {},
   "source": [
    "\n",
    "\n",
    "---\n",
    "<a name=Challenges></a>\n",
    "# 3. Challenges\n",
    "\n",
    "**<font color=red>Challenge 1:</font>**  Write a BASH script to loop though a list of usernames (ex ```./BASH/usernames.txt```) and print out any jobs each person may have running using ```squeue -l -u $USERNAME```. Hint: use the who command to find a list of active users. "
   ]
  },
  {
   "cell_type": "code",
   "execution_count": 6,
   "metadata": {},
   "outputs": [
    {
     "ename": "SyntaxError",
     "evalue": "invalid syntax (3904029255.py, line 2)",
     "output_type": "error",
     "traceback": [
      "\u001b[0;36m  Cell \u001b[0;32mIn[6], line 2\u001b[0;36m\u001b[0m\n\u001b[0;31m    for USERNAME in $(who | cut -d \" \" -f 1);\u001b[0m\n\u001b[0m                    ^\u001b[0m\n\u001b[0;31mSyntaxError\u001b[0m\u001b[0;31m:\u001b[0m invalid syntax\n"
     ]
    }
   ],
   "source": [
    "# put your bash script code here\n",
    "for USERNAME in $(who | cut -d \" \" -f 1);\n",
    "do\n",
    "        echo $(squeue -l -u ${USERNAME});\n",
    "done"
   ]
  },
  {
   "cell_type": "markdown",
   "metadata": {},
   "source": [
    "**<font color=red>Challenge 2:</font>** Write a bash script that finds all of the files in the current directory of the form slurm-#######.out and prints out only the jobid (i.e #######).  For an extra challenge, use the ```squeue``` command to check and see if the job is still running and print \"RUNNING\" or \"COMPLETE\" next to the job number."
   ]
  },
  {
   "cell_type": "code",
   "execution_count": null,
   "metadata": {},
   "outputs": [],
   "source": []
  },
  {
   "cell_type": "markdown",
   "metadata": {},
   "source": [
    "**<font color=red>Challenge 3:</font>** Write a script that takes a command as an input and runs the command 10 times and prints the time to the screen. For an extra challenge also print the average time."
   ]
  },
  {
   "cell_type": "code",
   "execution_count": null,
   "metadata": {},
   "outputs": [],
   "source": []
  },
  {
   "cell_type": "markdown",
   "metadata": {},
   "source": [
    "**<font color=red>Challenge 4:</font>** Write a bash script that renames all of the files in a directory with the ```out``` extension to all uppercase."
   ]
  },
  {
   "cell_type": "code",
   "execution_count": null,
   "metadata": {},
   "outputs": [],
   "source": []
  },
  {
   "cell_type": "markdown",
   "metadata": {},
   "source": [
    "**<font color=red>Challenge 5:</font>**  Write a bash script to start a program and make sure it only runs for 1 minute.  If the program takes longer than a minute to run it should be \"killed\" an an error message printed to the screen. For simplicity, use the ```sleep 10``` command as the \"test\" program.  For an extra challenge allow the long running command to be passed into the script as an input variable. "
   ]
  },
  {
   "cell_type": "code",
   "execution_count": null,
   "metadata": {},
   "outputs": [],
   "source": []
  },
  {
   "cell_type": "markdown",
   "metadata": {},
   "source": [
    "\n",
    "\n",
    "-----\n",
    "### Congratulations, we're done!\n",
    "\n",
    "Have one of the instructors check your notebook and sign you out before leaving class. "
   ]
  },
  {
   "cell_type": "markdown",
   "metadata": {},
   "source": [
    "Written by Dr. Dirk Colbry, Michigan State University (Updated by Dr. Nathan Haut in Spring 2025)\n",
    "<a rel=\"license\" href=\"http://creativecommons.org/licenses/by-nc/4.0/\"><img alt=\"Creative Commons License\" style=\"border-width:0\" src=\"https://i.creativecommons.org/l/by-nc/4.0/88x31.png\" /></a><br />This work is licensed under a <a rel=\"license\" href=\"http://creativecommons.org/licenses/by-nc/4.0/\">Creative Commons Attribution-NonCommercial 4.0 International License</a>."
   ]
  },
  {
   "cell_type": "markdown",
   "metadata": {},
   "source": [
    "----"
   ]
  }
 ],
 "metadata": {
  "kernelspec": {
   "display_name": "Python [conda env:base] *",
   "language": "python",
   "name": "conda-base-py"
  },
  "language_info": {
   "codemirror_mode": {
    "name": "ipython",
    "version": 3
   },
   "file_extension": ".py",
   "mimetype": "text/x-python",
   "name": "python",
   "nbconvert_exporter": "python",
   "pygments_lexer": "ipython3",
   "version": "3.12.7"
  }
 },
 "nbformat": 4,
 "nbformat_minor": 4
}
