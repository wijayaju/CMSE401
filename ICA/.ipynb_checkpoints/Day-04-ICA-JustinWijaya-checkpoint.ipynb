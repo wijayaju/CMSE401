{
 "cells": [
  {
   "cell_type": "markdown",
   "metadata": {},
   "source": [
    "---\n",
    "\n"
   ]
  },
  {
   "cell_type": "markdown",
   "metadata": {},
   "source": [
    "# ICA 4: Getexample\n",
    "\n",
    "<a href=\"http://bowtie-bio.sourceforge.net/index.shtml\"><img src=\"http://bowtie-bio.sourceforge.net/images/bowtie_logo.png\" alt=\"Bowtie Software Logo\"></a>\n"
   ]
  },
  {
   "cell_type": "markdown",
   "metadata": {},
   "source": [
    "### Agenda for today's class (70 minutes)\n",
    "\n",
    "1. (20 minutes) [Preclass Review](#Preclass-Review)\n",
    "1. (10 minutes) [Project Proposals (due Feb 5)](#Project-Proposals)\n",
    "2. (20 minutes) [Bowtie Example](#Bowtie-Example)\n",
    "4. (20 minutes) [Getexample Discussion](#Getexample-Discussion)\n",
    "\n",
    "\n",
    "\n",
    "\n"
   ]
  },
  {
   "cell_type": "markdown",
   "metadata": {},
   "source": [
    "\n",
    "\n",
    "\n",
    "\n",
    "---\n",
    "<a name=Preclass-Review></a>\n",
    "# 1. Preclass Review\n",
    "\n",
    "Discuss with your group what you learned in the pre-class. \n",
    "\n",
    "Commands:\n",
    "\n",
    "    module list\n",
    "    module load powertools\n",
    "    powertools\n",
    "    getexample"
   ]
  },
  {
   "cell_type": "markdown",
   "metadata": {},
   "source": [
    "If you encountered issues, discuss them with your group and see if you can get them working. If you can't get it working with your group, have an instructor help you get it working. "
   ]
  },
  {
   "cell_type": "markdown",
   "metadata": {},
   "source": [
    "\n",
    "\n",
    "---\n",
    "<a name=Project-Proposals></a>\n",
    "# 2. Project Proposals (due Feb 9)\n",
    "\n",
    "We will take a few minutes in class to discuss project proposals which are due February 9th. Take a look at the project description on the course website and start thinking about ideas.  \n",
    "\n",
    "- [PROJECT_Proposal](https://msu-cmse-courses.github.io/cmse401-S25/Project/12p-PROJECT_Proposal.html)\n"
   ]
  },
  {
   "cell_type": "markdown",
   "metadata": {},
   "source": [
    "\n",
    "\n",
    "\n",
    "---\n",
    "<a name=Bowtie-Example></a>\n",
    "# 3. Bowtie Example\n",
    "\n",
    "\n",
    "\n",
    "\n",
    ">  Bowtie is an ultrafast, memory-efficient short read aligner. It aligns short DNA sequences (reads) to the human genome at a rate of over 25 million 35-bp reads per hour. Bowtie indexes the genome with an FM index to keep its memory footprint small: typically about 2.2 GB for the human genome (2.9 GB for paired-end).\n",
    "\n",
    "\n",
    "&#9989; **<font color=red>DO THIS:</font>** Log onto the HPCC download the bowtie example using the ```getexample``` command and figure out how to run the example. See if you can answer the following questions. (The HPCC OS has been updated since this example was created so it may not work as is. If it doesn't work, try removing the module load statements in run.sh and replacing them with \"module load module load Bowtie2/2.5.1-GCC-12.3.0\")"
   ]
  },
  {
   "cell_type": "markdown",
   "metadata": {},
   "source": [
    "&#9989; **<font color=red>QUESTION:</font>**Does Bowtie have a shared memory or shared network paralization option?  "
   ]
  },
  {
   "cell_type": "markdown",
   "metadata": {},
   "source": [
    "It has a shared memory option. No shared network parallelization option unfortunately."
   ]
  },
  {
   "cell_type": "markdown",
   "metadata": {},
   "source": [
    "&#9989; **<font color=red>QUESTION:</font>** Which version of bowtie being used in the example?\n"
   ]
  },
  {
   "cell_type": "markdown",
   "metadata": {},
   "source": [
    "2.5.1-GCC-12.3.0"
   ]
  },
  {
   "cell_type": "markdown",
   "metadata": {},
   "source": [
    "&#9989; **<font color=red>QUESTION:</font>** What directory is bowtie installed?\n"
   ]
  },
  {
   "cell_type": "markdown",
   "metadata": {},
   "source": [
    "/mnt/home/wijayaju/bowtie"
   ]
  },
  {
   "cell_type": "markdown",
   "metadata": {},
   "source": [
    "&#9989; **<font color=red>QUESTION:</font>** Can you ```cat``` the bowtie executable?  \n"
   ]
  },
  {
   "cell_type": "markdown",
   "metadata": {},
   "source": [
    "yes"
   ]
  },
  {
   "cell_type": "markdown",
   "metadata": {},
   "source": [
    "&#9989; **<font color=red>QUESTION:</font>** Can you ```ldd``` the bowtie executable?  \n"
   ]
  },
  {
   "cell_type": "markdown",
   "metadata": {},
   "source": [
    "no"
   ]
  },
  {
   "cell_type": "markdown",
   "metadata": {},
   "source": [
    "&#9989; **<font color=red>QUESTION:</font>** What language is the bowtie executable written in?\n"
   ]
  },
  {
   "cell_type": "markdown",
   "metadata": {},
   "source": [
    "bash script"
   ]
  },
  {
   "cell_type": "markdown",
   "metadata": {},
   "source": [
    "\n",
    "\n",
    "---\n",
    "<a name=Getexample-Discussion></a>\n",
    "# 4. Getexample Discussion\n",
    "\n",
    "\n",
    "&#9989; **<font color=red>QUESTION:</font>** Discuss what makes an example useful.  What are good things to include and what are bad things to include? \n",
    "\n",
    "&#9989; **<font color=red>QUESTION:</font>** How does this discussion relate to the first part of your class project?"
   ]
  },
  {
   "cell_type": "markdown",
   "metadata": {},
   "source": [
    "An example is useful if the README is well documented. For bowtie, it was easy to run it. It's bad when there's no clear indicator on what the example does. the qsub bowtie.sb made an output that I didn't understand.\n",
    "\n",
    "This discussion makes it what I should focus on when starting the project."
   ]
  },
  {
   "cell_type": "markdown",
   "metadata": {},
   "source": [
    "\n",
    "\n",
    "-----\n",
    "### Congratulations, we're done!\n",
    "\n",
    "Have one of the instructors check your notebook and sign you out before leaving class. "
   ]
  },
  {
   "cell_type": "markdown",
   "metadata": {},
   "source": [
    "Written by Dr. Dirk Colbry, Michigan State University (Updated by Dr. Nathan Haut in Spring 2025)\n",
    "<a rel=\"license\" href=\"http://creativecommons.org/licenses/by-nc/4.0/\"><img alt=\"Creative Commons License\" style=\"border-width:0\" src=\"https://i.creativecommons.org/l/by-nc/4.0/88x31.png\" /></a><br />This work is licensed under a <a rel=\"license\" href=\"http://creativecommons.org/licenses/by-nc/4.0/\">Creative Commons Attribution-NonCommercial 4.0 International License</a>."
   ]
  },
  {
   "cell_type": "markdown",
   "metadata": {},
   "source": [
    "----"
   ]
  }
 ],
 "metadata": {
  "kernelspec": {
   "display_name": "Python [conda env:base] *",
   "language": "python",
   "name": "conda-base-py"
  },
  "language_info": {
   "codemirror_mode": {
    "name": "ipython",
    "version": 3
   },
   "file_extension": ".py",
   "mimetype": "text/x-python",
   "name": "python",
   "nbconvert_exporter": "python",
   "pygments_lexer": "ipython3",
   "version": "3.12.7"
  }
 },
 "nbformat": 4,
 "nbformat_minor": 4
}
