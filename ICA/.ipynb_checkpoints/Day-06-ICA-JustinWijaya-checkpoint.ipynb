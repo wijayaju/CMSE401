{
 "cells": [
  {
   "cell_type": "markdown",
   "metadata": {},
   "source": [
    "In order to successfully complete this assignment you need to participate both individually and in groups during class.  Have one of the instructors check your notebook and sign you out before leaving class."
   ]
  },
  {
   "cell_type": "markdown",
   "metadata": {},
   "source": [
    "---\n",
    "\n"
   ]
  },
  {
   "cell_type": "markdown",
   "metadata": {},
   "source": [
    "# ICA 6: Which Langague is the fastest?\n",
    "\n",
    "<img alt=\"graphic of the Python and C++ logos\" src=\"https://cacm.acm.org/system/assets/0003/2262/081618_Python-Cpp.large.jpg?1534448896&1534448896\" width=\"30%\">\n",
    "\n",
    "\n",
    "Image from: https://cacm.acm.org/news/230374-report-python-closes-in-on-c/fulltext\n",
    "\n",
    "    "
   ]
  },
  {
   "cell_type": "markdown",
   "metadata": {},
   "source": [
    "### Agenda for today's class (70 minutes)\n",
    "\n",
    "1. (20 minutes) [Review HW1 results](#Review-HW1-results)\n",
    "2. (30 minutes) [Timeing Comparison](#Timeing-Comparison)\n",
    "3. (20 minutes) [Introduction to Homework 2](#Introduction-to-Homework-2)\n",
    "\n",
    "\n"
   ]
  },
  {
   "cell_type": "markdown",
   "metadata": {},
   "source": [
    "\n",
    "---\n",
    "<a name=Review-HW1-results></a>\n",
    "# 1. Review HW1 results\n",
    "\n",
    "\n",
    "\n",
    "As a class we will go over the homework. \n",
    "\n",
    "Most common lagnagues:\n",
    "\n",
    "- Python\n",
    "- C++\n",
    "- Matlab / Julia / Fortran\n"
   ]
  },
  {
   "cell_type": "markdown",
   "metadata": {},
   "source": [
    "**Question:** Which language is the fastest?"
   ]
  },
  {
   "cell_type": "markdown",
   "metadata": {},
   "source": [
    "C++"
   ]
  },
  {
   "cell_type": "markdown",
   "metadata": {},
   "source": [
    "**Question:** What costs more?  Human time or Computer time?"
   ]
  },
  {
   "cell_type": "markdown",
   "metadata": {},
   "source": [
    "Human time"
   ]
  },
  {
   "cell_type": "markdown",
   "metadata": {},
   "source": [
    "**Question:** How do you make Python go faster?"
   ]
  },
  {
   "cell_type": "markdown",
   "metadata": {},
   "source": [
    "Reduce complexity (big O), use parallelization, compile it."
   ]
  },
  {
   "cell_type": "markdown",
   "metadata": {},
   "source": [
    "\n",
    "\n",
    "---\n",
    "<a name=Timing-Comparison></a>\n",
    "# 2. Timing Comparison\n",
    "\n",
    "\n",
    "\n",
    "\n",
    "\n",
    "\n",
    "\n",
    "Log onto the HPCC and do a ```git pull``` on the CMSE401 git repository.  This should create a new folder called ```WAVE_COMP```.\n",
    "\n",
    "In the ```WAVE_COMP``` folder are the following solutions to the Wave equation.  \n",
    "\n",
    "- C  \n",
    "- CSHARP  \n",
    "- FORTRAN  \n",
    "- JAVA  \n",
    "- MATLAB  \n",
    "- PYTHON\n",
    "\n",
    "As a class we will split up these solutions, get them to run and do a timing study for each. \n",
    "\n",
    "\n",
    "Put results in our timing file: [Timing Studies](https://docs.google.com/spreadsheets/d/12Jf_EPsFEdre27NmH50qkI4RUkZyJgavpJLmPii6iYI/edit?usp=sharing)\n",
    "\n",
    "\n",
    "### DETAILED INSTRUCTIONS\n",
    "\n",
    "1. Log onto the HPCC\n",
    "2. Log onto a dev-node (Lets try to get different people on different nodes).\n",
    "3. Do a ```git pull``` of the class repository\n",
    "4. Compile the example assigned by the instructor (Keep track of your instructions to share with the class)\n",
    "5. Run 10 timing runs on your node and report the results\n",
    "6. Be prepared to share your compile instructions and results with the class."
   ]
  },
  {
   "cell_type": "markdown",
   "metadata": {},
   "source": [
    "---\n",
    "<a name=Introduction-to-Homework-2></a>\n",
    "# 3. Introduction to Homework 2\n",
    "\n",
    "Homework 2 will be posted today and will be due Sunday, February 23rd. You will be exploring shared memory parallelism in image edge detection problems. "
   ]
  },
  {
   "cell_type": "markdown",
   "metadata": {},
   "source": [
    "-----\n",
    "### Congratulations, we're done!\n",
    "\n",
    "Have one of the instructors check your notebook and sign you out before leaving class. Remember to turn in your assignment using D2L."
   ]
  },
  {
   "cell_type": "markdown",
   "metadata": {},
   "source": [
    "Written by Dr. Dirk Colbry, Michigan State University (Updated by Dr. Nathan Haut in Spring 2025)\n",
    "<a rel=\"license\" href=\"http://creativecommons.org/licenses/by-nc/4.0/\"><img alt=\"Creative Commons License\" style=\"border-width:0\" src=\"https://i.creativecommons.org/l/by-nc/4.0/88x31.png\" /></a><br />This work is licensed under a <a rel=\"license\" href=\"http://creativecommons.org/licenses/by-nc/4.0/\">Creative Commons Attribution-NonCommercial 4.0 International License</a>."
   ]
  },
  {
   "cell_type": "markdown",
   "metadata": {},
   "source": [
    "----"
   ]
  }
 ],
 "metadata": {
  "kernelspec": {
   "display_name": "Python [conda env:base] *",
   "language": "python",
   "name": "conda-base-py"
  },
  "language_info": {
   "codemirror_mode": {
    "name": "ipython",
    "version": 3
   },
   "file_extension": ".py",
   "mimetype": "text/x-python",
   "name": "python",
   "nbconvert_exporter": "python",
   "pygments_lexer": "ipython3",
   "version": "3.12.7"
  }
 },
 "nbformat": 4,
 "nbformat_minor": 4
}
