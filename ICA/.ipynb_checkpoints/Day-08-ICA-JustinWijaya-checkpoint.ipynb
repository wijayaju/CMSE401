{
 "cells": [
  {
   "cell_type": "markdown",
   "metadata": {},
   "source": [
    "In order to successfully complete this assignment you need to participate both individually and in groups during class.   Have one of the instructors check your notebook and sign you out before leaving class."
   ]
  },
  {
   "cell_type": "markdown",
   "metadata": {},
   "source": [
    "---\n"
   ]
  },
  {
   "cell_type": "markdown",
   "metadata": {},
   "source": [
    "# ICA 8: Internal Tour of the HPCC\n",
    "\n",
    "<img alt=\"Example output for the lstopo command. This the layout of a typical gateway node on the HPCC.\" src=\"https://lh4.googleusercontent.com/rrbHzTPaEubnDmCkhFr_eX9Bb_488S4e2BT8Tt0UEj9imCYSfIVvW4cCKVUdiMlX_kJSMJAFSA=w685\">\n"
   ]
  },
  {
   "cell_type": "markdown",
   "metadata": {},
   "source": [
    "### Agenda for today's class (70 minutes)\n",
    "\n",
    "1. [Review Pre class assignment](#Review-Pre-class-assignment)\n",
    "2. [List Hardware Topography   aka lstopo (HWLOC)](#List-Hardware-Topography)\n",
    "3. [Stream Benchmark](#Stream-Benchmark)\n",
    "4. [Tour of the HPCC](#Tour-of-the-HPCC)\n",
    "\n",
    "\n"
   ]
  },
  {
   "cell_type": "markdown",
   "metadata": {},
   "source": [
    "\n",
    "---\n",
    "<a name=Review-Pre-class-assignment></a>\n",
    "# 1. Review Pre-class assignment\n",
    "\n",
    "\n",
    "\n"
   ]
  },
  {
   "cell_type": "markdown",
   "metadata": {},
   "source": [
    "&#9989; **<font color=red>DO THIS:</font>**   With your group discuss the difference between the \"source\" and \"bash\" functions. Summarize your discussion below. "
   ]
  },
  {
   "cell_type": "markdown",
   "metadata": {},
   "source": [
    "_write your summary here_"
   ]
  },
  {
   "cell_type": "markdown",
   "metadata": {},
   "source": [
    "&#9989; **<font color=red>DO THIS:</font>**   What command would you use to give _everyone_ read only access to file.txt?"
   ]
  },
  {
   "cell_type": "markdown",
   "metadata": {},
   "source": [
    "_write your code here_"
   ]
  },
  {
   "cell_type": "markdown",
   "metadata": {},
   "source": [
    "\n",
    "\n",
    "---\n",
    "<a name=List-Hardware-Topography></a>\n",
    "# 2. List Hardware Topography   aka lstopo (HWLOC)\n",
    "\n",
    "\n",
    "Development nodes as of 01/11/2021\n",
    "\n",
    "- dev-intel14 \n",
    "- dev-intel14-k20 \n",
    "- dev-intel16 \n",
    "- dev-intel16-k80 \n",
    "- dev-intel18\n",
    "- dev-amd20\n",
    "- dev-amd20-v100"
   ]
  },
  {
   "cell_type": "raw",
   "metadata": {},
   "source": [
    "module laod hwloc \n",
    "\n",
    "lstopo --no-io -.txt\n",
    "\n",
    "lstopo filename.txt"
   ]
  },
  {
   "cell_type": "raw",
   "metadata": {},
   "source": [
    "man lstopo  #press 'q' to quit manual page"
   ]
  },
  {
   "cell_type": "raw",
   "metadata": {},
   "source": [
    "lstopo $HOSTNAME.svg\n",
    "mailme $HOSTNAME.svg"
   ]
  },
  {
   "cell_type": "markdown",
   "metadata": {},
   "source": [
    "&#9989; **<font color=red>DO THIS:</font>**   Run the lstopo command on each of the development nodes. Screenshot the results and submit the images with your ICA today. To make this faster, split the nodes up amongst your group. "
   ]
  },
  {
   "cell_type": "raw",
   "metadata": {
    "vscode": {
     "languageId": "raw"
    }
   },
   "source": [
    "\n"
   ]
  },
  {
   "cell_type": "markdown",
   "metadata": {},
   "source": [
    "\n",
    "\n",
    "---\n",
    "<a name=Stream-Benchmark></a>\n",
    "# 3. Stream Benchmark\n",
    "\n",
    "\n",
    "Working with your ICA teams, each team will download and run the Stream Benchmark on a different login node:\n",
    "\n",
    "http://www.cs.virginia.edu/stream/\n",
    "\n",
    "\n",
    "Put results in our timing file: [Benchmark Studies](https://docs.google.com/spreadsheets/d/1ANA_oFOGBAofPAQ0rPzvmUv-PjnM1H8FV-RQbei-H4Q/edit?usp=sharing)"
   ]
  },
  {
   "cell_type": "markdown",
   "metadata": {},
   "source": [
    "\n",
    "---\n",
    "<a name=Tour-of-the-HPCC></a>\n",
    "# 4. Tour of the HPCC\n",
    "In preparation for our tour of the HPCC next Friday, the HPCC system admin has shared this video with us and encouraged everyone to check it out. Take a few minutes to watch the video with your group. \n",
    "\n",
    "https://icer.msu.edu/News/A-Day-in-the-Life-of-a-System-Administrator\n",
    "\n",
    "We discussed this last class, but if you are ever curious to see what the current utilization is for the HPCC you can check out the dashboard below. This is a great resource to check when planning to work on a large project, to get an idea of how busy the resources so that you can plan accordingly. \n",
    "\n",
    "https://icer.msu.edu/dashboard\n",
    "\n"
   ]
  },
  {
   "cell_type": "markdown",
   "metadata": {},
   "source": [
    "\n",
    "\n",
    "-----\n",
    "### Congratulations, we're done!\n",
    "\n",
    "If you attend class in-person then have one of the instructors check your notebook and sign you out before leaving class. Turn in your assignment using D2L."
   ]
  },
  {
   "cell_type": "markdown",
   "metadata": {},
   "source": [
    "Written by Dr. Dirk Colbry, Michigan State University (Updated by Dr. Nathan Haut in Spring 2025)\n",
    "<a rel=\"license\" href=\"http://creativecommons.org/licenses/by-nc/4.0/\"><img alt=\"Creative Commons License\" style=\"border-width:0\" src=\"https://i.creativecommons.org/l/by-nc/4.0/88x31.png\" /></a><br />This work is licensed under a <a rel=\"license\" href=\"http://creativecommons.org/licenses/by-nc/4.0/\">Creative Commons Attribution-NonCommercial 4.0 International License</a>."
   ]
  },
  {
   "cell_type": "markdown",
   "metadata": {},
   "source": [
    "----"
   ]
  }
 ],
 "metadata": {
  "kernelspec": {
   "display_name": "Python 3",
   "language": "python",
   "name": "python3"
  },
  "language_info": {
   "codemirror_mode": {
    "name": "ipython",
    "version": 3
   },
   "file_extension": ".py",
   "mimetype": "text/x-python",
   "name": "python",
   "nbconvert_exporter": "python",
   "pygments_lexer": "ipython3",
   "version": "3.7.3"
  }
 },
 "nbformat": 4,
 "nbformat_minor": 2
}
