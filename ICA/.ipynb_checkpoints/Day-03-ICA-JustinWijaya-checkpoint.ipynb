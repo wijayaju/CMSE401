{
 "cells": [
  {
   "cell_type": "markdown",
   "metadata": {},
   "source": [
    "In order to successfully complete this assignment you need to participate both individually and in groups during class.   Have one of the instructors check your notebook and sign you out before leaving class on **Friday January 17**. "
   ]
  },
  {
   "cell_type": "markdown",
   "metadata": {},
   "source": [
    "---\n",
    "\n"
   ]
  },
  {
   "cell_type": "markdown",
   "metadata": {},
   "source": [
    "# ICA 03: Galaxy Example\n",
    "\n",
    "<img alt=\"Astronomical picture of a galaxy\" src=\"https://scx1.b-cdn.net/csz/news/800a/2018/5b86704d620d1.jpg\" width=\"50%\">\n",
    "\n",
    "Image from: https://phys.org/news/2018-08-astronomers-reveal-monster-star-forming-galaxies.html\n"
   ]
  },
  {
   "cell_type": "markdown",
   "metadata": {},
   "source": [
    "### Agenda for today's class (70 minutes)\n",
    "\n",
    "\n",
    "1. [Pre class assignment review](#Pre-class-assignment-review)\n",
    "2. [Running GalaxSee on HPCC](#Running-GalaxSee-on-HPCC)\n",
    "\n"
   ]
  },
  {
   "cell_type": "markdown",
   "metadata": {},
   "source": [
    "---\n",
    "<a name=Pre-class-assignment-review></a>\n",
    "# 1. Pre class assignment review\n",
    "\n",
    "Discuss this with your group. Briefly summarize what you learned in the pre-class assignment. Why is vim such a powerful tool used by professional programmers? \n"
   ]
  },
  {
   "cell_type": "markdown",
   "metadata": {},
   "source": [
    "\n",
    "---\n",
    "<a name=Running-GalaxSee-on-HPCC></a>\n",
    "# 2. Running GalaxSee on HPCC\n",
    "\n",
    "Today we will practice what we have learned on Friday.  As a reminder, here are the commands we used: \n",
    "\n",
    "### Step 1: Start an OpenOnDemand interactive desktop session.  \n",
    "\n",
    "1. Go to [http://OnDemand.hpcc.msu.edu](http://OnDemand.hpcc.msu.edu), select \"Interactive Apps-->Interactive Desktop\".  Set the number of hours to 1 and the number of cores to 1 and the memory to 1GB.  Under advanced options set the node type to \"Any\".  Leave everything else blank and hit \"Launch\".   \n",
    "\n",
    "\n",
    "2. Select \"Interactive Apps-->Interactive Desktop\" again.  This time set the number of hours to 1 and the number of cores to 4 and the memory to 1GB.  Under advanced options set the node type to \"Any\".  Leave everything else blank and hit \"Launch\".   \n",
    "\n",
    "3. Wait for your sessions to start. \n",
    "\n",
    "**_NOTE_** As is the case anytime we use the HPCC,  there is no guarantee that these sessions will start during class.  This is a shared system and we need to be flexible.  You can also do the rest of this assignment on a development node. "
   ]
  },
  {
   "cell_type": "markdown",
   "metadata": {},
   "source": [
    "### Step 2: Open a Terminal app\n",
    "\n",
    "Once you have a desktop up and running, open a terminal app from the main menu.  Try navigating to \"Applications-->System Tools-->Terminal\".  Explore this menu a bit to get familiar with some of the programs available inside the interactive desktop. "
   ]
  },
  {
   "cell_type": "markdown",
   "metadata": {},
   "source": [
    "### Step 3: Navigate to the GalaxSee Directory inside the BCCD-Example directory\n",
    "\n",
    "There is a BCCD-Example directory inside the public course git repository (https://github.com/hoolagans/CMSE401_S25_Public/tree/main). It is recommended you make a clone of this repository if you haven't already.  \n",
    "\n",
    "Let us Navigate to that folder using the following commands:\n",
    "\n",
    "| Command | Description|\n",
    "|---------|------------|\n",
    "| cd | Change Directory |\n",
    "| ls |  list directory | \n",
    "| pwd :| print working directory | \n",
    "| . | Shortcut to indicate current directory | \n",
    "| .. |  Shortcut to indicate parent directory | \n",
    "| ~ |  Shortcut to indicate home directory | \n"
   ]
  },
  {
   "cell_type": "markdown",
   "metadata": {},
   "source": [
    "These commands may be slightly different on your computer but here are common commands:\n",
    "\n",
    "```\n",
    "cd CMSE401_S25_Public\n",
    "ls\n",
    "cd BCCD-Examples\n",
    "ls\n",
    "cd GalaxSee \n",
    "ls\n",
    "pwd\n",
    "```"
   ]
  },
  {
   "cell_type": "markdown",
   "metadata": {},
   "source": [
    "### Step 4: Compile the Galaxsee example code\n",
    "\n",
    "Type the following command on the terminal. This will load in the Intel compilers.  Some of the examples we are using in class today use the Intel compilers. \n",
    "\n",
    "```module load intel```\n",
    "\n",
    "This example uses a ```Makefile``` to help the user know what commands are needed to compile.  You an view the ```Makefile``` by using the ```cat``` (catalog) command:\n",
    "\n",
    "```cat Makefile```\n",
    "\n",
    "We run the commands inside the ```Makefile``` using the ```make``` program. All you need to do is type ```make``` and the program will read the ```Makefile``` in the current directory and run it for you.\n",
    "\n",
    "```make```\n",
    "\n",
    "You should see some compiler commands on your screen.  This means it is working.  Check for errors and debug them."
   ]
  },
  {
   "cell_type": "markdown",
   "metadata": {},
   "source": [
    "### Step 5: Run the Galaxsee example code\n",
    "\n",
    "Assuming everything is working, the build command made a few examples.  Lets run the examples from the command line (Note: the computation may go very quickly, add more timesteps and stars to keep the visualization up longer):\n",
    "\n",
    "```././GalaxSee.cxx-mpi```\n",
    "\n",
    "This should run the GalaxSee code inside your virtual desktop window. \n",
    "\n",
    "To simulate a 1000 stars do: \n",
    "\n",
    "```././GalaxSee.cxx-mpi 1000```\n",
    "\n",
    "To simulate a 1000 stars that are 10 solar masses each do: \n",
    "\n",
    "```././GalaxSee.cxx-mpi 1000 10```\n",
    "\n",
    "To simulate a 1000 stars that are 10 solar masses each for 10000 timesteps do: \n",
    "\n",
    "```././GalaxSee.cxx-mpi 1000 10 10000```\n",
    "\n",
    "To time a simulation of 1000 stars that are 10 solar masses each for 10000 timesteps without vizualization do: \n",
    "\n",
    "```time ./GalaxSee.cxx-mpi 1000 10 10000 0```"
   ]
  },
  {
   "cell_type": "markdown",
   "metadata": {},
   "source": [
    "&#9989; **<font color=red>QUESTION:</font>** If you increase the number of stars by a factor of 2 how much does the compute time increase? Do a few increses by 2 to see the trend."
   ]
  },
  {
   "cell_type": "markdown",
   "metadata": {},
   "source": [
    "The compute time increases by 4x. The trend is that the time increases exponentially for each increase by a factor of 2."
   ]
  },
  {
   "cell_type": "markdown",
   "metadata": {},
   "source": [
    "&#9989; **<font color=red>QUESTION:</font>** Record the number of stars and runtimes as you increase the number of stars by a factor of 2 above. Create a plot below with star count on the x-axis and runtime in seconds on the y-axis. "
   ]
  },
  {
   "cell_type": "code",
   "execution_count": 1,
   "metadata": {},
   "outputs": [],
   "source": [
    "import matplotlib.pyplot as plt"
   ]
  },
  {
   "cell_type": "code",
   "execution_count": 5,
   "metadata": {},
   "outputs": [
    {
     "data": {
      "text/plain": [
       "Text(0.5, 1.0, 'Runtime vs Stars')"
      ]
     },
     "execution_count": 5,
     "metadata": {},
     "output_type": "execute_result"
    },
    {
     "data": {
      "image/png": "[encoded data removed]",
      "text/plain": [
       "<Figure size 640x480 with 1 Axes>"
      ]
     },
     "metadata": {},
     "output_type": "display_data"
    }
   ],
   "source": [
    "# Place your code to generate your plot here\n",
    "time = [8.6, 32.4, 72.4, 128.4]  # y\n",
    "stars = [1000, 2000, 3000, 4000]  # x\n",
    "plt.plot(stars, time)\n",
    "plt.xlabel(\"Stars\")\n",
    "plt.ylabel(\"Time (s)\")\n",
    "plt.title(\"Runtime vs Stars\")"
   ]
  },
  {
   "cell_type": "markdown",
   "metadata": {},
   "source": [
    "&#9989; **<font color=red>QUESTION:</font>** If you aren't familiar with Big O notation, Google and discuss it with your group. Summarize what your group discussed about your interpretation of Big O notation. Then, using the scaling and plots, estimate the scaling of the simulation using Big O notation. "
   ]
  },
  {
   "cell_type": "markdown",
   "metadata": {},
   "source": [
    "It is O(n^2)"
   ]
  },
  {
   "cell_type": "markdown",
   "metadata": {},
   "source": [
    "\n",
    "\n",
    "-----\n",
    "### Congratulations, we're done!\n",
    "\n",
    "If you attend class in-person then have one of the instructors check your notebook and sign you out before leaving class. If you are attending asynchronously, turn in your assignment using D2L."
   ]
  },
  {
   "cell_type": "markdown",
   "metadata": {},
   "source": [
    "Written by Dr. Dirk Colbry, Michigan State University (Updated by Dr. Nathan Haut in Spring 2025)\n",
    "<a rel=\"license\" href=\"http://creativecommons.org/licenses/by-nc/4.0/\"><img alt=\"Creative Commons License\" style=\"border-width:0\" src=\"https://i.creativecommons.org/l/by-nc/4.0/88x31.png\" /></a><br />This work is licensed under a <a rel=\"license\" href=\"http://creativecommons.org/licenses/by-nc/4.0/\">Creative Commons Attribution-NonCommercial 4.0 International License</a>."
   ]
  },
  {
   "cell_type": "markdown",
   "metadata": {},
   "source": [
    "----"
   ]
  }
 ],
 "metadata": {
  "kernelspec": {
   "display_name": "Python [conda env:base] *",
   "language": "python",
   "name": "conda-base-py"
  },
  "language_info": {
   "codemirror_mode": {
    "name": "ipython",
    "version": 3
   },
   "file_extension": ".py",
   "mimetype": "text/x-python",
   "name": "python",
   "nbconvert_exporter": "python",
   "pygments_lexer": "ipython3",
   "version": "3.12.7"
  }
 },
 "nbformat": 4,
 "nbformat_minor": 4
}
