{
 "cells": [
  {
   "cell_type": "markdown",
   "metadata": {},
   "source": [
    "In order to successfully complete this assignment you need to participate both individually and in groups during class.   Have one of the instructors check your notebook and sign you out before leaving class. Turn in your assignment using D2L. "
   ]
  },
  {
   "cell_type": "markdown",
   "metadata": {},
   "source": [
    "---\n"
   ]
  },
  {
   "cell_type": "markdown",
   "metadata": {},
   "source": [
    "# ICA 11: Mmmmmmmm Pi\n",
    "\n",
    "<img alt=\"Cartoon picture of a slice of pie.  Visual joke because we are going to calculate the math number pi in class\" src=\"https://lh4.googleusercontent.com/Dltikf4XEzNg1TONqzki9YzC20FkDBaMnhqC0hcAY1esMyD--H7Hjnn34pePrNjt1AENjXu7eg=w740\" width=\"50%\">"
   ]
  },
  {
   "cell_type": "markdown",
   "metadata": {},
   "source": [
    "### Agenda for today's class (70 minutes)\n",
    "\n",
    "\n",
    "1. (20 minutes) [Pre class Assignment](#Pre-class-Assignment)\n",
    "2. (20 minutes) [Project Cross-cutting themes](#Project-Cross-cutting-themes)\n",
    "3. (30 minutes) [Group OpenMP  Pi code Timing Studies on the HPCC](#Group-OpenMP--Pi-code-Timing-Studies-on-the-HPCC)\n",
    "\n"
   ]
  },
  {
   "cell_type": "markdown",
   "metadata": {},
   "source": [
    "\n",
    "\n",
    "---\n",
    "<a name=Pre-class-Assignment></a>\n",
    "# 1. Pre class Assignment\n",
    "\n",
    "\n",
    "\n",
    "&#9989; **<font color=red>DO THIS:</font>** Discuss the status of the PI code with your group. Did anyone get a working solution? Discuss any challenges you encoutered. If you got it working, share what you did to get it working. \n"
   ]
  },
  {
   "cell_type": "markdown",
   "metadata": {},
   "source": [
    "---\n",
    "<a name=\"Project-Cross-cutting-themes\"></a>\n",
    "# 2. Project Cross-cutting themes\n",
    "\n",
    "Think of some themes related to your project (parallel computing method, coding language, problem domain, etc.). We want to identify others in class that are doing some aspect of their project which is similar to yours.  The goal is to find teams of people that may be able to support each other during the project. Go to the Google Doc and put list your name next to any theme that is relevant to your project. As well, add any additional themes that haven't been included.   \n",
    "\n",
    "\n",
    "\n",
    "- [Cross-Cutting Project Themes](https://docs.google.com/document/d/10ZHl_NuNxGLVuUKc6w3YOVCscMdA2EqhqUiykbBdFAk/edit?usp=sharing)\n"
   ]
  },
  {
   "cell_type": "markdown",
   "metadata": {},
   "source": [
    "\n",
    "---\n",
    "<a name=Group-OpenMP--Pi-code-Timing-Studies-on-the-HPCC></a>\n",
    "# 3. Group OpenMP  Pi code Timing Studies on the HPCC\n",
    "\n",
    "The rest of class we will try to help each other out so that everyone gets a parallel OpenMP version of the Pi-code working.  Lets see how far we get doing the following:\n",
    "\n",
    "- If you are stuck or confused, raise your hand and ask for help.\n",
    "- Help your neighbors\n",
    "- If you have your basic code working, share it on the Google document.\n",
    "- If you get stuck review code in the Google document. \n",
    "- Once you have a parallel code working, do a scaling study and vary the number of cores.  Plot the results and share your plot on the Google document. \n",
    "- Conduct the scaling study on different development nodes and generate different plots. Share them on the Google document. \n",
    "- Write a submission script and run the scaling study using the SLURM scheduler.  \n",
    "- Share all of your solutions with each other using the following Google Document.\n",
    "- Review the Google Document and learn from each other's solutions.\n",
    "\n",
    "[Group Google Document](https://docs.google.com/document/d/13EMv9qN2XvDt_6QsL4TXGAY-1FoGXJhK5oQBPLrFqEY/edit?usp=sharing)"
   ]
  },
  {
   "cell_type": "markdown",
   "metadata": {},
   "source": [
    "-----\n",
    "### Congratulations, we're done!\n",
    "\n",
    "Have one of the instructors check your notebook and sign you out before leaving class. Turn in your assignment using D2L."
   ]
  },
  {
   "cell_type": "markdown",
   "metadata": {},
   "source": [
    "Written by Dr. Dirk Colbry, Michigan State University (Updated by Dr. Nathan Haut in Spring 2025)\n",
    "<a rel=\"license\" href=\"http://creativecommons.org/licenses/by-nc/4.0/\"><img alt=\"Creative Commons License\" style=\"border-width:0\" src=\"https://i.creativecommons.org/l/by-nc/4.0/88x31.png\" /></a><br />This work is licensed under a <a rel=\"license\" href=\"http://creativecommons.org/licenses/by-nc/4.0/\">Creative Commons Attribution-NonCommercial 4.0 International License</a>."
   ]
  },
  {
   "cell_type": "markdown",
   "metadata": {},
   "source": [
    "----"
   ]
  }
 ],
 "metadata": {
  "kernelspec": {
   "display_name": "Python [conda env:base] *",
   "language": "python",
   "name": "conda-base-py"
  },
  "language_info": {
   "codemirror_mode": {
    "name": "ipython",
    "version": 3
   },
   "file_extension": ".py",
   "mimetype": "text/x-python",
   "name": "python",
   "nbconvert_exporter": "python",
   "pygments_lexer": "ipython3",
   "version": "3.12.7"
  }
 },
 "nbformat": 4,
 "nbformat_minor": 4
}
