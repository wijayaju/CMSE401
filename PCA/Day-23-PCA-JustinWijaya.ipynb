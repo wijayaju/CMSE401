{
 "cells": [
  {
   "cell_type": "markdown",
   "metadata": {},
   "source": [
    "In order to successfully complete this assignment you must do the required reading, watch the provided videos and complete all instructions.  The embedded survey form must be entirely filled out and submitted on or before **11:59pm**.  Students must come to class the next day prepared to discuss the material covered in this assignment. "
   ]
  },
  {
   "cell_type": "markdown",
   "metadata": {},
   "source": [
    "---\n"
   ]
  },
  {
   "cell_type": "markdown",
   "metadata": {},
   "source": [
    "# PCA 23: CUDA Alternatives"
   ]
  },
  {
   "cell_type": "markdown",
   "metadata": {},
   "source": [
    "### Goals for today's pre-class assignment \n",
    "\n",
    "This pre-class assignment will review a few of the more common alternatives to CUDA.  \n",
    "\n",
    "1. [OpenCL (Open Computing Language)](#OpenCL-(Open-Computing-Language))\n",
    "2. [OpenACC (Open Accelerators)](#OpenACC-(Open-Accelerators))\n",
    "3. [Kokkos and RAJA](#Kokkos-and-RAJA)\n",
    "4. [GPU Accelerated Libraries](#GPU-Accelerated-Libraries)\n",
    "5. [Assignment wrap up](#Assignment-wrap-up)\n",
    "\n"
   ]
  },
  {
   "cell_type": "markdown",
   "metadata": {},
   "source": [
    "\n",
    "\n",
    "\n",
    "---\n",
    "<a name=OpenCL-(Open-Computing-Language)></a>\n",
    "# 1. OpenCL (Open Computing Language)\n",
    "\n",
    "\n",
    "OpenCL is an alternative to CUDA which is designed to be more open and available on many different platforms.  Watch the following video to get some history behind OpenCL."
   ]
  },
  {
   "cell_type": "code",
   "execution_count": 1,
   "metadata": {},
   "outputs": [
    {
     "data": {
      "image/jpeg": "[encoded data removed]",
      "text/html": [
       "\n",
       "        <iframe\n",
       "            width=\"640\"\n",
       "            height=\"360\"\n",
       "            src=\"https://www.youtube.com/embed/V4RfPfHQPC8\"\n",
       "            frameborder=\"0\"\n",
       "            allowfullscreen\n",
       "            \n",
       "        ></iframe>\n",
       "        "
      ],
      "text/plain": [
       "<IPython.lib.display.YouTubeVideo at 0x12cd3b6e0>"
      ]
     },
     "execution_count": 1,
     "metadata": {},
     "output_type": "execute_result"
    }
   ],
   "source": [
    "from IPython.display import YouTubeVideo\n",
    "YouTubeVideo(\"V4RfPfHQPC8\",width=640,height=360)"
   ]
  },
  {
   "cell_type": "markdown",
   "metadata": {},
   "source": [
    "### OpenCL VectorAdd Example\n",
    "\n",
    "&#9989; **<font color=red>DO THIS:</font>** Copy the following code to the HPC and compile/run using the commands provided below.\n",
    "\n",
    "Example From: https://gist.github.com/ddemidov/2925717"
   ]
  },
  {
   "cell_type": "code",
   "execution_count": null,
   "metadata": {},
   "outputs": [],
   "source": [
    "%%writefile vecAdd_opencl.c\n",
    "\n",
    "#include <iostream>\n",
    "#include <vector>\n",
    "#include <string>\n",
    "\n",
    "#define __CL_ENABLE_EXCEPTIONS\n",
    "#include <CL/cl.hpp>\n",
    "\n",
    "//Example From: https://gist.github.com/ddemidov/2925717\n",
    "// Compute c = a + b.\n",
    "static const char source[] =\n",
    "    \"#if defined(cl_khr_fp64)\\n\"\n",
    "    \"#  pragma OPENCL EXTENSION cl_khr_fp64: enable\\n\"\n",
    "    \"#elif defined(cl_amd_fp64)\\n\"\n",
    "    \"#  pragma OPENCL EXTENSION cl_amd_fp64: enable\\n\"\n",
    "    \"#else\\n\"\n",
    "    \"#  error double precision is not supported\\n\"\n",
    "    \"#endif\\n\"\n",
    "    \"kernel void add(\\n\"\n",
    "    \"       ulong n,\\n\"\n",
    "    \"       global const double *a,\\n\"\n",
    "    \"       global const double *b,\\n\"\n",
    "    \"       global double *c\\n\"\n",
    "    \"       )\\n\"\n",
    "    \"{\\n\"\n",
    "    \"    size_t i = get_global_id(0);\\n\"\n",
    "    \"    if (i < n) {\\n\"\n",
    "    \"       c[i] = a[i] + b[i];\\n\"\n",
    "    \"    }\\n\"\n",
    "    \"}\\n\";\n",
    "\n",
    "int main() {\n",
    "    const size_t N = 1 << 20;\n",
    "\n",
    "    try {\n",
    "\t// Get list of OpenCL platforms.\n",
    "\tstd::vector<cl::Platform> platform;\n",
    "\tcl::Platform::get(&platform);\n",
    "\n",
    "\tif (platform.empty()) {\n",
    "\t    std::cerr << \"OpenCL platforms not found.\" << std::endl;\n",
    "\t    return 1;\n",
    "\t}\n",
    "\n",
    "\t// Get first available GPU device which supports double precision.\n",
    "\tcl::Context context;\n",
    "\tstd::vector<cl::Device> device;\n",
    "\tfor(auto p = platform.begin(); device.empty() && p != platform.end(); p++) {\n",
    "\t    std::vector<cl::Device> pldev;\n",
    "\n",
    "\t    try {\n",
    "\t\tp->getDevices(CL_DEVICE_TYPE_GPU, &pldev);\n",
    "\n",
    "\t\tfor(auto d = pldev.begin(); device.empty() && d != pldev.end(); d++) {\n",
    "\t\t    if (!d->getInfo<CL_DEVICE_AVAILABLE>()) continue;\n",
    "\n",
    "\t\t    std::string ext = d->getInfo<CL_DEVICE_EXTENSIONS>();\n",
    "\n",
    "\t\t    if (\n",
    "\t\t\t    ext.find(\"cl_khr_fp64\") == std::string::npos &&\n",
    "\t\t\t    ext.find(\"cl_amd_fp64\") == std::string::npos\n",
    "\t\t       ) continue;\n",
    "\n",
    "\t\t    device.push_back(*d);\n",
    "\t\t    context = cl::Context(device);\n",
    "\t\t}\n",
    "\t    } catch(...) {\n",
    "\t\tdevice.clear();\n",
    "\t    }\n",
    "\t}\n",
    "\n",
    "\tif (device.empty()) {\n",
    "\t    std::cerr << \"GPUs with double precision not found.\" << std::endl;\n",
    "\t    return 1;\n",
    "\t}\n",
    "\n",
    "\tstd::cout << device[0].getInfo<CL_DEVICE_NAME>() << std::endl;\n",
    "\n",
    "\t// Create command queue.\n",
    "\tcl::CommandQueue queue(context, device[0]);\n",
    "\n",
    "\t// Compile OpenCL program for found device.\n",
    "\tcl::Program program(context, cl::Program::Sources(\n",
    "\t\t    1, std::make_pair(source, strlen(source))\n",
    "\t\t    ));\n",
    "\n",
    "\ttry {\n",
    "\t    program.build(device);\n",
    "\t} catch (const cl::Error&) {\n",
    "\t    std::cerr\n",
    "\t\t<< \"OpenCL compilation error\" << std::endl\n",
    "\t\t<< program.getBuildInfo<CL_PROGRAM_BUILD_LOG>(device[0])\n",
    "\t\t<< std::endl;\n",
    "\t    return 1;\n",
    "\t}\n",
    "\n",
    "\tcl::Kernel add(program, \"add\");\n",
    "\n",
    "\t// Prepare input data.\n",
    "\tstd::vector<double> a(N, 1);\n",
    "\tstd::vector<double> b(N, 2);\n",
    "\tstd::vector<double> c(N);\n",
    "\n",
    "\t// Allocate device buffers and transfer input data to device.\n",
    "\tcl::Buffer A(context, CL_MEM_READ_ONLY | CL_MEM_COPY_HOST_PTR,\n",
    "\t\ta.size() * sizeof(double), a.data());\n",
    "\n",
    "\tcl::Buffer B(context, CL_MEM_READ_ONLY | CL_MEM_COPY_HOST_PTR,\n",
    "\t\tb.size() * sizeof(double), b.data());\n",
    "\n",
    "\tcl::Buffer C(context, CL_MEM_READ_WRITE,\n",
    "\t\tc.size() * sizeof(double));\n",
    "\n",
    "\t// Set kernel parameters.\n",
    "\tadd.setArg(0, static_cast<cl_ulong>(N));\n",
    "\tadd.setArg(1, A);\n",
    "\tadd.setArg(2, B);\n",
    "\tadd.setArg(3, C);\n",
    "\t\n",
    "\t// Launch kernel on the compute device.\n",
    "\tqueue.enqueueNDRangeKernel(add, cl::NullRange, N, cl::NullRange);\n",
    "\n",
    "\t// Get result back to host.\n",
    "\tqueue.enqueueReadBuffer(C, CL_TRUE, 0, c.size() * sizeof(double), c.data());\n",
    "\n",
    "\t// Should get '3' here.\n",
    "\tstd::cout << c[42] << std::endl;\n",
    "    } catch (const cl::Error &err) {\n",
    "\tstd::cerr\n",
    "\t    << \"OpenCL error: \"\n",
    "\t    << err.what() << \"(\" << err.err() << \")\"\n",
    "\t    << std::endl;\n",
    "\treturn 1;\n",
    "    }\n",
    "}"
   ]
  },
  {
   "cell_type": "code",
   "execution_count": null,
   "metadata": {},
   "outputs": [],
   "source": [
    "!module load cuda\n",
    "!g++ -std=c++0x -lOpenCL -o opencl NCode/vecAdd_opencl.c"
   ]
  },
  {
   "cell_type": "code",
   "execution_count": null,
   "metadata": {},
   "outputs": [],
   "source": [
    "!time ./opencl"
   ]
  },
  {
   "cell_type": "markdown",
   "metadata": {},
   "source": [
    "&#9989; **<font color=red>QUESTION:</font>**  Where you able to get the OpenCL code to compile and run?"
   ]
  },
  {
   "cell_type": "markdown",
   "metadata": {},
   "source": [
    "No."
   ]
  },
  {
   "cell_type": "markdown",
   "metadata": {},
   "source": [
    "&#9989; **<font color=red>QUESTION:</font>**  If not, what problems did you encounter?"
   ]
  },
  {
   "cell_type": "markdown",
   "metadata": {},
   "source": [
    "It produced a bunch of compilation errors and warnings."
   ]
  },
  {
   "cell_type": "markdown",
   "metadata": {},
   "source": [
    "\n",
    "\n",
    "---\n",
    "<a name=OpenACC-(Open-Accelerators)></a>\n",
    "# 2. OpenACC (Open Accelerators)\n",
    "\n",
    "\n",
    "\n",
    "The next programming extension is called OpenACC and tries to combine the ease of programming in OpenMP with the power of the GPU.  It uses pragmas similar to OpenMP to compile and run code on the GPU.\n",
    "\n",
    "&#9989; **<font color=red>DO THIS:</font>** Copy the following code to the HPC and compile/run using the commands provided below.\n",
    "\n",
    "Example From: https://www.olcf.ornl.gov/tutorials/openacc-vector-addition/"
   ]
  },
  {
   "cell_type": "code",
   "execution_count": null,
   "metadata": {},
   "outputs": [],
   "source": [
    "%%writefile vecAdd_openacc.cu\n",
    "\n",
    "#include <stdio.h>\n",
    "#include <stdlib.h>\n",
    "#include <math.h>\n",
    " \n",
    "//Example From: https://www.olcf.ornl.gov/tutorials/openacc-vector-addition/\n",
    "int main( int argc, char* argv[] )\n",
    "{\n",
    " \n",
    "    // Size of vectors\n",
    "    int n = 10000;\n",
    " \n",
    "    // Input vectors\n",
    "    double *restrict a;\n",
    "    double *restrict b;\n",
    "    // Output vector\n",
    "    double *restrict c;\n",
    " \n",
    "    // Size, in bytes, of each vector\n",
    "    size_t bytes = n*sizeof(double);\n",
    " \n",
    "    // Allocate memory for each vector\n",
    "    a = (double*)malloc(bytes);\n",
    "    b = (double*)malloc(bytes);\n",
    "    c = (double*)malloc(bytes);\n",
    " \n",
    "    // Initialize content of input vectors, vector a[i] = sin(i)^2 vector b[i] = cos(i)^2\n",
    "    int i;\n",
    "    for(i=0; i<n; i++) {\n",
    "        a[i] = sin(i)*sin(i);\n",
    "        b[i] = cos(i)*cos(i);\n",
    "    }  \n",
    " \n",
    "    // sum component wise and save result into vector c\n",
    "    #pragma acc kernels copyin(a[0:n],b[0:n]), copyout(c[0:n])\n",
    "    for(i=0; i<n; i++) {\n",
    "        c[i] = a[i] + b[i];\n",
    "    }\n",
    " \n",
    "    // Sum up vector c and print result divided by n, this should equal 1 within error\n",
    "    double sum = 0.0;\n",
    "    for(i=0; i<n; i++) {\n",
    "        sum += c[i];\n",
    "    }\n",
    "    sum = sum/n;\n",
    "    printf(\"final result: %f\\n\", sum);\n",
    " \n",
    "    // Release memory\n",
    "    free(a);\n",
    "    free(b);\n",
    "    free(c);\n",
    " \n",
    "    return 0;\n",
    "}"
   ]
  },
  {
   "cell_type": "code",
   "execution_count": null,
   "metadata": {},
   "outputs": [],
   "source": [
    "!module swap GNU PGI"
   ]
  },
  {
   "cell_type": "code",
   "execution_count": null,
   "metadata": {},
   "outputs": [],
   "source": [
    "!pgcc -acc -o openacc vecAdd_OpenACC.c"
   ]
  },
  {
   "cell_type": "code",
   "execution_count": null,
   "metadata": {},
   "outputs": [],
   "source": [
    "!time ./openacc"
   ]
  },
  {
   "cell_type": "markdown",
   "metadata": {},
   "source": [
    "&#9989; **<font color=red>QUESTION:</font>**  Where you able to get the OpenACC code to compile and run?"
   ]
  },
  {
   "cell_type": "markdown",
   "metadata": {},
   "source": [
    "No."
   ]
  },
  {
   "cell_type": "markdown",
   "metadata": {},
   "source": [
    "&#9989; **<font color=red>QUESTION:</font>**  If not, what problems did you encounter?"
   ]
  },
  {
   "cell_type": "markdown",
   "metadata": {},
   "source": [
    "module swap GNU PGI didn't work as GNU was not on the box. module load PGI also didn't work."
   ]
  },
  {
   "cell_type": "markdown",
   "metadata": {},
   "source": [
    "\n",
    "\n",
    "---\n",
    "<a name=Kokkos-and-RAJA></a>\n",
    "# 3. Kokkos and RAJA\n",
    "\n",
    "\n",
    "\n",
    "Two newcomers to the playing field are Kokkos and RAJA.  Neither are new languages but instead a C++ library intended to make it easier to run both OpenMP and GPU code.  The goal of both programs is to:\n",
    "\n",
    "1. Enable application portability with manageable disruption to algorithms and programming styles.\n",
    "2. Achieve performance comparable to using various programming models (e.g., OpenMP, CUDA, etc.) directly\n",
    "\n",
    "These two goals are very difficult.  However, both projects seem to be getting close. It will be interesting to see which one \"wins\".\n",
    "\n",
    "* For more information on how to run Kokkos on the HPC follow the instructions found here: https://www.egr.msu.edu/nextgen/wiki/index.php/Kokkos\n",
    "\n",
    "* I have not tried getting RAJA to work yet but here is some information on the project:\n",
    "https://media.readthedocs.org/pdf/raja/master/raja.pdf"
   ]
  },
  {
   "cell_type": "markdown",
   "metadata": {},
   "source": [
    "&#9989; **<font color=red>QUESTION:</font>** Why you think there are so many alternatives to CUDA (provide at least two reasons)?"
   ]
  },
  {
   "cell_type": "markdown",
   "metadata": {},
   "source": [
    "Because CUDA is managed by one company as opposed to by multiple companies and because it's complicated enough to warrant the desire for simpler alternatives."
   ]
  },
  {
   "cell_type": "markdown",
   "metadata": {},
   "source": [
    "\n",
    "---\n",
    "<a name=GPU-Accelerated-Libraries></a>\n",
    "# 4. GPU Accelerated Libraries\n",
    "\n",
    "Another way to avoid having to write your own CUDA code is to use CUDA Accelerated libraries. As a programmer you don't need to do anything except include the libraries and call the CUDA enabled functions.  \n",
    "\n",
    "\n",
    "&#9989; **<font color=red>DO THIS:</font>** Using your favorite search engine, find some common CUDA enabled libraries for Fast Fourier Transforms, Dense Linear Algebra and Sparse Linear Algebra"
   ]
  },
  {
   "cell_type": "markdown",
   "metadata": {},
   "source": [
    "cuFFT, CUTLASS, cuSPARSE"
   ]
  },
  {
   "cell_type": "markdown",
   "metadata": {},
   "source": [
    "&#9989; **<font color=red>DO THIS:</font>** See if you can find other CUDA enabled libraries that you think could be useful.  Come to class prepared to share what you found."
   ]
  },
  {
   "cell_type": "markdown",
   "metadata": {},
   "source": [
    "nvJPEG - a high-performance GPU-accelerated library for decoding, encoding and transcoding JPEG format images."
   ]
  },
  {
   "cell_type": "markdown",
   "metadata": {},
   "source": [
    "\n",
    "\n",
    "---\n",
    "<a name=Assignment-wrap-up></a>\n",
    "# 5. Assignment wrap up\n",
    "\n",
    "Please fill out the form that appears when you run the code below.  **You must completely fill this out in order to receive credits for the assignment!**\n",
    "\n",
    "[Direct Link to Survey Form](https://cmse.msu.edu/cmse401-pc-survey)\n"
   ]
  },
  {
   "cell_type": "markdown",
   "metadata": {},
   "source": [
    "&#9989; **<font color=red>Assignment-Specific QUESTION:</font>** Why you think there are so many alternatives to CUDA (provide at least two reasons)?"
   ]
  },
  {
   "cell_type": "markdown",
   "metadata": {},
   "source": [
    "Because CUDA is managed by one company as opposed to by multiple companies and because it's complicated enough to warrant the desire for simpler alternatives."
   ]
  },
  {
   "cell_type": "markdown",
   "metadata": {},
   "source": [
    "&#9989; **<font color=red>QUESTION:</font>**  Summarize what you did in this assignment."
   ]
  },
  {
   "cell_type": "markdown",
   "metadata": {},
   "source": [
    "Explored CUDA alternatives"
   ]
  },
  {
   "cell_type": "markdown",
   "metadata": {},
   "source": [
    "&#9989; **<font color=red>QUESTION:</font>**  What questions do you have, if any, about any of the topics discussed in this assignment after working through the jupyter notebook?"
   ]
  },
  {
   "cell_type": "markdown",
   "metadata": {},
   "source": [
    "How do I get the sample code to work"
   ]
  },
  {
   "cell_type": "markdown",
   "metadata": {},
   "source": [
    "&#9989; **<font color=red>QUESTION:</font>**  How well do you feel this assignment helped you to achieve a better understanding of the above mentioned topic(s)?"
   ]
  },
  {
   "cell_type": "markdown",
   "metadata": {},
   "source": [
    "decent"
   ]
  },
  {
   "cell_type": "markdown",
   "metadata": {},
   "source": [
    "&#9989; **<font color=red>QUESTION:</font>** What was the **most** challenging part of this assignment for you? "
   ]
  },
  {
   "cell_type": "markdown",
   "metadata": {},
   "source": [
    "Getting the sample code to work"
   ]
  },
  {
   "cell_type": "markdown",
   "metadata": {},
   "source": [
    "&#9989; **<font color=red>QUESTION:</font>** What was the **least** challenging part of this assignment for you? "
   ]
  },
  {
   "cell_type": "markdown",
   "metadata": {},
   "source": [
    "Searching for CUDA libraries"
   ]
  },
  {
   "cell_type": "markdown",
   "metadata": {},
   "source": [
    "&#9989; **<font color=red>QUESTION:</font>**  What kind of additional questions or support, if any, do you feel you need to have a better understanding of the content in this assignment?"
   ]
  },
  {
   "cell_type": "markdown",
   "metadata": {},
   "source": [
    "none"
   ]
  },
  {
   "cell_type": "markdown",
   "metadata": {},
   "source": [
    "&#9989; **<font color=red>QUESTION:</font>**  Do you have any further questions or comments about this material, or anything else that's going on in class?"
   ]
  },
  {
   "cell_type": "markdown",
   "metadata": {},
   "source": [
    "no"
   ]
  },
  {
   "cell_type": "markdown",
   "metadata": {},
   "source": [
    "&#9989; **<font color=red>QUESTION:</font>** Approximately how long did this pre-class assignment take?"
   ]
  },
  {
   "cell_type": "markdown",
   "metadata": {},
   "source": [
    "hour"
   ]
  },
  {
   "cell_type": "code",
   "execution_count": 21,
   "metadata": {},
   "outputs": [
    {
     "data": {
      "text/html": [
       "\n",
       "<iframe \n",
       "\tsrc=\"https://cmse.msu.edu/cmse401-pc-survey\" \n",
       "\twidth=\"100%\" \n",
       "\theight=\"500px\" \n",
       "\tframeborder=\"0\" \n",
       "\tmarginheight=\"0\" \n",
       "\tmarginwidth=\"0\">\n",
       "\tLoading...\n",
       "</iframe>\n"
      ],
      "text/plain": [
       "<IPython.core.display.HTML object>"
      ]
     },
     "execution_count": 21,
     "metadata": {},
     "output_type": "execute_result"
    }
   ],
   "source": [
    "from IPython.display import HTML\n",
    "HTML(\n",
    "\"\"\"\n",
    "<iframe \n",
    "\tsrc=\"https://cmse.msu.edu/cmse401-pc-survey\" \n",
    "\twidth=\"100%\" \n",
    "\theight=\"500px\" \n",
    "\tframeborder=\"0\" \n",
    "\tmarginheight=\"0\" \n",
    "\tmarginwidth=\"0\">\n",
    "\tLoading...\n",
    "</iframe>\n",
    "\"\"\"\n",
    ")"
   ]
  },
  {
   "cell_type": "markdown",
   "metadata": {},
   "source": [
    "###STARTFOOTER###\n",
    "\n",
    "---------\n",
    "### Congratulations, we're done!\n",
    "\n",
    "To get credit for this assignment you must fill out and submit the above survey from on or before the assignment due date."
   ]
  },
  {
   "cell_type": "markdown",
   "metadata": {},
   "source": [
    "### Course Resources:\n",
    "\n",
    "###LINKS###"
   ]
  },
  {
   "cell_type": "code",
   "execution_count": null,
   "metadata": {},
   "outputs": [],
   "source": [
    "##ANSWER## \n",
    "#this cell gets the name of the current notebook.\n",
    "from jupyterinstruct import InstructorNotebook\n",
    "InstructorNotebook.cleanNsave()\n",
    "\n",
    "import thiscourse\n",
    "tags = thiscourse.tags()\n",
    "##ANSWER## "
   ]
  },
  {
   "cell_type": "code",
   "execution_count": null,
   "metadata": {},
   "outputs": [],
   "source": [
    "##ANSWER## \n",
    "#This cell runs the converter which removes ANSWER feilds, renames the notebook and cleans out output fields. \n",
    "studentnotebook = InstructorNotebook.makestudent(this_notebook, \"./\"+tags['COURSE_CODE']+\"/\", tags)\n",
    "InstructorNotebook.validate(studentnotebook)\n",
    "##ANSWER## "
   ]
  },
  {
   "cell_type": "code",
   "execution_count": null,
   "metadata": {},
   "outputs": [],
   "source": [
    "##ANSWER##\n",
    "from jupyterinstruct import webtools\n",
    "\n",
    "webtools.publish2folder(studentnotebook, './cmse401-S21-student/assignments')\n",
    "\n",
    "##ANSWER##"
   ]
  },
  {
   "cell_type": "code",
   "execution_count": null,
   "metadata": {},
   "outputs": [],
   "source": [
    "##ANSWER##\n",
    "from jupyterinstruct import InstructorNotebook\n",
    "\n",
    "InstructorNotebook.cleanNsave()\n",
    "##ANSWER##"
   ]
  },
  {
   "cell_type": "markdown",
   "metadata": {},
   "source": [
    "Written by Dr. Dirk Colbry, Michigan State University\n",
    "<a rel=\"license\" href=\"http://creativecommons.org/licenses/by-nc/4.0/\"><img alt=\"Creative Commons License\" style=\"border-width:0\" src=\"https://i.creativecommons.org/l/by-nc/4.0/88x31.png\" /></a><br />This work is licensed under a <a rel=\"license\" href=\"http://creativecommons.org/licenses/by-nc/4.0/\">Creative Commons Attribution-NonCommercial 4.0 International License</a>."
   ]
  },
  {
   "cell_type": "markdown",
   "metadata": {},
   "source": [
    "----"
   ]
  },
  {
   "cell_type": "markdown",
   "metadata": {},
   "source": [
    "----"
   ]
  }
 ],
 "metadata": {
  "anaconda-cloud": {},
  "kernelspec": {
   "display_name": "Python [conda env:base] *",
   "language": "python",
   "name": "conda-base-py"
  },
  "language_info": {
   "codemirror_mode": {
    "name": "ipython",
    "version": 3
   },
   "file_extension": ".py",
   "mimetype": "text/x-python",
   "name": "python",
   "nbconvert_exporter": "python",
   "pygments_lexer": "ipython3",
   "version": "3.12.7"
  }
 },
 "nbformat": 4,
 "nbformat_minor": 4
}
