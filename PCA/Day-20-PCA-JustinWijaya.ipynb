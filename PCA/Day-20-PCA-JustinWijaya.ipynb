{
 "cells": [
  {
   "cell_type": "markdown",
   "metadata": {},
   "source": [
    "In order to successfully complete this assignment you must do the required reading, watch the provided videos and complete all instructions.  The embedded survey form must be entirely filled out and submitted on or before **11:59pm**.  Students must come to class the next day prepared to discuss the material covered in this assignment. "
   ]
  },
  {
   "cell_type": "markdown",
   "metadata": {},
   "source": [
    "---\n"
   ]
  },
  {
   "cell_type": "markdown",
   "metadata": {},
   "source": [
    "# PCA 20: Scheduling CUDA Jobs\n"
   ]
  },
  {
   "cell_type": "markdown",
   "metadata": {},
   "source": [
    "### Goals for today's pre-class assignment \n",
    "\n",
    "1. [2D Array Indexing (a review)](#2D-Array-Indexing)\n",
    "2. [Indexing a Kernel using Blocks and Grids](#Indexing-a-Kernel-using-Blocks-and-Grids)\n",
    "3. [Launching a Kernel](#Launching-a-Kernel)\n",
    "4. [Branch Divergence](#Branch-Divergence)\n",
    "5. [Assignment wrap up](#Assignment-wrap-up)\n",
    "\n"
   ]
  },
  {
   "cell_type": "markdown",
   "metadata": {},
   "source": [
    "---\n",
    "<a name=2D-Array-Indexing></a>\n",
    "# 1. 2D Array Indexing (a review)\n",
    "\n",
    "\n",
    "\n",
    "\n",
    "All memory in a computer is stored linearly with each location in memory given a sequential address.  I want you to think for a moment to understand how we take a linear list of numbers and turn it into a 2D array:\n",
    "\n",
    "In the following image you can see the relationship between a linear index and a imposed structure that we give it to represent the row and column of the array. We will set up the problem similar to a checker board, such that each grid has a linear label, an index of row, and an index of column. \n",
    "\n",
    "<img src=\"https://lh5.googleusercontent.com/tpc1tFPULkPDt1q03E1nPkllHRO60jYyL-rZWmiJLM0AQtVkm1-EF6Pf0yKrm6S5ifVxJ1knHLpVRv7Fsu_pP-rzrauVa2dp2DLrAx2iya9Jbqs2gRWJJ3J-uBqE=w740\" alt = \"Visual relationship between linear index and a 2D index\" width=600 />\n",
    "\n",
    "To practice, lets make a few simple python functions that convert the incremental label of a grid point to it's corresponding row and column index. For example, in the above ($99 \\times 49$) grid the 99-th item is at row = 2 and col = 1 . "
   ]
  },
  {
   "cell_type": "markdown",
   "metadata": {},
   "source": [
    "&#9989; **<font color=red>DO THIS:</font>** Write a function named ```LabelToIndex``` which takes in three arguments (Number of rows, Number of column and the linear index).  The function should then return the row and column for that index. The following is a stub function to get you started:"
   ]
  },
  {
   "cell_type": "code",
   "execution_count": 20,
   "metadata": {},
   "outputs": [],
   "source": [
    "def LabelToIndices(n_row, n_col, lab):\n",
    "    \"\"\"function for converting linear label of grid to indices of row and column\n",
    "    \n",
    "    Run the function with number of rows, number of columns and the index as input:\n",
    "    \n",
    "    Usage: \n",
    "    \n",
    "    >>> LabelToIndices(99, 49, 3675)\n",
    "    (75, 0)\n",
    "    \"\"\"\n",
    "    c = -1\n",
    "    for i in range(0,n_row):\n",
    "        for j in range(0,n_col):\n",
    "            c += 1\n",
    "            if c == lab:\n",
    "                return i,j\n",
    "    return None"
   ]
  },
  {
   "cell_type": "code",
   "execution_count": 22,
   "metadata": {},
   "outputs": [
    {
     "name": "stdout",
     "output_type": "stream",
     "text": [
      "Help on function LabelToIndices in module __main__:\n",
      "\n",
      "LabelToIndices(n_row, n_col, lab)\n",
      "    function for converting linear label of grid to indices of row and column\n",
      "\n",
      "    Run the function with number of rows, number of columns and the index as input:\n",
      "\n",
      "    Usage:\n",
      "\n",
      "    >>> LabelToIndices(99, 49, 3675)\n",
      "    (75, 0)\n",
      "\n"
     ]
    }
   ],
   "source": [
    "help(LabelToIndices)"
   ]
  },
  {
   "cell_type": "markdown",
   "metadata": {},
   "source": [
    "Let's test the ```LabelToIndices``` function for 3675-th grid. Print the index of row and column."
   ]
  },
  {
   "cell_type": "code",
   "execution_count": 25,
   "metadata": {},
   "outputs": [
    {
     "data": {
      "text/plain": [
       "(75, 0)"
      ]
     },
     "execution_count": 25,
     "metadata": {},
     "output_type": "execute_result"
    }
   ],
   "source": [
    "LabelToIndices(99, 49, 3675)"
   ]
  },
  {
   "cell_type": "markdown",
   "metadata": {},
   "source": [
    "&#9989; **<font color=red>DO THIS:</font>** Using the following stub function as a guide write a function named ```LabelToIndex``` that converts the indices of row and column of a grid to the linear label. For example, the grid at row = 2 and col = 1 is labeled as the 99-th point."
   ]
  },
  {
   "cell_type": "code",
   "execution_count": 29,
   "metadata": {},
   "outputs": [],
   "source": [
    "def IndicesToLabel(n_row, n_col, row, col):\n",
    "    \"\"\"function for converting row and column indices of a grid to linear label\n",
    "    \n",
    "    Usage:\n",
    "    \n",
    "    >>> IndicesToLabel(99, 49, 2,1)\n",
    "    99\n",
    "    \"\"\"\n",
    "    r = -1\n",
    "    index = -1\n",
    "    for i in range(n_row):\n",
    "        c = -1\n",
    "        r += 1\n",
    "        for j in range(n_col):\n",
    "            c += 1\n",
    "            index += 1\n",
    "            if r is row and c is col:\n",
    "                return index\n",
    "    return None"
   ]
  },
  {
   "cell_type": "code",
   "execution_count": 31,
   "metadata": {},
   "outputs": [
    {
     "data": {
      "text/plain": [
       "99"
      ]
     },
     "execution_count": 31,
     "metadata": {},
     "output_type": "execute_result"
    }
   ],
   "source": [
    "IndicesToLabel(99, 49, 2, 1)"
   ]
  },
  {
   "cell_type": "markdown",
   "metadata": {},
   "source": [
    "\n",
    "---\n",
    "<a name=Indexing-a-Kernel-using-Blocks-and-Grids></a>\n",
    "# 2. Indexing a Kernel using Blocks and Grids\n",
    "\n",
    "\n"
   ]
  },
  {
   "cell_type": "markdown",
   "metadata": {},
   "source": [
    "Each Cuda Kernel is a thread that runs inside of a block that runs inside of a grid. This organization is designed to make thread able to efficiently cooperate with each other. The following picture gives you a mental picture of how threads are organized into blocks which are organized into grids.\n",
    "\n",
    "<img src=\"https://upload.wikimedia.org/wikipedia/commons/thumb/5/5b/Block-thread.svg/1280px-Block-thread.svg.png\" width=50%>\n",
    "\n",
    "Each thread knows it's address based on the following variables:\n",
    "* ```gridDim.x```, ```gridDim.y``` and ```gridDim.z``` The size of the block grid in the ```x```, ```y``` and ```z``` directions.\n",
    "* ```blockDim.x```, ```blockDim.y``` and ```blockDim.z``` The size of the block grid in the ```x```, ```y``` and ```z``` directions.\n",
    "* ```threadIdx.x```, ```threadIdx.y``` and ```threadIdx.z``` . The location of the thread in ```x,y,z``` block coordinates.\n",
    "* ```blockIdx.x```, ```blockIdx.y``` and ```blockIdx.z``` . The location of the block in ```x,y,z``` grid coordinates.\n",
    "\n",
    "Mony programs do not use all three dimensions.  For example, consider the following CUDA kernel from the last pre-class assignment which only uses 2D example and assumes the ```threadIdx.z``` and ```blockIndx.z``` are zero:\n",
    "\n",
    "```c++\n",
    "__global__ void theKernel(float * our_array)\n",
    "{\n",
    "    //This is array flattening, (Array Width * Y Index + X Index)\n",
    "    int index = (gridDim.x * blockDim.x) * \\\n",
    "              (blockIdx.y * blockDim.y + threadIdx.y) + \\\n",
    "              (blockIdx.x * blockDim.x + threadIdx.x);\n",
    "    our_array[index] = (float) index;\n",
    "}\n",
    "```\n",
    "\n",
    "Here is a simpler one from the Vector Add code which only uses one dimension:\n",
    "\n",
    "```c++\n",
    "__global__ void vecAdd(int *A,int *B,int *C,int N)\n",
    "{\n",
    "   int i = blockIdx.x * blockDim.x + threadIdx.x;\n",
    "   C[i] = A[i] + B[i]; \n",
    "}\n",
    "```"
   ]
  },
  {
   "cell_type": "markdown",
   "metadata": {},
   "source": [
    "&#9989; **<font color=red>QUESTION:</font>** Similar to the above code, how would you calculate a unique index for a three dimensional grid with three dimensional blocks (i.e. take the ```int index``` calculation from above and extend it into three dimensions)?"
   ]
  },
  {
   "cell_type": "markdown",
   "metadata": {},
   "source": [
    "For each dimension, sum the threadIdx and the product of blockIdx and blockDim. Then, sum them all together."
   ]
  },
  {
   "cell_type": "code",
   "execution_count": 35,
   "metadata": {},
   "outputs": [
    {
     "data": {
      "image/jpeg": "[encoded data removed]",
      "text/html": [
       "\n",
       "        <iframe\n",
       "            width=\"640\"\n",
       "            height=\"360\"\n",
       "            src=\"https://www.youtube.com/embed/usY0643pYs8\"\n",
       "            frameborder=\"0\"\n",
       "            allowfullscreen\n",
       "            \n",
       "        ></iframe>\n",
       "        "
      ],
      "text/plain": [
       "<IPython.lib.display.YouTubeVideo at 0x126b5acc0>"
      ]
     },
     "execution_count": 35,
     "metadata": {},
     "output_type": "execute_result"
    }
   ],
   "source": [
    "from IPython.display import YouTubeVideo\n",
    "YouTubeVideo(\"usY0643pYs8\",width=640,height=360)"
   ]
  },
  {
   "cell_type": "markdown",
   "metadata": {},
   "source": [
    "&#9989; **<font color=red>QUESTION:</font>** What does SM stand for?"
   ]
  },
  {
   "cell_type": "markdown",
   "metadata": {},
   "source": [
    "Streaming multiprocessors"
   ]
  },
  {
   "cell_type": "markdown",
   "metadata": {},
   "source": [
    "\n",
    "---\n",
    "<a name=Launching-a-Kernel></a>\n",
    "# 3. Launching a Kernel\n",
    "\n"
   ]
  },
  {
   "cell_type": "markdown",
   "metadata": {},
   "source": [
    "In the last pre-class the Kernel (shown above) was lanched using the following code:\n",
    "\n",
    "```c++\n",
    "dim3 gridSize(2,2,1);\n",
    "dim3 blockSize(8,8,1);\n",
    "theKernel <<<gridSize, blockSize>>> (our_array_d);\n",
    "```\n",
    "\n",
    "And the Vector Add example from class used the following code:\n",
    "\n",
    "```c++\n",
    "int n=10000000;\n",
    "int block_size=1024;\n",
    "int block_no = n/block_size;\n",
    "dim3 dimGrid(block_no,1,1);\n",
    "dim3 dimBlock(block_size,1,1);\n",
    "vecAdd<<<block_no,block_size>>>(a_d,b_d,c_d,n);\n",
    "```\n",
    "\n",
    "The following video tries to explain this syntax:"
   ]
  },
  {
   "cell_type": "code",
   "execution_count": 38,
   "metadata": {},
   "outputs": [
    {
     "data": {
      "image/jpeg": "[encoded data removed]",
      "text/html": [
       "\n",
       "        <iframe\n",
       "            width=\"640\"\n",
       "            height=\"360\"\n",
       "            src=\"https://www.youtube.com/embed/yNs8B1VnMAA\"\n",
       "            frameborder=\"0\"\n",
       "            allowfullscreen\n",
       "            \n",
       "        ></iframe>\n",
       "        "
      ],
      "text/plain": [
       "<IPython.lib.display.YouTubeVideo at 0x126673fe0>"
      ]
     },
     "execution_count": 38,
     "metadata": {},
     "output_type": "execute_result"
    }
   ],
   "source": [
    "from IPython.display import YouTubeVideo\n",
    "YouTubeVideo(\"yNs8B1VnMAA\",width=640,height=360)"
   ]
  },
  {
   "cell_type": "markdown",
   "metadata": {},
   "source": [
    "Consider the following Kernel Call described at the end of the above video:\n",
    "\n",
    "```c++\n",
    "Kernel <<<dim3(8,4,2), dim3(16,16)>>>(...)\n",
    "```"
   ]
  },
  {
   "cell_type": "markdown",
   "metadata": {},
   "source": [
    "&#9989; **<font color=red>QUESTION:</font>** How many blocks are there?"
   ]
  },
  {
   "cell_type": "markdown",
   "metadata": {},
   "source": [
    "64"
   ]
  },
  {
   "cell_type": "markdown",
   "metadata": {},
   "source": [
    "&#9989; **<font color=red>QUESTION:</font>** How many Threads per block?"
   ]
  },
  {
   "cell_type": "code",
   "execution_count": 41,
   "metadata": {},
   "outputs": [
    {
     "name": "stdout",
     "output_type": "stream",
     "text": [
      "256\n"
     ]
    }
   ],
   "source": [
    "print(16*16)"
   ]
  },
  {
   "cell_type": "markdown",
   "metadata": {},
   "source": [
    "&#9989; **<font color=red>QUESTION:</font>** How many total threads?"
   ]
  },
  {
   "cell_type": "code",
   "execution_count": 43,
   "metadata": {},
   "outputs": [
    {
     "name": "stdout",
     "output_type": "stream",
     "text": [
      "16384\n"
     ]
    }
   ],
   "source": [
    "print(64*256)"
   ]
  },
  {
   "cell_type": "markdown",
   "metadata": {},
   "source": [
    "\n",
    "\n",
    "---\n",
    "<a name=Branch-Divergence></a>\n",
    "# 4. Branch Divergence\n",
    "\n"
   ]
  },
  {
   "cell_type": "code",
   "execution_count": 45,
   "metadata": {},
   "outputs": [
    {
     "data": {
      "image/jpeg": "[encoded data removed]",
      "text/html": [
       "\n",
       "        <iframe\n",
       "            width=\"640\"\n",
       "            height=\"360\"\n",
       "            src=\"https://www.youtube.com/embed/cYw7VsyVTe4\"\n",
       "            frameborder=\"0\"\n",
       "            allowfullscreen\n",
       "            \n",
       "        ></iframe>\n",
       "        "
      ],
      "text/plain": [
       "<IPython.lib.display.YouTubeVideo at 0x126dcf3e0>"
      ]
     },
     "execution_count": 45,
     "metadata": {},
     "output_type": "execute_result"
    }
   ],
   "source": [
    "from IPython.display import YouTubeVideo\n",
    "YouTubeVideo(\"cYw7VsyVTe4\",width=640,height=360)"
   ]
  },
  {
   "cell_type": "markdown",
   "metadata": {},
   "source": [
    "&#9989; **<font color=red>QUESTION:</font>** What is Branch Divergence and why it is bad?"
   ]
  },
  {
   "cell_type": "markdown",
   "metadata": {},
   "source": [
    "Because all processes within a warp (smaller grouping of threads inside of blocks) runs concurrently."
   ]
  },
  {
   "cell_type": "markdown",
   "metadata": {},
   "source": [
    "\n",
    "\n",
    "---\n",
    "<a name=Assignment-wrap-up></a>\n",
    "# 5. Assignment wrap up\n",
    "\n",
    "\n",
    "Please fill out the form that appears when you run the code below.  **You must completely fill this out in order to receive credits for the assignment!**\n",
    "\n",
    "[Direct Link to Suvey Form](https://cmse.msu.edu/cmse401-pc-survey)\n",
    "\n"
   ]
  },
  {
   "cell_type": "markdown",
   "metadata": {},
   "source": [
    "&#9989; **<font color=red>Assignment-Specific QUESTION:</font>**  Are you able to get the index code review working? If not, where did you get stuck?"
   ]
  },
  {
   "cell_type": "markdown",
   "metadata": {},
   "source": [
    "yes"
   ]
  },
  {
   "cell_type": "markdown",
   "metadata": {},
   "source": [
    "&#9989; **<font color=red>QUESTION:</font>**  Summarize what you did in this assignment."
   ]
  },
  {
   "cell_type": "markdown",
   "metadata": {},
   "source": [
    "learned about kernel structure and possible issues stemming from how gpus work (branch divergence)"
   ]
  },
  {
   "cell_type": "markdown",
   "metadata": {},
   "source": [
    "&#9989; **<font color=red>QUESTION:</font>**  What questions do you have, if any, about any of the topics discussed in this assignment after working through the jupyter notebook?"
   ]
  },
  {
   "cell_type": "markdown",
   "metadata": {},
   "source": [
    "none"
   ]
  },
  {
   "cell_type": "markdown",
   "metadata": {},
   "source": [
    "&#9989; **<font color=red>QUESTION:</font>**  How well do you feel this assignment helped you to achieve a better understanding of the above mentioned topic(s)?"
   ]
  },
  {
   "cell_type": "markdown",
   "metadata": {},
   "source": [
    "good"
   ]
  },
  {
   "cell_type": "markdown",
   "metadata": {},
   "source": [
    "&#9989; **<font color=red>QUESTION:</font>** What was the **most** challenging part of this assignment for you? "
   ]
  },
  {
   "cell_type": "markdown",
   "metadata": {},
   "source": [
    "understanding the syntax"
   ]
  },
  {
   "cell_type": "markdown",
   "metadata": {},
   "source": [
    "&#9989; **<font color=red>QUESTION:</font>** What was the **least** challenging part of this assignment for you? "
   ]
  },
  {
   "cell_type": "markdown",
   "metadata": {},
   "source": [
    "making the index functions"
   ]
  },
  {
   "cell_type": "markdown",
   "metadata": {},
   "source": [
    "&#9989; **<font color=red>QUESTION:</font>**  What kind of additional questions or support, if any, do you feel you need to have a better understanding of the content in this assignment?"
   ]
  },
  {
   "cell_type": "markdown",
   "metadata": {},
   "source": [
    "none"
   ]
  },
  {
   "cell_type": "markdown",
   "metadata": {},
   "source": [
    "&#9989; **<font color=red>QUESTION:</font>**  Do you have any further questions or comments about this material, or anything else that's going on in class?"
   ]
  },
  {
   "cell_type": "markdown",
   "metadata": {},
   "source": [
    "no"
   ]
  },
  {
   "cell_type": "markdown",
   "metadata": {},
   "source": [
    "&#9989; **<font color=red>QUESTION:</font>** Approximately how long did this pre-class assignment take?"
   ]
  },
  {
   "cell_type": "markdown",
   "metadata": {},
   "source": [
    "about a hour"
   ]
  },
  {
   "cell_type": "code",
   "execution_count": 59,
   "metadata": {},
   "outputs": [
    {
     "data": {
      "text/html": [
       "\n",
       "<iframe \n",
       "\tsrc=\"https://cmse.msu.edu/cmse401-pc-survey\" \n",
       "\twidth=\"100%\" \n",
       "\theight=\"500px\" \n",
       "\tframeborder=\"0\" \n",
       "\tmarginheight=\"0\" \n",
       "\tmarginwidth=\"0\">\n",
       "\tLoading...\n",
       "</iframe>\n"
      ],
      "text/plain": [
       "<IPython.core.display.HTML object>"
      ]
     },
     "execution_count": 59,
     "metadata": {},
     "output_type": "execute_result"
    }
   ],
   "source": [
    "from IPython.display import HTML\n",
    "HTML(\n",
    "\"\"\"\n",
    "<iframe \n",
    "\tsrc=\"https://cmse.msu.edu/cmse401-pc-survey\" \n",
    "\twidth=\"100%\" \n",
    "\theight=\"500px\" \n",
    "\tframeborder=\"0\" \n",
    "\tmarginheight=\"0\" \n",
    "\tmarginwidth=\"0\">\n",
    "\tLoading...\n",
    "</iframe>\n",
    "\"\"\"\n",
    ")"
   ]
  },
  {
   "cell_type": "markdown",
   "metadata": {},
   "source": [
    "\n",
    "\n",
    "---------\n",
    "### Congratulations, we're done!\n",
    "\n",
    "To get credit for this assignment you must fill out and submit the above survey from on or before the assignment due date."
   ]
  },
  {
   "cell_type": "markdown",
   "metadata": {},
   "source": [
    "Written by Dr. Dirk Colbry, Michigan State University\n",
    "<a rel=\"license\" href=\"http://creativecommons.org/licenses/by-nc/4.0/\"><img alt=\"Creative Commons License\" style=\"border-width:0\" src=\"https://i.creativecommons.org/l/by-nc/4.0/88x31.png\" /></a><br />This work is licensed under a <a rel=\"license\" href=\"http://creativecommons.org/licenses/by-nc/4.0/\">Creative Commons Attribution-NonCommercial 4.0 International License</a>."
   ]
  },
  {
   "cell_type": "markdown",
   "metadata": {},
   "source": [
    "----"
   ]
  },
  {
   "cell_type": "markdown",
   "metadata": {},
   "source": [
    "----"
   ]
  }
 ],
 "metadata": {
  "anaconda-cloud": {},
  "kernelspec": {
   "display_name": "Python 3 (ipykernel)",
   "language": "python",
   "name": "python3"
  },
  "language_info": {
   "codemirror_mode": {
    "name": "ipython",
    "version": 3
   },
   "file_extension": ".py",
   "mimetype": "text/x-python",
   "name": "python",
   "nbconvert_exporter": "python",
   "pygments_lexer": "ipython3",
   "version": "3.11.3"
  }
 },
 "nbformat": 4,
 "nbformat_minor": 4
}
