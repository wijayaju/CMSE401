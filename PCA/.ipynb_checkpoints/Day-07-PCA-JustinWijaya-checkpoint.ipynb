{
 "cells": [
  {
   "cell_type": "markdown",
   "metadata": {},
   "source": [
    "In order to successfully complete this assignment you must do the required reading, watch the provided videos and complete all instructions.  Students must come to class the next day prepared to discuss the material covered in this assignment. "
   ]
  },
  {
   "cell_type": "markdown",
   "metadata": {},
   "source": [
    "---\n"
   ]
  },
  {
   "cell_type": "markdown",
   "metadata": {},
   "source": [
    "# Pre-Class Assignment: Schedulers\n",
    "\n",
    "\n",
    "<a href=\"https://slurm.schedmd.com/\"><img alt=\"SLURM LOGO\" src=\"https://upload.wikimedia.org/wikipedia/commons/thumb/3/3a/Slurm_logo.svg/2000px-Slurm_logo.svg.png\" width=25% ></a>\n"
   ]
  },
  {
   "cell_type": "markdown",
   "metadata": {},
   "source": [
    "# Goals for today's pre-class assignment \n",
    "\n",
    "\n",
    "1. [Batch Schedulers](#Batch-Schedulers)\n",
    "2. [Assignment wrap up](#Assignment-wrap-up)\n",
    "\n"
   ]
  },
  {
   "cell_type": "markdown",
   "metadata": {},
   "source": [
    "\n",
    "\n",
    "---\n",
    "<a name=Batch-Schedulers></a>\n",
    "# 1. Batch Schedulers\n",
    "\n",
    "\n",
    "Batch Schedulers are used on large shared systems to manage cluster resources.  The HPCC uses the SLURM batch scheduler:\n",
    "\n",
    "\n",
    "> Slurm is an open source, fault-tolerant, and highly scalable cluster management and job scheduling system for large and small Linux clusters. Slurm requires no kernel modifications for its operation and is relatively self-contained. As a cluster workload manager, Slurm has three key functions. First, it allocates exclusive and/or non-exclusive access to resources (compute nodes) to users for some duration of time so they can perform work. Second, it provides a framework for starting, executing, and monitoring work (normally a parallel job) on the set of allocated nodes. Finally, it arbitrates contention for resources by managing a queue of pending work. Optional plugins can be used for accounting, advanced reservation, gang scheduling (time sharing for parallel jobs), backfill scheduling, topology optimized resource selection, resource limits by user or bank account, and sophisticated multifactor job prioritization algorithms.\n",
    "\n",
    "\n",
    "**_Note_**: These videos start out on a gateway node.  We will be using the [http://ondemand.hpcc.msu.edu](http://ondemand.hpcc.msu.edu) system.\n",
    "\n",
    "The following vidoes provide an itroduction to using the SLURM scheduler on the HPCC:\n",
    "\n",
    "### Part 1: Interactive Jobs\n",
    "\n"
   ]
  },
  {
   "cell_type": "code",
   "execution_count": 1,
   "metadata": {},
   "outputs": [
    {
     "data": {
      "image/jpeg": "[encoded data removed]",
      "text/html": [
       "\n",
       "        <iframe\n",
       "            width=\"570\"\n",
       "            height=\"360\"\n",
       "            src=\"https://www.youtube.com/embed/yJY2IevXaJs\"\n",
       "            frameborder=\"0\"\n",
       "            allowfullscreen\n",
       "            \n",
       "        ></iframe>\n",
       "        "
      ],
      "text/plain": [
       "<IPython.lib.display.YouTubeVideo at 0x106fb5be0>"
      ]
     },
     "execution_count": 1,
     "metadata": {},
     "output_type": "execute_result"
    }
   ],
   "source": [
    "from IPython.display import YouTubeVideo\n",
    "YouTubeVideo(\"yJY2IevXaJs\",width=570,height=360)"
   ]
  },
  {
   "cell_type": "markdown",
   "metadata": {},
   "source": [
    "Commands used in the above video:\n",
    "\n",
    "```bash\n",
    "ssh dev-intel16-k80\n",
    "who | wc -l\n",
    "clear\n",
    "squeue -l\n",
    "squeue -l | wc -l\n",
    "squeue -l | grep RUNNING | wc -l\n",
    "squeue -l | grep PENDING | wc -l\n",
    "salloc\n",
    "env | grep SLURM\n",
    "salloc --time 00:10:00\n",
    "exit\n",
    "salloc -N 3 --ntasks-per-node 2 --time 00:10:00\n",
    "salloc -N 3 --ntasks-per-node 2 --mem 22gb --time 00:10:00\n",
    "cd MPI_Example\n",
    "mpirun ./hello_mpi\n",
    "```"
   ]
  },
  {
   "cell_type": "markdown",
   "metadata": {},
   "source": [
    "&#9989; **<font color=red>DO THIS:</font>**  Use the ```salloc``` command and jump on to a single cpu on the cluster and answer the follwoing questions."
   ]
  },
  {
   "cell_type": "markdown",
   "metadata": {},
   "source": [
    "&#9989; **<font color=red>QUESTION:</font>**  How many people are currently logged into the node? "
   ]
  },
  {
   "cell_type": "markdown",
   "metadata": {},
   "source": [
    "0"
   ]
  },
  {
   "cell_type": "markdown",
   "metadata": {},
   "source": [
    "&#9989; **<font color=red>QUESTION:</font>**  What is the name of the node?"
   ]
  },
  {
   "cell_type": "markdown",
   "metadata": {},
   "source": [
    "lac-124"
   ]
  },
  {
   "cell_type": "markdown",
   "metadata": {},
   "source": [
    "### Part 2: Basics of Job Scheduling"
   ]
  },
  {
   "cell_type": "code",
   "execution_count": 11,
   "metadata": {},
   "outputs": [
    {
     "data": {
      "image/jpeg": "[encoded data removed]",
      "text/html": [
       "\n",
       "        <iframe\n",
       "            width=\"570\"\n",
       "            height=\"360\"\n",
       "            src=\"https://www.youtube.com/embed/cn_CA5ZHWj4\"\n",
       "            frameborder=\"0\"\n",
       "            allowfullscreen\n",
       "            \n",
       "        ></iframe>\n",
       "        "
      ],
      "text/plain": [
       "<IPython.lib.display.YouTubeVideo at 0x1234d7c20>"
      ]
     },
     "execution_count": 11,
     "metadata": {},
     "output_type": "execute_result"
    }
   ],
   "source": [
    "from IPython.display import YouTubeVideo\n",
    "YouTubeVideo(\"cn_CA5ZHWj4\",width=570,height=360)"
   ]
  },
  {
   "cell_type": "markdown",
   "metadata": {},
   "source": [
    "Commands used in the above video:\n",
    "\n",
    "```bash\n",
    "ssh dev-intel14-k20\n",
    "who | wc -l\n",
    "clear\n",
    "cd HWLOC_Example\n",
    "vim hwloc_ex.sh #remember :q! your vim commands\n",
    "sbatch hwloc_ex.sh\n",
    "cat slurm-6883891.out # your number will be different\n",
    "cat hwloc_ex.sh\n",
    "sbatch -N 3 --ntasks-per-node 2 --mem 5gb --time 01:00:00 hwloc_ex.sh \n",
    "sq\n",
    "ls\n",
    "```\n",
    "    "
   ]
  },
  {
   "cell_type": "markdown",
   "metadata": {},
   "source": [
    "Example hwloc_ex.sh script used in the above video:\n",
    "```bash\n",
    "#!/bin/bash\n",
    "#SBATCH -N 3\n",
    "#SBATCH -c 2\n",
    "#SBATCH --mem 10gb\n",
    "#SBATCH --time 02:00:00\n",
    "\n",
    "echo Hello from $HOSTNAME\n",
    "\n",
    "module load hwloc\n",
    "\n",
    "lstopo $HOSTNAME.png\n",
    "#mailme $HOSTNAME.png\n",
    "\n",
    "scontrol show job $SLURM_JOB_ID\n",
    "\n",
    "```"
   ]
  },
  {
   "cell_type": "markdown",
   "metadata": {},
   "source": [
    "&#9989; **<font color=red>DO THIS:</font>** See if you can write a submission script that grabs a node on the cluster, uses the ```env``` command ot print out all of the enviornment variables. "
   ]
  },
  {
   "cell_type": "markdown",
   "metadata": {},
   "source": [
    "&#9989; **<font color=red>QUESTION:</font>** Copy and paste the contents of your submission script here:"
   ]
  },
  {
   "cell_type": "markdown",
   "metadata": {},
   "source": [
    "#!/bin/bash --login\n",
    "\n",
    "#SBATCH -N 3\n",
    "\n",
    "#SBATCH -c 2\n",
    "\n",
    "#SBATCH --mem 10gb\n",
    "\n",
    "#SBATCH --time 02:00:00\n",
    "\n",
    "env"
   ]
  },
  {
   "cell_type": "markdown",
   "metadata": {},
   "source": [
    "&#9989; **<font color=red>QUESTION:</font>**  If you were able to get your submission script to run. Copy and paste the line from the ```env``` output that shows which node your job ran on. "
   ]
  },
  {
   "cell_type": "markdown",
   "metadata": {},
   "source": [
    "NodeList=amr-[200-202]"
   ]
  },
  {
   "cell_type": "markdown",
   "metadata": {},
   "source": [
    "### Part 3: Sheduling Shared Memory Jobs (Ex: OpenMP)"
   ]
  },
  {
   "cell_type": "code",
   "execution_count": 17,
   "metadata": {},
   "outputs": [
    {
     "data": {
      "image/jpeg": "[encoded data removed]",
      "text/html": [
       "\n",
       "        <iframe\n",
       "            width=\"570\"\n",
       "            height=\"360\"\n",
       "            src=\"https://www.youtube.com/embed/o39erAZuDj4\"\n",
       "            frameborder=\"0\"\n",
       "            allowfullscreen\n",
       "            \n",
       "        ></iframe>\n",
       "        "
      ],
      "text/plain": [
       "<IPython.lib.display.YouTubeVideo at 0x1235a8a40>"
      ]
     },
     "execution_count": 17,
     "metadata": {},
     "output_type": "execute_result"
    }
   ],
   "source": [
    "from IPython.display import YouTubeVideo\n",
    "YouTubeVideo(\"o39erAZuDj4\",width=570,height=360)"
   ]
  },
  {
   "cell_type": "markdown",
   "metadata": {},
   "source": [
    "Commands used in the above video:\n",
    "\n",
    "```bash\n",
    "ssh dev-intel14-k20\n",
    "who | wc -l\n",
    "clear\n",
    "ls\n",
    "cd openmp_exercise\n",
    "```\n",
    "    "
   ]
  },
  {
   "cell_type": "markdown",
   "metadata": {},
   "source": [
    "Example prime.sh script used in the above video:\n",
    "```bash\n",
    "#!/bin/bash\n",
    "#SBATCH -N 1\n",
    "#SBATCH -c 32 \n",
    "#SBATCH --time 01:00:00\n",
    "#SBATCH --mem 4gb\n",
    "\n",
    "time ./prime_openmp\n",
    "\n",
    "for THREADCOUNT in 1 2 4 8 16 32;\n",
    "do\n",
    "        echo $THREADCOUNT \n",
    "        export OMP_NUM_THREADS=$THREADCOUNT\n",
    "        ./prime_openmp | grep  500000 | awk '{print $3}'\n",
    "done\n",
    "\n",
    "scontrol show job $SLURM_JOB_ID\n",
    "\n",
    "```"
   ]
  },
  {
   "cell_type": "markdown",
   "metadata": {},
   "source": [
    "&#9989; **<font color=red>Question:</font>** How would you modify your script from Part 2 to run on more than one CPU on the same node?"
   ]
  },
  {
   "cell_type": "markdown",
   "metadata": {},
   "source": [
    "change the number in the line #SBATCH -N 3"
   ]
  },
  {
   "cell_type": "markdown",
   "metadata": {},
   "source": [
    "### Part 4: Scheduling Shared Network Jobs (ex. MPI)"
   ]
  },
  {
   "cell_type": "code",
   "execution_count": 22,
   "metadata": {},
   "outputs": [
    {
     "data": {
      "image/jpeg": "[encoded data removed]",
      "text/html": [
       "\n",
       "        <iframe\n",
       "            width=\"570\"\n",
       "            height=\"360\"\n",
       "            src=\"https://www.youtube.com/embed/wZ4Q3gKUq5I\"\n",
       "            frameborder=\"0\"\n",
       "            allowfullscreen\n",
       "            \n",
       "        ></iframe>\n",
       "        "
      ],
      "text/plain": [
       "<IPython.lib.display.YouTubeVideo at 0x123a11d90>"
      ]
     },
     "execution_count": 22,
     "metadata": {},
     "output_type": "execute_result"
    }
   ],
   "source": [
    "from IPython.display import YouTubeVideo\n",
    "YouTubeVideo(\"wZ4Q3gKUq5I\",width=570,height=360)"
   ]
  },
  {
   "cell_type": "markdown",
   "metadata": {},
   "source": [
    "Commands used in the above video:\n",
    "\n",
    "```bash\n",
    "ssh dev-intel14-k20\n",
    "who | wc -l\n",
    "clear\n",
    "cd MPI_Example\n",
    "ls\n",
    "\n",
    "```\n",
    "    "
   ]
  },
  {
   "cell_type": "markdown",
   "metadata": {},
   "source": [
    "Example hwloc_ex.sh script used in the above video:\n",
    "```bash\n",
    "#!/bin/bash\n",
    "#SBATCH -N 30\n",
    "#SBATCH --ntasks-per-node 1\n",
    "#SBATCH --time 01:00:00\n",
    "#SBATCH --mem 15gb\n",
    "\n",
    "mpirun ./hello_mpi \n",
    "\n",
    "scontrol show job $SLURM_JOB_ID\n",
    "\n",
    "```"
   ]
  },
  {
   "cell_type": "markdown",
   "metadata": {},
   "source": [
    "&#9989; **<font color=red>DO THIS:</font>** Modify your submission script from Part 2 to run on four nodes.  "
   ]
  },
  {
   "cell_type": "markdown",
   "metadata": {},
   "source": [
    "&#9989; **<font color=red>QUESTION:</font>**  If you were able to get your submission script to run on multiple nodes. Copy and paste the line from the ```env``` output that shows which nodes your job ran on. "
   ]
  },
  {
   "cell_type": "markdown",
   "metadata": {},
   "source": [
    " NodeList=lac-[354,409-411]"
   ]
  },
  {
   "cell_type": "markdown",
   "metadata": {},
   "source": [
    "\n",
    "\n",
    "---\n",
    "<a name=Assignment-wrap-up></a>\n",
    "# 2. Assignment wrap up\n",
    "\n",
    "\n",
    "\n",
    "Please fill out the form that appears when you run the code below.  **You must completely fill this out in order to receive credits for the assignment!**\n",
    "\n",
    "[Direct Link to Survey Form](https://cmse.msu.edu/cmse401-pc-survey)"
   ]
  },
  {
   "cell_type": "markdown",
   "metadata": {},
   "source": [
    "&#9989; **<font color=red>Assignment-Specific QUESTION:</font>**  How would you modify your script from Part 2 to run on more than one CPU on the same node?"
   ]
  },
  {
   "cell_type": "markdown",
   "metadata": {},
   "source": [
    "Change the number in the line with #SBATCH -N"
   ]
  },
  {
   "cell_type": "markdown",
   "metadata": {},
   "source": [
    "&#9989; **<font color=red>QUESTION:</font>**  Summarize what you did in this assignment."
   ]
  },
  {
   "cell_type": "markdown",
   "metadata": {},
   "source": [
    "Learned how to use batch schedulers"
   ]
  },
  {
   "cell_type": "markdown",
   "metadata": {},
   "source": [
    "&#9989; **<font color=red>QUESTION:</font>**  What questions do you have, if any, about any of the topics discussed in this assignment after working through the jupyter notebook?"
   ]
  },
  {
   "cell_type": "markdown",
   "metadata": {},
   "source": [
    "none"
   ]
  },
  {
   "cell_type": "markdown",
   "metadata": {},
   "source": [
    "&#9989; **<font color=red>QUESTION:</font>**  How well do you feel this assignment helped you to achieve a better understanding of the above mentioned topic(s)?"
   ]
  },
  {
   "cell_type": "markdown",
   "metadata": {},
   "source": [
    "okay"
   ]
  },
  {
   "cell_type": "markdown",
   "metadata": {},
   "source": [
    "&#9989; **<font color=red>QUESTION:</font>** What was the **most** challenging part of this assignment for you? "
   ]
  },
  {
   "cell_type": "markdown",
   "metadata": {},
   "source": [
    "getting the script to work"
   ]
  },
  {
   "cell_type": "markdown",
   "metadata": {},
   "source": [
    "&#9989; **<font color=red>QUESTION:</font>** What was the **least** challenging part of this assignment for you? "
   ]
  },
  {
   "cell_type": "markdown",
   "metadata": {},
   "source": [
    "having the submission script run on multiple nodes"
   ]
  },
  {
   "cell_type": "markdown",
   "metadata": {},
   "source": [
    "&#9989; **<font color=red>QUESTION:</font>**  What kind of additional questions or support, if any, do you feel you need to have a better understanding of the content in this assignment?"
   ]
  },
  {
   "cell_type": "markdown",
   "metadata": {},
   "source": [
    "none"
   ]
  },
  {
   "cell_type": "markdown",
   "metadata": {},
   "source": [
    "&#9989; **<font color=red>QUESTION:</font>**  Do you have any further questions or comments about this material, or anything else that's going on in class?"
   ]
  },
  {
   "cell_type": "markdown",
   "metadata": {},
   "source": [
    "no"
   ]
  },
  {
   "cell_type": "markdown",
   "metadata": {},
   "source": [
    "&#9989; **<font color=red>QUESTION:</font>** Approximately how long did this pre-class assignment take?"
   ]
  },
  {
   "cell_type": "markdown",
   "metadata": {},
   "source": [
    "a hour"
   ]
  },
  {
   "cell_type": "code",
   "execution_count": 35,
   "metadata": {},
   "outputs": [
    {
     "data": {
      "text/html": [
       "\n",
       "<iframe \n",
       "\tsrc=\"https://cmse.msu.edu/cmse401-pc-survey\" \n",
       "\twidth=\"100%\" \n",
       "\theight=\"500px\" \n",
       "\tframeborder=\"0\" \n",
       "\tmarginheight=\"0\" \n",
       "\tmarginwidth=\"0\">\n",
       "\tLoading...\n",
       "</iframe>\n"
      ],
      "text/plain": [
       "<IPython.core.display.HTML object>"
      ]
     },
     "execution_count": 35,
     "metadata": {},
     "output_type": "execute_result"
    }
   ],
   "source": [
    "from IPython.display import HTML\n",
    "HTML(\n",
    "\"\"\"\n",
    "<iframe \n",
    "\tsrc=\"https://cmse.msu.edu/cmse401-pc-survey\" \n",
    "\twidth=\"100%\" \n",
    "\theight=\"500px\" \n",
    "\tframeborder=\"0\" \n",
    "\tmarginheight=\"0\" \n",
    "\tmarginwidth=\"0\">\n",
    "\tLoading...\n",
    "</iframe>\n",
    "\"\"\"\n",
    ")"
   ]
  },
  {
   "cell_type": "markdown",
   "metadata": {},
   "source": [
    "\n",
    "---------\n",
    "### Congratulations, we're done!\n",
    "\n",
    "To get credit for this assignment you must fill out and submit the above survey from on or before the assignment due date."
   ]
  },
  {
   "cell_type": "markdown",
   "metadata": {},
   "source": [
    "Written by Dr. Dirk Colbry, Michigan State University (Updated by Dr. Nathan Haut in Spring 2025)\n",
    "<a rel=\"license\" href=\"http://creativecommons.org/licenses/by-nc/4.0/\"><img alt=\"Creative Commons License\" style=\"border-width:0\" src=\"https://i.creativecommons.org/l/by-nc/4.0/88x31.png\" /></a><br />This work is licensed under a <a rel=\"license\" href=\"http://creativecommons.org/licenses/by-nc/4.0/\">Creative Commons Attribution-NonCommercial 4.0 International License</a>."
   ]
  },
  {
   "cell_type": "markdown",
   "metadata": {},
   "source": [
    "----"
   ]
  },
  {
   "cell_type": "markdown",
   "metadata": {},
   "source": [
    "----"
   ]
  }
 ],
 "metadata": {
  "anaconda-cloud": {},
  "kernelspec": {
   "display_name": "Python [conda env:base] *",
   "language": "python",
   "name": "conda-base-py"
  },
  "language_info": {
   "codemirror_mode": {
    "name": "ipython",
    "version": 3
   },
   "file_extension": ".py",
   "mimetype": "text/x-python",
   "name": "python",
   "nbconvert_exporter": "python",
   "pygments_lexer": "ipython3",
   "version": "3.12.7"
  }
 },
 "nbformat": 4,
 "nbformat_minor": 4
}
