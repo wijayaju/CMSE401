{
 "cells": [
  {
   "cell_type": "markdown",
   "metadata": {},
   "source": [
    "----\n",
    "\n",
    "# CMSE401 Quiz Instructions\n",
    "\n",
    "This quiz is designed to take approximately 30 minutes to complete (you will be given the entire class period).  \n",
    "\n",
    "Please read the following instructions before starting the quiz.\n"
   ]
  },
  {
   "cell_type": "markdown",
   "metadata": {},
   "source": [
    "> This is an open Internet quiz.  Feel free to use anything on the Internet with one important exception...\n",
    "> \n",
    "> - **DO NOT** communicate live with other people or AI tools during the quiz (either verbally or on-line).  The goal here is to find answers to problems as you would in the real world and demonstrate your own ability to solve problems.  \n",
    "> \n",
    "> You will be given **until the end of class** to complete this quiz.  Use your time wisely. \n",
    "> \n",
    "> **HINTS:**\n",
    "> - Neatness and grammar are important.  We will ignore all notes or code we can not read or understand.\n",
    "> - Read the entire quiz from beginning to end before starting.  Not all questions are equal in **points vs. time** so plan your time accordingly. \n",
    "> - Spaces for answers are provided. Delete the prompting text such as \"Put your answer to the above question here\" and replace it with your answer. Do not leave the prompting text with your answer.\n",
    "> - Do not assume that the answer must be in the same format of the cell provided. Feel free to change the cell formatting (e.g., markdown to code, and vice versa) or add additional cells as needed to provide your answer.\n",
    "> - When a question asks for an answer \"**in your own words**\" it is still okay to search the Internet for the answer as a reminder. *However*, we would like you to do more than cut and paste.  Make the answer your own. \n",
    "> - If you get stuck, try not to leave an answer blank. It is better to include some notes or stub functions so we have an idea about your thinking process so we can give you partial credit.   \n",
    "> - Always provid links to any references you find helpful. \n",
    "> - Feel free to delete the provided check marks (&#9989;) as a way to keep track of which questions you have successfully completed. "
   ]
  },
  {
   "cell_type": "markdown",
   "metadata": {},
   "source": [
    "> **Honor Code**\n",
    "> \n",
    "> I, agree to neither give nor receive any help on this quiz from other people.  I also understand that providing answers to questions on this quiz to other students is also an academic misconduct violation as is live communication or receiving answers to questions on this quiz from other people. It is important to me to be a person of integrity and that means that ALL ANSWERS on this quiz are my answers.\n",
    "> \n",
    "> &#9989; **<font color=red>DO THIS:</font>** Include your name in the line below to acknowledge the above statement:"
   ]
  },
  {
   "cell_type": "markdown",
   "metadata": {},
   "source": [
    "Justin Wijaya"
   ]
  },
  {
   "cell_type": "markdown",
   "metadata": {},
   "source": [
    "---\n",
    "\n",
    "# Yet Another Pi Code\n",
    "\n",
    "\n",
    "It turns out there are many different ways to approximate pi. We used one such method as an example in several classes. Here we will explore another example of computing pi. This version computes pi by simulating throwing darts at a 1x1 board (x: [0,1], y: [0,1]) and computing the fraction that falls on or within radius 1 of the origin. That fraction is then multiplied by 4 to estimate pi. \n",
    "\n",
    "While the version we explored in class was very good at finding a quality estimate with few iterations, this version is highly sensitive to the number of iterations and requires *many* iterations to arrive at a good estimate, therefore making it a good target for parallel computing. \n",
    "\n",
    "The serial version for the pi code in C is below\n",
    "\n",
    "```c\n",
    "#include \"stdio.h\"\n",
    "#include <math.h>\n",
    "#include <stdlib.h>\n",
    "static long num_steps = 10000000;\n",
    "double step;\n",
    "\n",
    "int main(){\n",
    "    double pi,sum;\n",
    "    int steps = num_steps;\n",
    "    sum=0.0;\n",
    "    unsigned int seed = 1;\n",
    "    for (int i=0;i<steps;i++) {\n",
    "        double val=sqrt((double) pow((double) rand_r(&seed)/ RAND_MAX,2.0)+ (double) pow((double) rand_r(&seed)/ RAND_MAX,2.0));\n",
    "        if (val<=1.0)\n",
    "                sum= sum+1.0;\n",
    "        }\n",
    "\n",
    "\n",
    "    pi = 4.0*sum/(double) num_steps;\n",
    "    printf(\"%f\\n\\n\",pi);\n",
    "}\n",
    "```"
   ]
  },
  {
   "cell_type": "markdown",
   "metadata": {},
   "source": [
    "&#9989; **<font color=red>Question 1</font>**: (10 points) First, log into a dev node on the HPCC. Copy the serial code into a C file and then compile and run the file to test it out. Write the code below that you used to compile and run the C code. "
   ]
  },
  {
   "cell_type": "markdown",
   "metadata": {},
   "source": [
    "gcc -lm pi_serial.c"
   ]
  },
  {
   "cell_type": "markdown",
   "metadata": {},
   "source": [
    "&#9989; **<font color=red>Question 2</font>**: (10 points) Now that you have the C code running on the HPCC, we want to get a baseline measure of performance. Run the code several times using the default `num_steps` and record the average runtime. Include both the average runtime and code used to measure the runtime below. "
   ]
  },
  {
   "cell_type": "code",
   "execution_count": 22,
   "metadata": {},
   "outputs": [
    {
     "data": {
      "text/plain": [
       "0.6017"
      ]
     },
     "execution_count": 22,
     "metadata": {},
     "output_type": "execute_result"
    }
   ],
   "source": [
    "import numpy as np\n",
    "times=[.611,.601,.598,.599,.601,.603,.600,.601,.602,.601]\n",
    "np.average(times)"
   ]
  },
  {
   "cell_type": "markdown",
   "metadata": {},
   "source": [
    "time ./a.out"
   ]
  },
  {
   "cell_type": "markdown",
   "metadata": {},
   "source": [
    "&#9989; **<font color=red>Question 3</font>**: (20 points) Now we want to parallelize the code using OpenMP. Copy the supplied serial code into a new C file and modify/optimize the code so that it can leverage multiple threads. Set the number of threads to 10. Paste your modified C code below. "
   ]
  },
  {
   "cell_type": "markdown",
   "metadata": {},
   "source": [
    "\n",
    "```C\n",
    "#include \"omp.h\"\n",
    "#include \"stdio.h\"\n",
    "#include <math.h>\n",
    "#include <stdlib.h>\n",
    "static long num_steps = 10000000;\n",
    "double step;\n",
    "int main(){\n",
    "    double pi,sum,val;\n",
    "    int steps = num_steps;\n",
    "    sum=0.0;\n",
    "    unsigned int seed = 1;\n",
    "    omp_set_num_threads(10);\n",
    "    #pragma omp parallel\n",
    "    {\n",
    "        #pragma omp for private(val) reduction(+:sum)\n",
    "        for (int i=0;i<steps;i++) {\n",
    "                val=sqrt((double) pow((double) rand_r(&seed)/ RAND_MAX,2.0)+ (double) pow((double) rand_r(&seed)/ RAND_MAX,2.0));\n",
    "                if (val<=1.0)\n",
    "                        sum= sum+1.0;\n",
    "                }\n",
    "    }\n",
    "\n",
    "    pi = 4.0*sum/(double) num_steps;\n",
    "    printf(\"%f\\n\\n\",pi);\n",
    "}\n",
    "```"
   ]
  },
  {
   "cell_type": "markdown",
   "metadata": {},
   "source": [
    "&#9989; **<font color=red>Question 4</font>**: (10 points) Now lets compile and run the new parallel version. Record the runtime several times to get an average runtime. Record the code used to compile and run your parallel code as well as the average runtime. "
   ]
  },
  {
   "cell_type": "markdown",
   "metadata": {},
   "source": [
    "gcc -lm -fopenmp pi_parallel.c"
   ]
  },
  {
   "cell_type": "code",
   "execution_count": 25,
   "metadata": {},
   "outputs": [
    {
     "data": {
      "text/plain": [
       "0.6111"
      ]
     },
     "execution_count": 25,
     "metadata": {},
     "output_type": "execute_result"
    }
   ],
   "source": [
    "times2 = [.649,.594,.573,.606,.623,.589,.610,.620,.625,.622]\n",
    "np.average(times2)"
   ]
  },
  {
   "cell_type": "markdown",
   "metadata": {},
   "source": [
    "&#9989; **<font color=red>Question 5</font>**: (10 points) Did your code run faster or slower than the serial version? If it ran faster, explain what design choices you made to ensure it would run faster. If it ran slower, explain why you think this is the case. "
   ]
  },
  {
   "cell_type": "markdown",
   "metadata": {},
   "source": [
    "My code ran slower than the serial version, possibly because the number of iterations was too low for parallelization to outperform serial computing."
   ]
  },
  {
   "cell_type": "markdown",
   "metadata": {},
   "source": [
    "&#9989; **<font color=red>Question 6</font>**: (10 points) Take note of the line `unsigned int seed = 1`. This line sets the seed needed for the random number generator. Play around with the placement of this line and record any differences in runtime performance and the quality of the pi estimate. Try the following\n",
    "    - place the line before the parallel region\n",
    "    - place the line inside the parallel region but not in the for loop\n",
    "    - place the line inside the for loop\n",
    "\n",
    "What did you notice when moving this line around? Explain why you think this behavior occured in the different cases. "
   ]
  },
  {
   "cell_type": "code",
   "execution_count": 28,
   "metadata": {},
   "outputs": [
    {
     "name": "stdout",
     "output_type": "stream",
     "text": [
      "0.06849999999999999 0.0605\n"
     ]
    }
   ],
   "source": [
    "times3 = [.072,.068,.067,.070,.067,.068,.067,.067,.067,.072]\n",
    "times4 = [.059,.060,.059,.062,.064,.062,.060,.061,.060,.058]\n",
    "print(np.average(times3),np.average(times4))"
   ]
  },
  {
   "cell_type": "markdown",
   "metadata": {},
   "source": [
    "Placing the line in the parallel section and before the for loop caused the code to run significantly faster, possibly because the code parallelizes the initialization of the seed's value. Placing it after the for loop also speeds up the code, but worsens the accuracy, possibly because the code has to initialize the seed's value with every iteration."
   ]
  },
  {
   "cell_type": "markdown",
   "metadata": {},
   "source": [
    "&#9989; **<font color=red>Question 7</font>**: (10 points) Finally, lets setup a SLURM submission script. In this job script, do the following:\n",
    "\n",
    "- set the allocated time to 5 minutes\n",
    "- set the number of nodes to 1\n",
    "- set the number of cores to 10\n",
    "- set the memory to 1 Gb\n",
    "- set the job name to CMSE401\n",
    "- finally, include the code used to run and benchmark both the parallel and serial pi code\n",
    "\n",
    "Once completed, copy and paste the contents of the submission script below. As well, submit the job and paste the code used to submit the job. "
   ]
  },
  {
   "cell_type": "markdown",
   "metadata": {},
   "source": [
    "\n",
    "```batch\n",
    "\n",
    "\n",
    "```"
   ]
  },
  {
   "cell_type": "markdown",
   "metadata": {},
   "source": [
    "```bash\n",
    "#!/bin/bash -login\n",
    "#SBATCH --time 00:05:00\n",
    "#SBATCH --nodes 1\n",
    "#SBATCH --cores 10\n",
    "#SBATCH --mem 1gb\n",
    "#SBATCH -J CMSE401\n",
    "\n",
    "gcc -lm pi_serial.c\n",
    "time ./a.out\n",
    "\n",
    "gcc -lm -fopenmp pi_parallel.c\n",
    "time ./a.out\n",
    "```"
   ]
  },
  {
   "cell_type": "markdown",
   "metadata": {},
   "source": [
    "```bash\n",
    "sbatch pi.sb\n",
    "```"
   ]
  },
  {
   "cell_type": "markdown",
   "metadata": {},
   "source": [
    "# Congratulations\n",
    "\n",
    "You are done with your quiz. Please save the file and upload the jupyter notebook and any other necessary files to the D2L dropbox. "
   ]
  },
  {
   "cell_type": "markdown",
   "metadata": {
    "nbgrader": {
     "grade": false,
     "grade_id": "cell-72afc771eda28306",
     "locked": true,
     "schema_version": 3,
     "solution": false,
     "task": false
    }
   },
   "source": [
    "Written by Dr. Nathan Haut, Michigan State University\n",
    "<a rel=\"license\" href=\"http://creativecommons.org/licenses/by-nc/4.0/\"><img alt=\"Creative Commons License\" style=\"border-width:0\" src=\"https://i.creativecommons.org/l/by-nc/4.0/88x31.png\" /></a><br />This work is licensed under a <a rel=\"license\" href=\"http://creativecommons.org/licenses/by-nc/4.0/\">Creative Commons Attribution-NonCommercial 4.0 International License</a>."
   ]
  },
  {
   "cell_type": "markdown",
   "metadata": {},
   "source": [
    "----"
   ]
  }
 ],
 "metadata": {
  "celltoolbar": "Create Assignment",
  "kernelspec": {
   "display_name": "Python [conda env:base] *",
   "language": "python",
   "name": "conda-base-py"
  },
  "language_info": {
   "codemirror_mode": {
    "name": "ipython",
    "version": 3
   },
   "file_extension": ".py",
   "mimetype": "text/x-python",
   "name": "python",
   "nbconvert_exporter": "python",
   "pygments_lexer": "ipython3",
   "version": "3.12.7"
  }
 },
 "nbformat": 4,
 "nbformat_minor": 4
}
