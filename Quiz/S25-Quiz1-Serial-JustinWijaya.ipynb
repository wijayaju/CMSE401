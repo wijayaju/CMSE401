{
 "cells": [
  {
   "cell_type": "markdown",
   "metadata": {},
   "source": [
    "----\n",
    "\n",
    "# CMSE401 Quiz Instructions\n",
    "\n",
    "This quiz is designed to take approximately 20 minutes to complete (you will be given the entire class period).  \n",
    "\n",
    "Please read the following instructions before starting the quiz.\n"
   ]
  },
  {
   "cell_type": "markdown",
   "metadata": {},
   "source": [
    "> This is an open Internet quiz.  Feel free to use anything on the Internet with one important exception...\n",
    "> \n",
    "> - **DO NOT** communicate live with other people or AI tools during the quiz (either verbally or on-line).  The goal here is to find answers to problems as you would in the real world and demonstrate your own ability to solve problems.  \n",
    "> \n",
    "> You will be given **until the end of class** to complete this quiz.  Use your time wisely. \n",
    "> \n",
    "> **HINTS:**\n",
    "> - Neatness and grammar is important.  We will ignore all notes or code we can not read or understand.\n",
    "> - Read the entire quiz from beginning to end before starting.  Not all questions are equal in **points vs. time** so plan your time accordingly. \n",
    "> - Spaces for answers are provided. Delete the prompting text such as \"Put your answer to the above question here\" and replace it with your answer. Do not leave the prompting text with your answer.\n",
    "> - Do not assume that the answer must be in the same format of the cell provided. Feel free to change the cell formatting (e.g., markdown to code, and vice versa) or add additional cells as needed to provide your answer.\n",
    "> - When a question asks for an answer \"**in your own words**\" it is still okay to search the Internet for the answer as a reminder. *However*, we would like you to do more than copy and paste.  Make the answer your own. \n",
    "> - If you get stuck, try not to leave an answer blank. It is better to include some notes or stub functions so we have an idea about your thinking process so we can give you partial credit.   \n",
    "> - Always provid links to any references you find helpful. \n",
    "> - Feel free to delete the provided check marks (&#9989;) as a way to keep track of which questions you have successfully completed. \n",
    "> - If for some reason the HPCC is down or busy and you can't access it for the quiz, answer the questions using your personal computer as if you were able to access the HPCC. "
   ]
  },
  {
   "cell_type": "markdown",
   "metadata": {},
   "source": [
    "> **Honor Code**\n",
    "> \n",
    "> I, agree to neither give nor receive any help on this quiz from other people.  I also understand that providing answers to questions on this quiz to other students is also an academic misconduct violation as is live communication or receiving answers to questions on this quiz from other people. It is important to me to be a person of integrity and that means that ALL ANSWERS on this quiz are my answers.\n",
    "> \n",
    "> &#9989; **<font color=red>DO THIS:</font>** Include your name in the line below to acknowledge the above statement:"
   ]
  },
  {
   "cell_type": "markdown",
   "metadata": {},
   "source": [
    "Justin Wijaya"
   ]
  },
  {
   "cell_type": "markdown",
   "metadata": {},
   "source": [
    "---\n",
    "\n",
    "# Evolutionary Computation via Genetic Programming\n",
    "\n",
    "\n",
    "StackGP is an evolutionary computation software package for performing symbolic regression via stack-based genetic programming.  This is a package that I've developed as part of my research. For this quiz you will explore how to run a StackGP evolutionary search on the HPCC. The code in Evolve.py will attempt to rediscover the equation $x0*x1*sin(x2)$ using 100 randomly generated data points.  "
   ]
  },
  {
   "cell_type": "markdown",
   "metadata": {},
   "source": [
    "&#9989; **<font color=red>Question 1</font>**: (10 points) First, log into a dev node on the HPCC. Now we need to load the Conda module. Write the command below that you used to find the Conda modules on the HPCC. Once you find the available modules, load in the first Conda module that shows up and write the code to load the module below. "
   ]
  },
  {
   "cell_type": "markdown",
   "metadata": {},
   "source": [
    "module spider conda\n",
    "\n",
    "module load Miniforge3\n",
    "\n",
    "https://docs.icer.msu.edu/Using_conda/#appendix-installing-miniforge-manually-advanced-option\n",
    "says to use Miniforge3 instead of Conda/3 on the HPCC."
   ]
  },
  {
   "cell_type": "markdown",
   "metadata": {},
   "source": [
    "&#9989; **<font color=red>Question 2</font>**: (10 points) Now that you have Conda loaded in we need to install some Python packages. Fortunately, there is a file called \"installPackages.sh\" that will do this for us. Unfortunately though, the file is not currently executable. Make this file executable and then run it to install needed packages. Include the code below that you used to make the file executable as well as the code used to run the \"installPackages.sh\" file. "
   ]
  },
  {
   "cell_type": "markdown",
   "metadata": {},
   "source": [
    "#!/bin/bash\n",
    "pip install --user numpy\n",
    "pip install --user scipy\n",
    "pip install --user matplotlib\n",
    "pip install --user dill\n",
    "pip install --user scikit-learn\n",
    "pip install --user sympy\n",
    "\n",
    "bash installPackages.sh"
   ]
  },
  {
   "cell_type": "markdown",
   "metadata": {},
   "source": [
    "&#9989; **<font color=red>Question 3</font>**: (10 points) Now we want to benchmark the code. Use a command we learned in this class to measure the runtime when running the \"Evolve.py\" file. Write the command used to record the runtime below and then record the total runtime of the code. "
   ]
  },
  {
   "cell_type": "markdown",
   "metadata": {},
   "source": [
    "time\n",
    "\n",
    "Runtime in seconds: _Put runtime here_"
   ]
  },
  {
   "cell_type": "markdown",
   "metadata": {},
   "source": [
    "&#9989; **<font color=red>Question 4</font>**: (20 points) Now that we have benchmarked the code, let's setup a SLURM submission script. A template file has been supplied called \"jobScript.sb\" to use as a starting point. In this job script, do the following:\n",
    "\n",
    "- set the allocated time to 10 minutes\n",
    "- set the number of nodes and cores to 1\n",
    "- set the memory to 1 Gb\n",
    "- set the job name to CMSE401\n",
    "- load in the Conda module\n",
    "- finally, include the code used to run and benchmark the \"Evolve.py\" file\n",
    "\n",
    "Once completed, copy and paste the contents of the submission script below. "
   ]
  },
  {
   "cell_type": "markdown",
   "metadata": {},
   "source": [
    "_Paste your submission script contents here_"
   ]
  },
  {
   "cell_type": "markdown",
   "metadata": {},
   "source": [
    "&#9989; **<font color=red>Question 5</font>**: (10 points) Now we will create a new bash script that will submit several jobs at once. In this new bash script, write a for loop that loops over and runs the \"jobScript.sb\" file 4 times. Copy and paste the contents of the script below. "
   ]
  },
  {
   "cell_type": "markdown",
   "metadata": {},
   "source": [
    "_Paste script contents here_"
   ]
  },
  {
   "cell_type": "markdown",
   "metadata": {},
   "source": [
    "&#9989; **<font color=red>Question 6</font>**: (10 points) Run the script in the previous question. You should now have several jobs running on the HPCC. \n",
    "\n",
    "- What code would you use to get all active jobs that have the job name \"CMSE401\" (copy and paste the code used below)? \n",
    "- Now modify that code slightly to pipe the results into a line counter to count the total number of jobs running with the name \"CMSE401\" (also add the modified code below).  \n",
    "- How many jobs are running with the name \"CMSE401\"?"
   ]
  },
  {
   "cell_type": "markdown",
   "metadata": {},
   "source": [
    "_Record your answers below_\n",
    "- Code to get all active \"CMSE401\" jobs: _code_\n",
    "- Code to get number of jobs: _code_\n",
    "- Number of jobs: _number_"
   ]
  },
  {
   "cell_type": "markdown",
   "metadata": {},
   "source": [
    "&#9989; **<font color=red>Question 7</font>**: (10 points) Once your jobs in the previous question have completed, access the output files and record the 4 runtimes. Were they similar or different? Explain why you think this might be the case (I'm just looking for a plausible answer, you aren't expected to understand the full \"Evolve.py\" code). "
   ]
  },
  {
   "cell_type": "markdown",
   "metadata": {},
   "source": [
    "_Record your runtimes and resoning here_"
   ]
  },
  {
   "cell_type": "markdown",
   "metadata": {},
   "source": [
    "# Congratulations\n",
    "\n",
    "You are done with your quiz. Please save the file and upload the jupyter notebook and any other necessary files to the D2L dropbox. "
   ]
  },
  {
   "cell_type": "markdown",
   "metadata": {
    "nbgrader": {
     "grade": false,
     "grade_id": "cell-72afc771eda28306",
     "locked": true,
     "schema_version": 3,
     "solution": false,
     "task": false
    }
   },
   "source": [
    "Written by Dr. Nathan Haut, Michigan State University\n",
    "<a rel=\"license\" href=\"http://creativecommons.org/licenses/by-nc/4.0/\"><img alt=\"Creative Commons License\" style=\"border-width:0\" src=\"https://i.creativecommons.org/l/by-nc/4.0/88x31.png\" /></a><br />This work is licensed under a <a rel=\"license\" href=\"http://creativecommons.org/licenses/by-nc/4.0/\">Creative Commons Attribution-NonCommercial 4.0 International License</a>."
   ]
  },
  {
   "cell_type": "markdown",
   "metadata": {},
   "source": [
    "----"
   ]
  }
 ],
 "metadata": {
  "celltoolbar": "Create Assignment",
  "kernelspec": {
   "display_name": "Python [conda env:base] *",
   "language": "python",
   "name": "conda-base-py"
  },
  "language_info": {
   "codemirror_mode": {
    "name": "ipython",
    "version": 3
   },
   "file_extension": ".py",
   "mimetype": "text/x-python",
   "name": "python",
   "nbconvert_exporter": "python",
   "pygments_lexer": "ipython3",
   "version": "3.12.7"
  }
 },
 "nbformat": 4,
 "nbformat_minor": 4
}
