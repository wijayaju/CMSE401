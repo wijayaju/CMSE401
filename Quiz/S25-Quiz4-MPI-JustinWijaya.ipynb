{
 "cells": [
  {
   "cell_type": "markdown",
   "metadata": {},
   "source": [
    "----\n",
    "\n",
    "# CMSE401 Quiz Instructions\n",
    "\n",
    "This quiz is designed to take approximately 30 minutes to complete (you will be given the entire class period).  \n",
    "\n",
    "Please read the following instructions before starting the quiz.\n"
   ]
  },
  {
   "cell_type": "markdown",
   "metadata": {},
   "source": [
    "> This is an open Internet quiz.  Feel free to use anything on the Internet with one important exception...\n",
    "> \n",
    "> - **DO NOT** communicate live with other people or AI tools during the quiz (either verbally or online).  The goal here is to find answers to problems as you would in the real world and demonstrate your own ability to solve problems.  \n",
    "> \n",
    "> You will be given **until the end of class** to complete this quiz.  Use your time wisely. \n",
    "> \n",
    "> **HINTS:**\n",
    "> - Neatness and grammar are important.  We will ignore all notes or code we can not read or understand.\n",
    "> - Read the entire quiz from beginning to end before starting.  Not all questions are equal in **points vs. time** so plan your time accordingly. \n",
    "> - Spaces for answers are provided. Delete the prompting text such as \"Put your answer to the above question here\" and replace it with your answer. Do not leave the prompting text with your answer.\n",
    "> - Do not assume that the answer must be in the same format of the cell provided. Feel free to change the cell formatting (e.g., markdown to code, and vice versa) or add additional cells as needed to provide your answer.\n",
    "> - When a question asks for an answer \"**in your own words**\" it is still okay to search the Internet for the answer as a reminder. *However*, we would like you to do more than cut and paste.  Make the answer your own. \n",
    "> - If you get stuck, try not to leave an answer blank. It is better to include some notes or stub functions so we have an idea about your thinking process so we can give you partial credit.   \n",
    "> - Always provid links to any references you find helpful. \n",
    "> - Feel free to delete the provided check marks (&#9989;) as a way to keep track of which questions you have successfully completed. "
   ]
  },
  {
   "cell_type": "markdown",
   "metadata": {},
   "source": [
    "> **Honor Code**\n",
    "> \n",
    "> I, agree to neither give nor receive any help on this quiz from other people.  I also understand that providing answers to questions on this quiz to other students is also an academic misconduct violation as is live communication or receiving answers to questions on this quiz from other people. It is important to me to be a person of integrity and that means that ALL ANSWERS on this quiz are my answers.\n",
    "> \n",
    "> &#9989; **<font color=red>DO THIS:</font>** Include your name in the line below to acknowledge the above statement:"
   ]
  },
  {
   "cell_type": "markdown",
   "metadata": {},
   "source": [
    "Justin Wijaya"
   ]
  },
  {
   "cell_type": "markdown",
   "metadata": {},
   "source": [
    "---\n",
    "\n",
    "# Simple MPI Code\n",
    "\n",
    "The following MPI code is intended to send messages between two MPI threads, BUT there is a bug with this code that you will need to explain and fix. \n",
    "\n",
    "```c\n",
    "#include <stdio.h>\n",
    "#include <mpi.h>\n",
    "\n",
    "int main(int argc, char **argv) {\n",
    "    int rank, size;\n",
    "    int msg1;\n",
    "    int msg2;\n",
    "    MPI_Status status;\n",
    "\n",
    "    MPI_Init(&argc, &argv);\n",
    "    MPI_Comm_rank(MPI_COMM_WORLD, &rank);\n",
    "    MPI_Comm_size(MPI_COMM_WORLD, &size);\n",
    "\n",
    "\n",
    "    if (rank == 0) {\n",
    "        msg1=rank;\n",
    "        MPI_Recv(&msg2, 1, MPI_INT, 1, 0, MPI_COMM_WORLD, &status);\n",
    "        MPI_Send(&msg1, 1, MPI_INT, 1, 0, MPI_COMM_WORLD);\n",
    "    } else if (rank == 1) {\n",
    "        msg2=rank;\n",
    "        MPI_Recv(&msg1, 1, MPI_INT, 0, 0, MPI_COMM_WORLD, &status);\n",
    "        MPI_Send(&msg2, 1, MPI_INT, 0, 0, MPI_COMM_WORLD);\n",
    "    }\n",
    "    if (rank == 0){\n",
    "        printf(\"I am rank %d and received: %d \\n\",rank, msg2);\n",
    "    } else if (rank == 1){\n",
    "        printf(\"I am rank %d and received: %d \\n\",rank, msg1);\n",
    "    }\n",
    "    MPI_Finalize();\n",
    "    return 0;\n",
    "}\n",
    "\n",
    "```"
   ]
  },
  {
   "cell_type": "markdown",
   "metadata": {},
   "source": [
    "&#9989; **<font color=red>Question 1</font>**: (10 points) First, log into a dev node on the HPCC. Copy the buggy code into a C file and then compile and run the code, using number of threads = 2, to test it out. Write the code below that you used to compile and run the C code and then explain what you observed when trying to run it. Note: Feel free to run the code from a submission script if you are not comfortable with how to request multiple processes when launching an MPI job from the command line. If using a submission script, paste the contents here.  "
   ]
  },
  {
   "cell_type": "markdown",
   "metadata": {},
   "source": [
    "```c\n",
    "mpicc msg_mpi.c  // to compile\n",
    "sbatch msg_mpi.sb  // to run\n",
    "```\n",
    "submission script:\n",
    "```bash\n",
    "#!/bin/bash --login\n",
    "#SBATCH --time=00:01:00\n",
    "#SBATCH -c 2\n",
    "#SBATCH -N 10\n",
    "#SBATCH --mem=40gb\n",
    "module purge\n",
    "module load OpenMPI\n",
    "mpicc msg_mpi.c\n",
    "mpirun ./a.out\n",
    "```"
   ]
  },
  {
   "cell_type": "markdown",
   "metadata": {},
   "source": [
    "&#9989; **<font color=red>Question 2</font>**: (10 points) Now that you have tested the code, explain here what is wrong with the code and why. "
   ]
  },
  {
   "cell_type": "markdown",
   "metadata": {},
   "source": [
    "Both ranks are waiting to receive a message from each other, thus nothing is printed. This is known as deadlock. (Sometimes I keep getting this annoying warning message recently about the powertools module which is what shows up in the slurm file, so please ignore that)."
   ]
  },
  {
   "cell_type": "markdown",
   "metadata": {},
   "source": [
    "&#9989; **<font color=red>Question 3</font>**: (20 points) Now we want to fix the bug in the code. Modify the supplied code to fix the bug and then paste the fixed version here. \n"
   ]
  },
  {
   "cell_type": "markdown",
   "metadata": {},
   "source": [
    "\n",
    "```c\n",
    "#include <stdio.h>\n",
    "#include <mpi.h>\n",
    "\n",
    "void checkError(int comm, int rank)\n",
    "{\n",
    "    if (comm != MPI_SUCCESS)\n",
    "    {\n",
    "        char error_string[MPI_MAX_ERROR_STRING];\n",
    "        int length_of_error_string;\n",
    "        MPI_Error_string(comm, error_string, &length_of_error_string);\n",
    "        printf(\"Rank %d: Caught MPI error: %s\\n\", rank, error_string);\n",
    "    }\n",
    "}\n",
    "\n",
    "int main(int argc, char **argv) {\n",
    "    int rank, size, err_code;\n",
    "    int msg1;\n",
    "    int msg2;\n",
    "    MPI_Status status;\n",
    "\n",
    "    MPI_Init(&argc, &argv);\n",
    "    MPI_Comm_rank(MPI_COMM_WORLD, &rank);\n",
    "    MPI_Comm_size(MPI_COMM_WORLD, &size);\n",
    "\n",
    "    MPI_Comm_set_errhandler(MPI_COMM_WORLD, MPI_ERRORS_RETURN);\n",
    "    if (rank == 0) {\n",
    "        msg1=rank;\n",
    "        err_code=MPI_Send(&msg1, 1, MPI_INT, 1, 0, MPI_COMM_WORLD);\n",
    "        checkError(err_code, rank);\n",
    "        err_code=MPI_Recv(&msg2, 1, MPI_INT, 1, 0, MPI_COMM_WORLD, &status);\n",
    "        checkError(err_code, rank);\n",
    "    } else if (rank == 1) {\n",
    "        msg2=rank;\n",
    "\n",
    "        err_code=MPI_Send(&msg2, 1, MPI_INT, 0, 0, MPI_COMM_WORLD);\n",
    "        checkError(err_code, rank);\n",
    "        err_code=MPI_Recv(&msg1, 1, MPI_INT, 0, 0, MPI_COMM_WORLD, &status);\n",
    "        checkError(err_code, rank);\n",
    "    }\n",
    "    if (rank == 0){\n",
    "        printf(\"I am rank %d and received: %d \\n\",rank, msg2);\n",
    "    } else if (rank == 1){\n",
    "        printf(\"I am rank %d and received: %d \\n\",rank, msg1);\n",
    "    }\n",
    "    MPI_Finalize();\n",
    "    return 0;\n",
    "}\n",
    "```"
   ]
  },
  {
   "cell_type": "markdown",
   "metadata": {},
   "source": [
    "&#9989; **<font color=red>Question 4</font>**: (20 points) Now lets update the code to use a third process. Update the fixed code so that rank 0 sends a message to rank 1, rank 1 sends a message to rank 2, and rank 2 sends a message to rank 0. Once the communication is complete, have each rank print out the message it recieved along with its own rank ID. Confirm the code works and paste the output along with the code below. "
   ]
  },
  {
   "cell_type": "markdown",
   "metadata": {},
   "source": [
    "\n",
    "```c\n",
    "#include <stdio.h>\n",
    "#include <mpi.h>\n",
    "\n",
    "void checkError(int comm, int rank)\n",
    "{\n",
    "    if (comm != MPI_SUCCESS)\n",
    "    {\n",
    "        char error_string[MPI_MAX_ERROR_STRING];\n",
    "        int length_of_error_string;\n",
    "        MPI_Error_string(comm, error_string, &length_of_error_string);\n",
    "        printf(\"Rank %d: Caught MPI error: %s\\n\", rank, error_string);\n",
    "    }\n",
    "}\n",
    "\n",
    "int main(int argc, char **argv) {\n",
    "    int rank, size, err_code;\n",
    "    int msg1;\n",
    "    int msg2;\n",
    "    int msg3;\n",
    "    MPI_Status status;\n",
    "\n",
    "    MPI_Init(&argc, &argv);\n",
    "    MPI_Comm_rank(MPI_COMM_WORLD, &rank);\n",
    "    MPI_Comm_size(MPI_COMM_WORLD, &size);\n",
    "\n",
    "    MPI_Comm_set_errhandler(MPI_COMM_WORLD, MPI_ERRORS_RETURN);\n",
    "    if (rank == 0) {\n",
    "        msg1=rank;\n",
    "        err_code=MPI_Send(&msg1, 1, MPI_INT, 1, 0, MPI_COMM_WORLD);\n",
    "        checkError(err_code, rank);\n",
    "        err_code=MPI_Recv(&msg3, 1, MPI_INT, 2, 0, MPI_COMM_WORLD, &status);\n",
    "        checkError(err_code, rank);\n",
    "    } else if (rank == 1) {\n",
    "        msg2=rank;\n",
    "\n",
    "        err_code=MPI_Send(&msg2, 1, MPI_INT, 2, 0, MPI_COMM_WORLD);\n",
    "        checkError(err_code, rank);\n",
    "        err_code=MPI_Recv(&msg1, 1, MPI_INT, 0, 0, MPI_COMM_WORLD, &status);\n",
    "        checkError(err_code, rank);\n",
    "    } else if (rank == 2){\n",
    "        msg3=rank;\n",
    "\n",
    "        err_code=MPI_Send(&msg3, 1, MPI_INT, 0, 0, MPI_COMM_WORLD);\n",
    "        checkError(err_code, rank);\n",
    "        err_code=MPI_Recv(&msg2, 1, MPI_INT, 1, 0, MPI_COMM_WORLD, &status);\n",
    "        checkError(err_code, rank);\n",
    "    }\n",
    "    if (rank == 0){\n",
    "        printf(\"I am rank %d and received: %d \\n\",rank, msg3);\n",
    "    } else if (rank == 1){\n",
    "        printf(\"I am rank %d and received: %d \\n\",rank, msg1);\n",
    "    } else if (rank == 2){\n",
    "        printf(\"I am rank %d and received: %d \\n\",rank, msg2);\n",
    "    }\n",
    "    MPI_Finalize();\n",
    "    return 0;\n",
    "}\n",
    "\n",
    "```\n",
    "I am rank 0 and received: 2 \n",
    "\n",
    "I am rank 1 and received: 0\n",
    "\n",
    "I am rank 2 and received: 1 "
   ]
  },
  {
   "cell_type": "markdown",
   "metadata": {},
   "source": [
    "&#9989; **<font color=red>Question 5</font>**: (10 points) Explain what the default error handling approach is in MPI and then explain why someone might want to change to a different error hanlding strategy. "
   ]
  },
  {
   "cell_type": "markdown",
   "metadata": {},
   "source": [
    "The default error handling approach is to terminate the process once encounterd. Someone might want to change that in order to figure out what the error is so that they can attempt to fix their code."
   ]
  },
  {
   "cell_type": "markdown",
   "metadata": {},
   "source": [
    "# Congratulations\n",
    "\n",
    "You are done with your quiz. Please save the file and upload the jupyter notebook and any other necessary files to the D2L dropbox. "
   ]
  },
  {
   "cell_type": "markdown",
   "metadata": {
    "nbgrader": {
     "grade": false,
     "grade_id": "cell-72afc771eda28306",
     "locked": true,
     "schema_version": 3,
     "solution": false,
     "task": false
    }
   },
   "source": [
    "Written by Dr. Nathan Haut, Michigan State University\n",
    "<a rel=\"license\" href=\"http://creativecommons.org/licenses/by-nc/4.0/\"><img alt=\"Creative Commons License\" style=\"border-width:0\" src=\"https://i.creativecommons.org/l/by-nc/4.0/88x31.png\" /></a><br />This work is licensed under a <a rel=\"license\" href=\"http://creativecommons.org/licenses/by-nc/4.0/\">Creative Commons Attribution-NonCommercial 4.0 International License</a>."
   ]
  },
  {
   "cell_type": "markdown",
   "metadata": {},
   "source": [
    "----"
   ]
  }
 ],
 "metadata": {
  "celltoolbar": "Create Assignment",
  "kernelspec": {
   "display_name": "Python [conda env:base] *",
   "language": "python",
   "name": "conda-base-py"
  },
  "language_info": {
   "codemirror_mode": {
    "name": "ipython",
    "version": 3
   },
   "file_extension": ".py",
   "mimetype": "text/x-python",
   "name": "python",
   "nbconvert_exporter": "python",
   "pygments_lexer": "ipython3",
   "version": "3.12.7"
  }
 },
 "nbformat": 4,
 "nbformat_minor": 4
}
