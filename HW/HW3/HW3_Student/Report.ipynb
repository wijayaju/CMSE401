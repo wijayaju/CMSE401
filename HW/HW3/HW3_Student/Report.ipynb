{
 "cells": [
  {
   "cell_type": "markdown",
   "metadata": {},
   "source": [
    "# Results From Conway Game of Life Simulations using CUDA\n",
    "\n",
    "\n",
    "By: Justin Wijaya"
   ]
  },
  {
   "cell_type": "markdown",
   "metadata": {},
   "source": [
    "## Directions for your instructor\n",
    "\n",
    "Include detailed instructions for compiling and reproducing the results you have in this report.  Automate as much of the steps as possible to help speed up grading.\n",
    "\n",
    "\n",
    "A good idea is to show your specific commands here in the jupyter notebook.  Use the exclamation point (!) to run bash commands inside of jupyter. For example:"
   ]
  },
  {
   "cell_type": "code",
   "execution_count": null,
   "metadata": {},
   "outputs": [],
   "source": [
    "!make"
   ]
  },
  {
   "cell_type": "markdown",
   "metadata": {},
   "source": [
    "## Serial Experiment\n",
    "\n",
    "I compiled the serial code on amd20-v100 using the following commands:\n",
    "\n",
    "```\n",
    "!gcc -lm -lpng16 -c gameoflife.c\n",
    "!gcc -lm -lpng16 -c png_util.c\n",
    "!gcc -lm -lpng16 -o gol gameoflife.o png_util.o\n",
    "```"
   ]
  },
  {
   "cell_type": "markdown",
   "metadata": {},
   "source": [
    "I ran the code 3 times with \n",
    "```\n",
    "!time echo \"0 10\" | ./gol\n",
    "```\n",
    "and obtained the following results"
   ]
  },
  {
   "cell_type": "markdown",
   "metadata": {},
   "source": [
    "Put your results here\n",
    "\n",
    "1m31.231s\n",
    "1m31.293s\n",
    "1m31.844s"
   ]
  },
  {
   "cell_type": "markdown",
   "metadata": {},
   "source": [
    "## Compiler Optimization\n",
    "\n",
    "Describe changes you made to the code compiler to try and make it go faster\n",
    "\n",
    "* Idea 1\n",
    "* Idea 2\n",
    "* etc...\n",
    "\n",
    "Show your timing results as either a table or a graph."
   ]
  },
  {
   "cell_type": "markdown",
   "metadata": {},
   "source": [
    "## CUDA Speedup\n",
    "\n",
    "Describe what you did to speed up your code using CUDA\n",
    "\n",
    "* Idea 1\n",
    "* Idea 2\n",
    "* etc...\n",
    "\n",
    "Show your timing results as either a table or a graph."
   ]
  },
  {
   "cell_type": "markdown",
   "metadata": {},
   "source": [
    "## Concluding Discussion\n",
    "\n",
    "Describe what you learned during this process, what worked, what didn't work, where did you have trouble and what you learned"
   ]
  },
  {
   "cell_type": "markdown",
   "metadata": {},
   "source": [
    "----"
   ]
  }
 ],
 "metadata": {
  "kernelspec": {
   "display_name": "Python [conda env:base] *",
   "language": "python",
   "name": "conda-base-py"
  },
  "language_info": {
   "codemirror_mode": {
    "name": "ipython",
    "version": 3
   },
   "file_extension": ".py",
   "mimetype": "text/x-python",
   "name": "python",
   "nbconvert_exporter": "python",
   "pygments_lexer": "ipython3",
   "version": "3.12.7"
  }
 },
 "nbformat": 4,
 "nbformat_minor": 4
}
