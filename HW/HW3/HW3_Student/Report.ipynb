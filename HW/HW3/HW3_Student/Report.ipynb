{
 "cells": [
  {
   "cell_type": "markdown",
   "metadata": {},
   "source": [
    "# Results From Conway Game of Life Simulations using CUDA\n",
    "\n",
    "\n",
    "By: Justin Wijaya"
   ]
  },
  {
   "cell_type": "markdown",
   "metadata": {},
   "source": [
    "## Directions for your instructor\n",
    "\n",
    "Include detailed instructions for compiling and reproducing the results you have in this report.  Automate as much of the steps as possible to help speed up grading.\n",
    "\n",
    "\n",
    "A good idea is to show your specific commands here in the jupyter notebook.  Use the exclamation point (!) to run bash commands inside of jupyter. For example:"
   ]
  },
  {
   "cell_type": "code",
   "execution_count": null,
   "metadata": {},
   "outputs": [],
   "source": [
    "!make"
   ]
  },
  {
   "cell_type": "markdown",
   "metadata": {},
   "source": [
    "## Serial Experiment\n",
    "\n",
    "I compiled the serial code on amd20-v100 using the following commands:\n",
    "\n",
    "```\n",
    "!gcc -lm -lpng16 -c gameoflife.c\n",
    "!gcc -lm -lpng16 -c png_util.c\n",
    "!gcc -lm -lpng16 -o gol gameoflife.o png_util.o\n",
    "```\n",
    "This process is simplified by using the premade makefile:\n",
    "```\n",
    "!make\n",
    "```"
   ]
  },
  {
   "cell_type": "markdown",
   "metadata": {},
   "source": [
    "I ran the code 3 times with \n",
    "```\n",
    "!echo \"0 5\" | time ./gol\n",
    "```\n",
    "Which is simplified by using the makefile test3:\n",
    "```\n",
    "!make test3\n",
    "```\n",
    "(note that this tests all 3 versions once)\n",
    "\n",
    "and obtained the following results"
   ]
  },
  {
   "cell_type": "code",
   "execution_count": 2,
   "metadata": {},
   "outputs": [
    {
     "ename": "ModuleNotFoundError",
     "evalue": "No module named 'matplotlib'",
     "output_type": "error",
     "traceback": [
      "\u001b[0;31m---------------------------------------------------------------------------\u001b[0m",
      "\u001b[0;31mModuleNotFoundError\u001b[0m                       Traceback (most recent call last)",
      "Cell \u001b[0;32mIn[2], line 2\u001b[0m\n\u001b[1;32m      1\u001b[0m \u001b[38;5;28;01mimport\u001b[39;00m \u001b[38;5;21;01mnumpy\u001b[39;00m \u001b[38;5;28;01mas\u001b[39;00m \u001b[38;5;21;01mnp\u001b[39;00m\n\u001b[0;32m----> 2\u001b[0m \u001b[38;5;28;01mimport\u001b[39;00m \u001b[38;5;21;01mmatplotlib\u001b[39;00m\u001b[38;5;21;01m.\u001b[39;00m\u001b[38;5;21;01mpyplot\u001b[39;00m \u001b[38;5;28;01mas\u001b[39;00m \u001b[38;5;21;01mplt\u001b[39;00m\n\u001b[1;32m      3\u001b[0m get_ipython()\u001b[38;5;241m.\u001b[39mrun_line_magic(\u001b[38;5;124m'\u001b[39m\u001b[38;5;124minline\u001b[39m\u001b[38;5;124m'\u001b[39m, \u001b[38;5;124m'\u001b[39m\u001b[38;5;124mmatplotlib\u001b[39m\u001b[38;5;124m'\u001b[39m)\n\u001b[1;32m      4\u001b[0m tests \u001b[38;5;241m=\u001b[39m [\u001b[38;5;241m1\u001b[39m,\u001b[38;5;241m2\u001b[39m,\u001b[38;5;241m3\u001b[39m]\n",
      "\u001b[0;31mModuleNotFoundError\u001b[0m: No module named 'matplotlib'"
     ]
    }
   ],
   "source": [
    "import numpy as np\n",
    "import matplotlib.pyplot as plt\n",
    "%inline matplotlib\n",
    "tests = [1,2,3]\n",
    "times1 = [63.11,62.34,62.66]\n",
    "plt.hist(times1)\n",
    "plt.title(\"Serial Run\")\n",
    "plt.xlabel(\"Time (seconds)\")\n",
    "plt.ylabel(\"Frequency\")\n",
    "plt.show()\n",
    "print(\"Serial code average runtime:\",np.average(times1),\"seconds\")"
   ]
  },
  {
   "cell_type": "code",
   "execution_count": null,
   "metadata": {},
   "outputs": [],
   "source": [
    "plt.scatter(tests,times1,color=\"red\",label=\"Data\")\n",
    "plt.axhline(np.average(times1),color=\"red\",label=\"Average Runtime\")\n",
    "plt.xlabel(\"Test\")\n",
    "plt.ylabel(\"Time (seconds)\")\n",
    "plt.title(\"Serial Run\")\n",
    "plt.legend()\n",
    "plt.show()"
   ]
  },
  {
   "cell_type": "markdown",
   "metadata": {},
   "source": [
    "## Compiler Optimization\n",
    "\n",
    "Describe changes you made to the code compiler to try and make it go faster\n",
    "\n",
    "* Compile using a different compiler option.\n",
    "* Use 2 arrays instead of an array of 2 arrays to represent plate the input and output plates.\n",
    "\n",
    "Show your timing results as either a table or a graph."
   ]
  },
  {
   "cell_type": "code",
   "execution_count": null,
   "metadata": {},
   "outputs": [],
   "source": [
    "times2 = [39.31,39.12,39.17]\n",
    "plt.hist(times2)\n",
    "plt.title(\"Optimized Serial Run\")\n",
    "plt.xlabel(\"Time (seconds)\")\n",
    "plt.ylabel(\"Frequency\")\n",
    "plt.show()\n",
    "print(\"Optimized serial code average runtime:\",np.average(times2),\"seconds\")"
   ]
  },
  {
   "cell_type": "code",
   "execution_count": null,
   "metadata": {},
   "outputs": [],
   "source": [
    "plt.scatter(tests,times1,color=\"red\",label=\"Serial Data\")\n",
    "plt.scatter(tests,times2,color=\"purple\",label=\"Optimized Serial Data\")\n",
    "plt.axhline(np.average(times1),color=\"red\",label=\"Serial Average Runtime\")\n",
    "plt.axhline(np.average(times2),color=\"purple\",label=\"Optimized Serial Average Runtime\")\n",
    "plt.xlabel(\"Test\")\n",
    "plt.ylabel(\"Time (seconds)\")\n",
    "plt.title(\"Optimization of Serial Run vs No Optimization\")\n",
    "plt.legend()\n",
    "plt.show()"
   ]
  },
  {
   "cell_type": "markdown",
   "metadata": {},
   "source": [
    "## CUDA Speedup\n",
    "\n",
    "Describe what you did to speed up your code using CUDA\n",
    "\n",
    "* CUDA-fy the iteration function as it is the only function to actually update the values in the plate.\n",
    "* Implement live function into kernel to utilize the threads already initialized within the kernel for its computation.\n",
    "\n",
    "Show your timing results as either a table or a graph."
   ]
  },
  {
   "cell_type": "code",
   "execution_count": null,
   "metadata": {},
   "outputs": [],
   "source": [
    "times3 = [28.45,28.62,26.70]\n",
    "plt.hist(times3)\n",
    "plt.title(\"CUDA Run\")\n",
    "plt.show()"
   ]
  },
  {
   "cell_type": "code",
   "execution_count": null,
   "metadata": {},
   "outputs": [],
   "source": [
    "plt.scatter(tests,times1,color=\"red\",label=\"Serial Data\")\n",
    "plt.axhline(np.average(times1),color=\"red\",label=\"Serial Average Runtime\")\n",
    "plt.scatter(tests,times23,color=\"purple\",label=\"Optimized Serial Data\")\n",
    "plt.axhline(np.average(times23),color=\"purple\",label=\"Optimized Serial Average Runtime\")\n",
    "plt.scatter(tests,times3,color=\"green\",label=\"CUDA Data\")\n",
    "plt.axhline(np.average(times3),color=\"green\",label=\"CUDA Average Runtime\")\n",
    "plt.xlabel(\"Test\")\n",
    "plt.ylabel(\"Time (seconds)\")\n",
    "plt.title(\"CUDA vs Serial Run\")\n",
    "plt.legend()\n",
    "plt.show()\n",
    "print(\"CUDA code average runtime:\",np.average(times3),\"seconds\")"
   ]
  },
  {
   "cell_type": "markdown",
   "metadata": {},
   "source": [
    "## Concluding Discussion\n",
    "\n",
    "Describe what you learned during this process, what worked, what didn't work, where did you have trouble and what you learned"
   ]
  },
  {
   "cell_type": "markdown",
   "metadata": {},
   "source": [
    "- I learned that sometimes breaking down a complex structure into its more basic components can help in the speedup of code. I also learned that CUDA-fying serial code is a very painful process as there's so much to consider.\n",
    "- What worked was breaking down the 2D array into 2 1D arrays to represent the input and output plates. That made CUDA-fying a lot easier.\n",
    "- What didn't work was stubbornly trying to maintain the 2D array structure throughout the CUDA code.\n",
    "- I had trouble with the submission script because it was killing the process. I learned that I had gave it too little memory, so once I upgraded the amount requested by the script, it produced the correct output."
   ]
  },
  {
   "cell_type": "markdown",
   "metadata": {},
   "source": [
    "----"
   ]
  },
  {
   "cell_type": "markdown",
   "metadata": {},
   "source": [
    "In the folder, the outputs for these programs are .png files. The files have the naming scheme:\n",
    "- plate[]{}.png\n",
    "    - [] represents the specific version used to create the image. 0 is serial, 1 is optimized serial, and 2 is CUDA version.\n",
    "    - {} represents the test ran to create the image. 1 means that it was created through the ./gol < data.txt method, 3 means that it was created through the echo \"0 5\" | ./gol method.\n",
    "        - 3 is a sample output as the method involves randomization."
   ]
  },
  {
   "cell_type": "code",
   "execution_count": null,
   "metadata": {},
   "outputs": [],
   "source": []
  }
 ],
 "metadata": {
  "kernelspec": {
   "display_name": "Python 3 (ipykernel)",
   "language": "python",
   "name": "python3"
  },
  "language_info": {
   "codemirror_mode": {
    "name": "ipython",
    "version": 3
   },
   "file_extension": ".py",
   "mimetype": "text/x-python",
   "name": "python",
   "nbconvert_exporter": "python",
   "pygments_lexer": "ipython3",
   "version": "3.11.3"
  }
 },
 "nbformat": 4,
 "nbformat_minor": 4
}
