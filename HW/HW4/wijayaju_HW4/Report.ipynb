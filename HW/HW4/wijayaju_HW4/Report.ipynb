{
 "cells": [
  {
   "cell_type": "markdown",
   "metadata": {},
   "source": [
    "# Results From Reverse Conway Game of Life Simulations using MPI\n",
    "\n",
    "\n",
    "By: Justin Wijaya"
   ]
  },
  {
   "cell_type": "markdown",
   "metadata": {},
   "source": [
    "*Make sure to have the MPI module loaded before running any of the commands in the notebook.*"
   ]
  },
  {
   "cell_type": "markdown",
   "metadata": {},
   "source": [
    "## Serial Experiment\n",
    "\n",
    "I compiled the serial code on amd20 using the following commands:\n",
    "\n",
    "```\n",
    "!gcc -lm -lpng -c reverseGOL.c\n",
    "!gcc -lm -lpng -c png_util.c\n",
    "!gcc -lm -lpng -o revGOL reverseGOL.o png_util.o\n",
    "```\n",
    "This process is simplified by using the premade makefile (which compiles the other versions of the code as well):"
   ]
  },
  {
   "cell_type": "code",
   "execution_count": 180,
   "metadata": {},
   "outputs": [],
   "source": [
    "# Uncomment to run it directly\n",
    "# !make"
   ]
  },
  {
   "cell_type": "markdown",
   "metadata": {},
   "source": [
    "I ran the code 10 times with \n",
    "```bash\n",
    "for iter in 1 2 3 4 5 6 7 8 9 10;\n",
    "do\n",
    "\tSEED=$iter\n",
    "\ttime ./revGOL cmse2.txt $SEED\n",
    "done\n",
    "```\n",
    "\n",
    "Which is simplified by using the job script and command:"
   ]
  },
  {
   "cell_type": "code",
   "execution_count": 183,
   "metadata": {},
   "outputs": [],
   "source": [
    "# !sbatch job.sb"
   ]
  },
  {
   "cell_type": "markdown",
   "metadata": {},
   "source": [
    "and obtained the following results:"
   ]
  },
  {
   "cell_type": "code",
   "execution_count": 185,
   "metadata": {},
   "outputs": [
    {
     "name": "stdout",
     "output_type": "stream",
     "text": [
      "Best fitness: 274\n",
      "Average runtime: 962.9152 seconds ( 16.05 minutes )\n"
     ]
    }
   ],
   "source": [
    "import numpy as np\n",
    "import matplotlib.pyplot as plt\n",
    "%matplotlib inline\n",
    "\n",
    "best1 = 274\n",
    "times = [951.442,952.740,1037.567,956.013,952.705,956.509,956.449,958.304,956.321,951.102]\n",
    "print(\"Best fitness:\",best1)\n",
    "print(\"Average runtime:\",np.average(times),\"seconds (\",np.round(np.average(times)/60,2),\"minutes )\")"
   ]
  },
  {
   "cell_type": "markdown",
   "metadata": {},
   "source": [
    "## Pleasantly Parallel Experiment\n",
    "\n",
    "Using a job script, I ran the program on 50 CPUs using a simple job array.\n",
    "\n",
    "This process can be replicated by running the following command:"
   ]
  },
  {
   "cell_type": "code",
   "execution_count": 189,
   "metadata": {},
   "outputs": [],
   "source": [
    "# !sbatch job_array.sb"
   ]
  },
  {
   "cell_type": "markdown",
   "metadata": {},
   "source": [
    "And obtained the following results:"
   ]
  },
  {
   "cell_type": "code",
   "execution_count": 191,
   "metadata": {},
   "outputs": [
    {
     "name": "stdout",
     "output_type": "stream",
     "text": [
      "Best fitness: 256\n",
      "Runtime: 921.994 seconds\n"
     ]
    }
   ],
   "source": [
    "best2 = 256\n",
    "print(\"Best fitness:\",best2)\n",
    "print(\"Runtime:\",921.994,\"seconds\")"
   ]
  },
  {
   "cell_type": "markdown",
   "metadata": {},
   "source": [
    "## Consolidated MPI Experiment (part one)\n",
    "\n",
    "I modified the end of the program to have workers share their best result with the lead worker (rank == 0) and then have the lead worker print out the overall best result to the screen.\n",
    "\n",
    "This process can be replicated by running the following command:"
   ]
  },
  {
   "cell_type": "code",
   "execution_count": 195,
   "metadata": {},
   "outputs": [],
   "source": [
    "# !sbatch basic_mpi_job.sb"
   ]
  },
  {
   "cell_type": "markdown",
   "metadata": {},
   "source": [
    "And obtained the following results:"
   ]
  },
  {
   "cell_type": "code",
   "execution_count": 198,
   "metadata": {},
   "outputs": [
    {
     "name": "stdout",
     "output_type": "stream",
     "text": [
      "Best fitness: 287\n",
      "Runtime: 765.276 seconds\n"
     ]
    }
   ],
   "source": [
    "best3 = 287\n",
    "print(\"Best fitness:\",best3)\n",
    "print(\"Runtime:\",765.276,\"seconds\")"
   ]
  },
  {
   "cell_type": "markdown",
   "metadata": {},
   "source": [
    "##  Sharing MPI Experiment (part two)\n",
    "\n",
    "I modified the program after each generation and before the mutation to make a worker share its best result so far with its neighbor (using round robin). It replaces the current best with its neighbors if the neighbor's fitness score is better, and sets its former best as second best.\n",
    "\n",
    "This process can be replicated by running the following command:"
   ]
  },
  {
   "cell_type": "code",
   "execution_count": 201,
   "metadata": {},
   "outputs": [],
   "source": [
    "# !sbatch mpi_job.sb"
   ]
  },
  {
   "cell_type": "markdown",
   "metadata": {},
   "source": [
    "And obtained the following results:"
   ]
  },
  {
   "cell_type": "code",
   "execution_count": 204,
   "metadata": {},
   "outputs": [
    {
     "name": "stdout",
     "output_type": "stream",
     "text": [
      "Best fitness: 284\n",
      "Runtime: 20.968 seconds\n"
     ]
    }
   ],
   "source": [
    "best4 = 284\n",
    "print(\"Best fitness:\",best4)\n",
    "print(\"Runtime:\",20.968,\"seconds\")"
   ]
  },
  {
   "cell_type": "code",
   "execution_count": 206,
   "metadata": {},
   "outputs": [
    {
     "data": {
      "image/png": "[encoded data removed]",
      "text/plain": [
       "<Figure size 640x480 with 1 Axes>"
      ]
     },
     "metadata": {},
     "output_type": "display_data"
    }
   ],
   "source": [
    "plt.title(\"Runtimes\")\n",
    "plt.bar('Serial',np.average(times))\n",
    "plt.bar('Pleasantly Parallel',921.994)\n",
    "plt.bar('Consolidated MPI',765.276)\n",
    "plt.bar('Sharing MPI',20.968)\n",
    "plt.ylabel('Time (seconds)')\n",
    "plt.show()"
   ]
  },
  {
   "cell_type": "code",
   "execution_count": 208,
   "metadata": {},
   "outputs": [
    {
     "data": {
      "image/png": "[encoded data removed]",
      "text/plain": [
       "<Figure size 640x480 with 1 Axes>"
      ]
     },
     "metadata": {},
     "output_type": "display_data"
    }
   ],
   "source": [
    "plt.title(\"Fitness Scores (Lower = Better)\")\n",
    "plt.bar('Serial',best1)\n",
    "plt.bar('Pleasantly Parallel',best2)\n",
    "plt.bar('Consolidated MPI',best3)\n",
    "plt.bar('Sharing MPI',best4)\n",
    "plt.ylabel('Score')\n",
    "plt.show()"
   ]
  },
  {
   "cell_type": "markdown",
   "metadata": {},
   "source": [
    "The runtimes displayed are expected (speedup with every modfication). However, the fitness scores were surprising. It appears that the utilization of MPI has caused the resulting 'best' fitness scores to be higher than when using serial code."
   ]
  },
  {
   "cell_type": "markdown",
   "metadata": {},
   "source": [
    "## Concluding Discussion\n",
    "\n",
    "Describe what you learned during this process, what worked, what didn't work, where did you have trouble and what you learned"
   ]
  },
  {
   "cell_type": "markdown",
   "metadata": {},
   "source": [
    "- I learned that though the utilization of MPI makes the program run way faster (~20 seconds as opposed to the serial ~16 minutes), it may not output the most accurate result (though the idea that it's simply an implementation error is not unreasonable).\n",
    "    - In short, there is a tradeoff in computation time and accuracy when parallelizing.\n",
    "- What worked was chunking the process so that one worker is focused on working on a chunk of the generations as opposed to having every worker run the entire process.\n",
    "- What didn't work was as mentioned before; having every worker run the same process and comparing fitness scores afterwards. That led to a slowdown in its runtime.\n",
    "- I had trouble in understanding where to implement MPI in the serial code. Through a deeper dive into what exactly the code is doing, I found that implementing MPI became way easier when armed with that knowledge."
   ]
  },
  {
   "cell_type": "markdown",
   "metadata": {},
   "source": [
    "----"
   ]
  }
 ],
 "metadata": {
  "kernelspec": {
   "display_name": "Python [conda env:base] *",
   "language": "python",
   "name": "conda-base-py"
  },
  "language_info": {
   "codemirror_mode": {
    "name": "ipython",
    "version": 3
   },
   "file_extension": ".py",
   "mimetype": "text/x-python",
   "name": "python",
   "nbconvert_exporter": "python",
   "pygments_lexer": "ipython3",
   "version": "3.12.7"
  }
 },
 "nbformat": 4,
 "nbformat_minor": 4
}
