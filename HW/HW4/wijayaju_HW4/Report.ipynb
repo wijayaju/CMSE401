{
 "cells": [
  {
   "cell_type": "markdown",
   "metadata": {},
   "source": [
    "# Results From Reverse Conway Game of Life Simulations using MPI\n",
    "\n",
    "\n",
    "By: Justin Wijaya"
   ]
  },
  {
   "cell_type": "markdown",
   "metadata": {},
   "source": [
    "*Make sure to have the MPI module loaded before running any of the commands in the notebook.*"
   ]
  },
  {
   "cell_type": "markdown",
   "metadata": {},
   "source": [
    "## Serial Experiment\n",
    "\n",
    "I compiled the serial code on amd20 using the following commands:\n",
    "\n",
    "```\n",
    "!gcc -lm -lpng -c reverseGOL.c\n",
    "!gcc -lm -lpng -c png_util.c\n",
    "!gcc -lm -lpng -o revGOL reverseGOL.o png_util.o\n",
    "```\n",
    "This process is simplified by using the premade makefile (which compiles the other versions of the code as well):"
   ]
  },
  {
   "cell_type": "code",
   "execution_count": 98,
   "metadata": {},
   "outputs": [],
   "source": [
    "# Uncomment to run it directly\n",
    "# !make"
   ]
  },
  {
   "cell_type": "markdown",
   "metadata": {},
   "source": [
    "I ran the code 10 times with \n",
    "```bash\n",
    "for iter in 1 2 3 4 5 6 7 8 9 10;\n",
    "do\n",
    "\tSEED=$iter\n",
    "\ttime ./revGOL cmse2.txt $SEED\n",
    "done\n",
    "```\n",
    "\n",
    "Which is simplified by using the job script and command:"
   ]
  },
  {
   "cell_type": "code",
   "execution_count": 100,
   "metadata": {},
   "outputs": [],
   "source": [
    "# !sbatch job.sb"
   ]
  },
  {
   "cell_type": "markdown",
   "metadata": {},
   "source": [
    "and obtained the following results:"
   ]
  },
  {
   "cell_type": "code",
   "execution_count": 118,
   "metadata": {},
   "outputs": [
    {
     "name": "stdout",
     "output_type": "stream",
     "text": [
      "Best fitness: 274\n",
      "Average runtime: 962.9152 seconds ( 16.05 minutes )\n"
     ]
    }
   ],
   "source": [
    "import numpy as np\n",
    "import matplotlib.pyplot as plt\n",
    "%matplotlib inline\n",
    "\n",
    "best1 = 274\n",
    "times = [951.442,952.740,1037.567,956.013,952.705,956.509,956.449,958.304,956.321,951.102]\n",
    "print(\"Best fitness:\",best1)\n",
    "print(\"Average runtime:\",np.average(times),\"seconds (\",np.round(np.average(times)/60,2),\"minutes )\")"
   ]
  },
  {
   "cell_type": "markdown",
   "metadata": {},
   "source": [
    "## Pleasantly Parallel Experiment\n",
    "\n",
    "Using a job script, I ran the program on 50 CPUs using a simple job array.\n",
    "\n",
    "This process can be replicated by running the following command:"
   ]
  },
  {
   "cell_type": "code",
   "execution_count": 102,
   "metadata": {},
   "outputs": [],
   "source": [
    "# !sbatch job_array.sb"
   ]
  },
  {
   "cell_type": "markdown",
   "metadata": {},
   "source": [
    "And obtained the following results:"
   ]
  },
  {
   "cell_type": "code",
   "execution_count": 120,
   "metadata": {},
   "outputs": [
    {
     "name": "stdout",
     "output_type": "stream",
     "text": [
      "Best fitness: 256\n"
     ]
    }
   ],
   "source": [
    "best2 = 256\n",
    "print(\"Best fitness:\",best2)"
   ]
  },
  {
   "cell_type": "markdown",
   "metadata": {},
   "source": [
    "## Consolidated MPI Experiment (part one)\n",
    "\n",
    "I modified the end of the program to have workers share their best result with the lead worker (rank == 0) and then have the lead worker print out the overall best result to the screen.\n",
    "\n",
    "This process can be replicated by running the following command:"
   ]
  },
  {
   "cell_type": "code",
   "execution_count": 104,
   "metadata": {},
   "outputs": [],
   "source": [
    "# !sbatch basic_mpi_job.sb"
   ]
  },
  {
   "cell_type": "markdown",
   "metadata": {},
   "source": [
    "And obtained the following results:"
   ]
  },
  {
   "cell_type": "code",
   "execution_count": 73,
   "metadata": {},
   "outputs": [
    {
     "ename": "SyntaxError",
     "evalue": "invalid syntax (435220545.py, line 1)",
     "output_type": "error",
     "traceback": [
      "\u001b[0;36m  Cell \u001b[0;32mIn[73], line 1\u001b[0;36m\u001b[0m\n\u001b[0;31m    best2 = pass\u001b[0m\n\u001b[0m            ^\u001b[0m\n\u001b[0;31mSyntaxError\u001b[0m\u001b[0;31m:\u001b[0m invalid syntax\n"
     ]
    }
   ],
   "source": [
    "best3 = pass\n",
    "print(\"Best fitness:\",best3)"
   ]
  },
  {
   "cell_type": "markdown",
   "metadata": {},
   "source": [
    "##  Sharing MPI Experiment (part two)\n",
    "\n",
    "I modified the program after each generation and before the mutation to make a worker share its best result so far with its neighbor (using round robin). It replaces the current best with its neighbors if the neighbor's fitness score is better, and sets its former best as second best.\n",
    "\n",
    "This process can be replicated by running the following command:"
   ]
  },
  {
   "cell_type": "code",
   "execution_count": 106,
   "metadata": {},
   "outputs": [],
   "source": [
    "# !sbatch mpi_job.sb"
   ]
  },
  {
   "cell_type": "markdown",
   "metadata": {},
   "source": [
    "And obtained the following results:"
   ]
  },
  {
   "cell_type": "code",
   "execution_count": null,
   "metadata": {},
   "outputs": [],
   "source": [
    "best4 = pass\n",
    "print(\"Best fitness:\",best4)"
   ]
  },
  {
   "cell_type": "code",
   "execution_count": 129,
   "metadata": {},
   "outputs": [
    {
     "data": {
      "image/png": "[encoded data removed]",
      "text/plain": [
       "<Figure size 640x480 with 1 Axes>"
      ]
     },
     "metadata": {},
     "output_type": "display_data"
    }
   ],
   "source": [
    "plt.title(\"Fitness Scores\")\n",
    "plt.bar('Serial',best1)\n",
    "plt.bar('Pleasantly Parallel',best2)\n",
    "plt.bar('Consolidated MPI',best3)\n",
    "plt.bar('Sharing MPI',best4)\n",
    "plt.show()"
   ]
  },
  {
   "cell_type": "markdown",
   "metadata": {},
   "source": [
    "## Concluding Discussion\n",
    "\n",
    "Describe what you learned during this process, what worked, what didn't work, where did you have trouble and what you learned"
   ]
  },
  {
   "cell_type": "markdown",
   "metadata": {},
   "source": [
    "- "
   ]
  },
  {
   "cell_type": "markdown",
   "metadata": {},
   "source": [
    "----"
   ]
  },
  {
   "cell_type": "code",
   "execution_count": null,
   "metadata": {},
   "outputs": [],
   "source": []
  }
 ],
 "metadata": {
  "kernelspec": {
   "display_name": "Python [conda env:base] *",
   "language": "python",
   "name": "conda-base-py"
  },
  "language_info": {
   "codemirror_mode": {
    "name": "ipython",
    "version": 3
   },
   "file_extension": ".py",
   "mimetype": "text/x-python",
   "name": "python",
   "nbconvert_exporter": "python",
   "pygments_lexer": "ipython3",
   "version": "3.12.7"
  }
 },
 "nbformat": 4,
 "nbformat_minor": 4
}
